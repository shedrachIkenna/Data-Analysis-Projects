{
 "cells": [
  {
   "cell_type": "markdown",
   "id": "5ccb6855",
   "metadata": {},
   "source": [
    "# Financial Analysis "
   ]
  },
  {
   "cell_type": "markdown",
   "id": "c88c7bba",
   "metadata": {},
   "source": [
    "## Import pandas which I used to read the bank statement dataset"
   ]
  },
  {
   "cell_type": "code",
   "execution_count": null,
   "id": "a366284b",
   "metadata": {},
   "outputs": [],
   "source": [
    "import pandas as pd\n",
    "import numpy as np\n",
    "import plotly.express as px\n",
    "import matplotlib.pyplot as plt\n",
    "df = pd.read_csv(r\"C:\\Users\\DELL\\Desktop\\DataSets\\Zenith_Bank_Statement.csv\")"
   ]
  },
  {
   "cell_type": "markdown",
   "id": "44741dbb",
   "metadata": {},
   "source": [
    "## Get information about the number of rows and columns"
   ]
  },
  {
   "cell_type": "code",
   "execution_count": 58,
   "id": "4ffa2182",
   "metadata": {},
   "outputs": [
    {
     "data": {
      "text/plain": [
       "(262, 6)"
      ]
     },
     "execution_count": 58,
     "metadata": {},
     "output_type": "execute_result"
    }
   ],
   "source": [
    "df.shape"
   ]
  },
  {
   "cell_type": "markdown",
   "id": "579b0eec",
   "metadata": {},
   "source": [
    "## View duplicates"
   ]
  },
  {
   "cell_type": "code",
   "execution_count": 59,
   "id": "85439652",
   "metadata": {},
   "outputs": [
    {
     "data": {
      "text/html": [
       "<div>\n",
       "<style scoped>\n",
       "    .dataframe tbody tr th:only-of-type {\n",
       "        vertical-align: middle;\n",
       "    }\n",
       "\n",
       "    .dataframe tbody tr th {\n",
       "        vertical-align: top;\n",
       "    }\n",
       "\n",
       "    .dataframe thead th {\n",
       "        text-align: right;\n",
       "    }\n",
       "</style>\n",
       "<table border=\"1\" class=\"dataframe\">\n",
       "  <thead>\n",
       "    <tr style=\"text-align: right;\">\n",
       "      <th></th>\n",
       "      <th>DATE</th>\n",
       "      <th>DESCRIPTION</th>\n",
       "      <th>DEBIT</th>\n",
       "      <th>CREDIT</th>\n",
       "      <th>VALUE DATE</th>\n",
       "      <th>BALANCE</th>\n",
       "    </tr>\n",
       "  </thead>\n",
       "  <tbody>\n",
       "    <tr>\n",
       "      <th>89</th>\n",
       "      <td>18/02/2023</td>\n",
       "      <td>NIP CR/MOB/AYOKANMI TEMITOPE\\nJIMOH/OPAY/Sheddy</td>\n",
       "      <td>1850.00</td>\n",
       "      <td>NaN</td>\n",
       "      <td>18/02/2023</td>\n",
       "      <td>18260.87</td>\n",
       "    </tr>\n",
       "    <tr>\n",
       "      <th>90</th>\n",
       "      <td>18/02/2023</td>\n",
       "      <td>NIP Charge + VAT</td>\n",
       "      <td>10.75</td>\n",
       "      <td>NaN</td>\n",
       "      <td>18/02/2023</td>\n",
       "      <td>18250.12</td>\n",
       "    </tr>\n",
       "    <tr>\n",
       "      <th>93</th>\n",
       "      <td>18/02/2023</td>\n",
       "      <td>NIP CR/MOB/AYOKANMI TEMITOPE\\nJIMOH/OPAY/Sheddy</td>\n",
       "      <td>1850.00</td>\n",
       "      <td>NaN</td>\n",
       "      <td>18/02/2023</td>\n",
       "      <td>18260.87</td>\n",
       "    </tr>\n",
       "    <tr>\n",
       "      <th>94</th>\n",
       "      <td>18/02/2023</td>\n",
       "      <td>NIP Charge + VAT</td>\n",
       "      <td>10.75</td>\n",
       "      <td>NaN</td>\n",
       "      <td>18/02/2023</td>\n",
       "      <td>18250.12</td>\n",
       "    </tr>\n",
       "  </tbody>\n",
       "</table>\n",
       "</div>"
      ],
      "text/plain": [
       "          DATE                                      DESCRIPTION    DEBIT  \\\n",
       "89  18/02/2023  NIP CR/MOB/AYOKANMI TEMITOPE\\nJIMOH/OPAY/Sheddy  1850.00   \n",
       "90  18/02/2023                                 NIP Charge + VAT    10.75   \n",
       "93  18/02/2023  NIP CR/MOB/AYOKANMI TEMITOPE\\nJIMOH/OPAY/Sheddy  1850.00   \n",
       "94  18/02/2023                                 NIP Charge + VAT    10.75   \n",
       "\n",
       "    CREDIT  VALUE DATE   BALANCE  \n",
       "89     NaN  18/02/2023  18260.87  \n",
       "90     NaN  18/02/2023  18250.12  \n",
       "93     NaN  18/02/2023  18260.87  \n",
       "94     NaN  18/02/2023  18250.12  "
      ]
     },
     "execution_count": 59,
     "metadata": {},
     "output_type": "execute_result"
    }
   ],
   "source": [
    "df[df.duplicated(keep=False)]"
   ]
  },
  {
   "cell_type": "markdown",
   "id": "233b9cf6",
   "metadata": {},
   "source": [
    "## Drop duplicates"
   ]
  },
  {
   "cell_type": "code",
   "execution_count": 60,
   "id": "938fe137",
   "metadata": {},
   "outputs": [],
   "source": [
    "df = df.drop_duplicates()"
   ]
  },
  {
   "cell_type": "markdown",
   "id": "d4c7f3d1",
   "metadata": {},
   "source": [
    "## Get information about the datatypes of each columns and number of null values in each columns"
   ]
  },
  {
   "cell_type": "code",
   "execution_count": 61,
   "id": "56211bca",
   "metadata": {},
   "outputs": [
    {
     "name": "stdout",
     "output_type": "stream",
     "text": [
      "<class 'pandas.core.frame.DataFrame'>\n",
      "Int64Index: 260 entries, 0 to 261\n",
      "Data columns (total 6 columns):\n",
      " #   Column       Non-Null Count  Dtype  \n",
      "---  ------       --------------  -----  \n",
      " 0   DATE         260 non-null    object \n",
      " 1   DESCRIPTION  260 non-null    object \n",
      " 2   DEBIT        222 non-null    float64\n",
      " 3   CREDIT       38 non-null     float64\n",
      " 4   VALUE DATE   260 non-null    object \n",
      " 5   BALANCE      260 non-null    float64\n",
      "dtypes: float64(3), object(3)\n",
      "memory usage: 14.2+ KB\n"
     ]
    }
   ],
   "source": [
    "df.info()"
   ]
  },
  {
   "cell_type": "markdown",
   "id": "5658baa0",
   "metadata": {},
   "source": [
    "## Convert columns headers to lowercase\n",
    "\n",
    "- This is a personal preference \n",
    "- Also convert description to lower case "
   ]
  },
  {
   "cell_type": "code",
   "execution_count": 62,
   "id": "e45f3a11",
   "metadata": {},
   "outputs": [],
   "source": [
    "df_main = df.copy()"
   ]
  },
  {
   "cell_type": "code",
   "execution_count": 83,
   "id": "40e7c044",
   "metadata": {},
   "outputs": [],
   "source": [
    "df_main.columns = df_main.columns.str.lower() # Converts all column headers to lower case\n",
    "\n",
    "df_main['description'] = df_main['description'].map(str.lower) #converts description column to lower case\n"
   ]
  },
  {
   "cell_type": "markdown",
   "id": "af62a57e",
   "metadata": {},
   "source": [
    "## Convert date and  columns to date data type"
   ]
  },
  {
   "cell_type": "code",
   "execution_count": 84,
   "id": "6915dd75",
   "metadata": {},
   "outputs": [],
   "source": [
    "df_main['date'] = pd.to_datetime(df_main['date'], format='%d/%m/%Y')\n",
    "df_main['value date'] = pd.to_datetime(df_main['value date'], format='%d/%m/%Y')"
   ]
  },
  {
   "cell_type": "markdown",
   "id": "1066e970",
   "metadata": {},
   "source": [
    "## Replace all NaN in debit and credit columns with 0"
   ]
  },
  {
   "cell_type": "code",
   "execution_count": 85,
   "id": "4d1ff5da",
   "metadata": {},
   "outputs": [],
   "source": [
    "df_main[['debit', 'credit']] = df_main[['debit', 'credit']].fillna(0)"
   ]
  },
  {
   "cell_type": "markdown",
   "id": "f88b7d6b",
   "metadata": {},
   "source": [
    "## Create a category column to categorize each transaction"
   ]
  },
  {
   "cell_type": "code",
   "execution_count": 66,
   "id": "6027746d",
   "metadata": {},
   "outputs": [],
   "source": [
    "df_main['category'] = 'miscellaneous'"
   ]
  },
  {
   "cell_type": "markdown",
   "id": "8263eac3",
   "metadata": {},
   "source": [
    "#### Define all categories\n",
    "\n",
    "- Bank Charges\n",
    "- Airtime\n",
    "- Eat outs\n",
    "- Miscellaneous\n",
    "- Rent\n",
    "- Electric bills\n",
    "- My baby\n",
    "- Dt\n",
    "- Selfcare"
   ]
  },
  {
   "cell_type": "code",
   "execution_count": 67,
   "id": "5a94ec10",
   "metadata": {},
   "outputs": [],
   "source": [
    "df_main['amount'] = df_main['credit'] - df_main['debit']"
   ]
  },
  {
   "cell_type": "code",
   "execution_count": 86,
   "id": "99437bd1",
   "metadata": {},
   "outputs": [],
   "source": [
    "\n",
    "pd.options.display.max_rows = 265\n",
    "\n",
    "\n",
    "# Bank Charge\n",
    "\n",
    "df_main['category'] = np.where(df_main['description'].str.contains(\n",
    "    'vat|electronic money transfer levy|sms notification charge|sms notification charge|visa card maintenance fee'), \n",
    "    'Bank charge', df_main['category'] )\n",
    "    \n",
    "# Airtime\n",
    "\n",
    "df_main['category'] = np.where(df_main['description'].str.contains(\n",
    "    'mtn|airtel|9mobile|08039646573'), \n",
    "    'Airtime', df_main['category'] )\n",
    "                               \n",
    "#Eat Outs\n",
    "\n",
    "df_main['category'] = np.where(df_main['description'].str.contains(\n",
    "    'yum delivery|yum\\ndelivery|hasina confectionery|stone\\ncastlerestaurant|/henry\\nadebayo/fcmb/sheddy'), \n",
    "    'Eat outs', df_main['category'] )\n",
    "\n",
    "#SelfCare\n",
    "\n",
    "df_main['category'] = np.where(df_main['description'].str.contains(\n",
    "    'chukwubueze paschal\\nugwumba/opay|paystack|chukwubueze paschal|abdulsamad ayobami|chikwendu|ibrahim yakubu'), \n",
    "    'Selfcare', df_main['category'] )\n",
    "\n",
    "#My_Gomoney\n",
    "\n",
    "df_main['category'] = np.where(df_main['description'].str.contains(\n",
    "    'shedrach\\nnwali/gomon|ikenna\\nshedrach/kuda|gomon'), \n",
    "    'Digital Wallets', df_main['category'] )\n",
    "\n",
    "#My baby\n",
    "\n",
    "df_main['category'] = np.where(df_main['description'].str.contains(\n",
    "    'yunusa sarah\\njenebu/gtb|yunusa sarah jenebu|khadija/gtb|jenebu'), \n",
    "    'My baby', df_main['category'] )\n",
    "\n",
    "# DT\n",
    "\n",
    "df_main['category'] = np.where(df_main['description'].str.contains(\n",
    "    'daniel tolani|olorunyomi'), \n",
    "    'DT', df_main['category'] )\n",
    "\n",
    "# Enike\n",
    "\n",
    "df_main['category'] = np.where(df_main['description'].str.contains(\n",
    "    'enike braimoh|enike\\nbraimoh'), \n",
    "    'enike braimoh', df_main['category'] )\n",
    "\n",
    "# Mom\n",
    "\n",
    "df_main['category'] = np.where(df_main['description'].str.contains(\n",
    "    'blessing\\nnwali|blessing nwali'), \n",
    "    'Mom', df_main['category'] )\n",
    "\n",
    "# Aunty Helen\n",
    "\n",
    "df_main['category'] = np.where(df_main['description'].str.contains(\n",
    "    'helen chicka'), \n",
    "    'Aunty Helen', df_main['category'] )\n",
    "\n",
    "\n",
    "# Dad\n",
    "\n",
    "df_main['category'] = np.where(df_main['description'].str.contains(\n",
    "    'nwali\\nedwin'), \n",
    "    'Dad', df_main['category'] )\n",
    "\n",
    "\n",
    "# Rent\n",
    "\n",
    "df_main['category'] = np.where(df_main['description'].str.contains(\n",
    "    'ibrahim sule'), \n",
    "    'Rent', df_main['category'] )\n",
    "\n",
    "# Cash deposit\n",
    "\n",
    "df_main['category'] = np.where(df_main['description'].str.contains(\n",
    "    'shago-//tunde'), \n",
    "    'Cash deposit', df_main['category'] )\n",
    "\n",
    "# Side business\n",
    "\n",
    "df_main['category'] = np.where(df_main['description'].str.contains(\n",
    "    'rolez/baxi---/bax_trsf_|nip/capri/cdl|/capri/cdl/copper|usaini nasiru|onyedika elias|cash/trf/045rnbe02251681035150766'), \n",
    "    'Day Job', df_main['category'] )\n",
    "\n",
    "# Fines\n",
    "\n",
    "df_main['category'] = np.where(df_main['description'].str.contains(\n",
    "    'george imeiba'), \n",
    "    'Fines & Dues', df_main['category'] )\n",
    "\n",
    "# Caleb\n",
    "\n",
    "df_main['category'] = np.where(df_main['description'].str.contains(\n",
    "    'caleb amowomani'), \n",
    "    'caleb', df_main['category'] )\n",
    "\n"
   ]
  },
  {
   "cell_type": "markdown",
   "id": "e4833b3e",
   "metadata": {},
   "source": [
    "#### Extract day of the week from the date column"
   ]
  },
  {
   "cell_type": "code",
   "execution_count": 69,
   "id": "b3e31a54",
   "metadata": {},
   "outputs": [],
   "source": [
    "df_main['day'] = df_main['date'].dt.strftime('%A')"
   ]
  },
  {
   "cell_type": "markdown",
   "id": "463612a9",
   "metadata": {},
   "source": [
    "#### Extract month of the year from the date column"
   ]
  },
  {
   "cell_type": "code",
   "execution_count": 70,
   "id": "3db6efb2",
   "metadata": {},
   "outputs": [],
   "source": [
    "\n",
    "df_main['month'] = df_main['date'].dt.strftime('%B')"
   ]
  },
  {
   "cell_type": "markdown",
   "id": "5d42c440",
   "metadata": {},
   "source": [
    "### What days of the week do I spend more\n",
    "\n",
    "- Group the data by the day column and calculate the total debit amout for each day\n"
   ]
  },
  {
   "cell_type": "code",
   "execution_count": 71,
   "id": "24cdca3b",
   "metadata": {},
   "outputs": [],
   "source": [
    "day_debits_total = df_main.groupby('day')['debit'].sum()"
   ]
  },
  {
   "cell_type": "code",
   "execution_count": 72,
   "id": "122d1f57",
   "metadata": {},
   "outputs": [
    {
     "data": {
      "text/plain": [
       "day\n",
       "Friday       126072.01\n",
       "Monday        81347.77\n",
       "Saturday      27269.38\n",
       "Sunday        92422.53\n",
       "Thursday      24382.63\n",
       "Tuesday      121447.27\n",
       "Wednesday     61731.15\n",
       "Name: debit, dtype: float64"
      ]
     },
     "execution_count": 72,
     "metadata": {},
     "output_type": "execute_result"
    }
   ],
   "source": [
    "day_debits_total"
   ]
  },
  {
   "cell_type": "markdown",
   "id": "96a5d83a",
   "metadata": {},
   "source": [
    "- Sort the days based on the total debit amount in descending order"
   ]
  },
  {
   "cell_type": "code",
   "execution_count": 73,
   "id": "28bddad7",
   "metadata": {},
   "outputs": [
    {
     "data": {
      "text/html": [
       "<div>\n",
       "<style scoped>\n",
       "    .dataframe tbody tr th:only-of-type {\n",
       "        vertical-align: middle;\n",
       "    }\n",
       "\n",
       "    .dataframe tbody tr th {\n",
       "        vertical-align: top;\n",
       "    }\n",
       "\n",
       "    .dataframe thead th {\n",
       "        text-align: right;\n",
       "    }\n",
       "</style>\n",
       "<table border=\"1\" class=\"dataframe\">\n",
       "  <thead>\n",
       "    <tr style=\"text-align: right;\">\n",
       "      <th></th>\n",
       "      <th>day</th>\n",
       "      <th>debit</th>\n",
       "    </tr>\n",
       "  </thead>\n",
       "  <tbody>\n",
       "    <tr>\n",
       "      <th>0</th>\n",
       "      <td>Friday</td>\n",
       "      <td>126072.01</td>\n",
       "    </tr>\n",
       "    <tr>\n",
       "      <th>1</th>\n",
       "      <td>Tuesday</td>\n",
       "      <td>121447.27</td>\n",
       "    </tr>\n",
       "    <tr>\n",
       "      <th>2</th>\n",
       "      <td>Sunday</td>\n",
       "      <td>92422.53</td>\n",
       "    </tr>\n",
       "    <tr>\n",
       "      <th>3</th>\n",
       "      <td>Monday</td>\n",
       "      <td>81347.77</td>\n",
       "    </tr>\n",
       "    <tr>\n",
       "      <th>4</th>\n",
       "      <td>Wednesday</td>\n",
       "      <td>61731.15</td>\n",
       "    </tr>\n",
       "    <tr>\n",
       "      <th>5</th>\n",
       "      <td>Saturday</td>\n",
       "      <td>27269.38</td>\n",
       "    </tr>\n",
       "    <tr>\n",
       "      <th>6</th>\n",
       "      <td>Thursday</td>\n",
       "      <td>24382.63</td>\n",
       "    </tr>\n",
       "  </tbody>\n",
       "</table>\n",
       "</div>"
      ],
      "text/plain": [
       "         day      debit\n",
       "0     Friday  126072.01\n",
       "1    Tuesday  121447.27\n",
       "2     Sunday   92422.53\n",
       "3     Monday   81347.77\n",
       "4  Wednesday   61731.15\n",
       "5   Saturday   27269.38\n",
       "6   Thursday   24382.63"
      ]
     },
     "execution_count": 73,
     "metadata": {},
     "output_type": "execute_result"
    }
   ],
   "source": [
    "sorted_days = day_debits_total.sort_values(ascending=False).reset_index()\n",
    "sorted_days"
   ]
  },
  {
   "cell_type": "code",
   "execution_count": 74,
   "id": "15215eb6",
   "metadata": {},
   "outputs": [
    {
     "data": {
      "application/vnd.plotly.v1+json": {
       "config": {
        "plotlyServerURL": "https://plot.ly"
       },
       "data": [
        {
         "alignmentgroup": "True",
         "hovertemplate": "Day of the Week=%{x}<br>Total Debit Amount=%{text}<extra></extra>",
         "insidetextanchor": "start",
         "legendgroup": "",
         "marker": {
          "color": "#636efa",
          "pattern": {
           "shape": ""
          }
         },
         "name": "",
         "offsetgroup": "",
         "orientation": "v",
         "showlegend": false,
         "text": [
          126072.01,
          121447.26999999999,
          92422.53,
          81347.77,
          61731.15,
          27269.38,
          24382.63
         ],
         "textposition": "outside",
         "texttemplate": "%{text:.2f}",
         "type": "bar",
         "x": [
          "Friday",
          "Tuesday",
          "Sunday",
          "Monday",
          "Wednesday",
          "Saturday",
          "Thursday"
         ],
         "xaxis": "x",
         "y": [
          126072.01,
          121447.26999999999,
          92422.53,
          81347.77,
          61731.15,
          27269.38,
          24382.63
         ],
         "yaxis": "y"
        }
       ],
       "layout": {
        "barmode": "relative",
        "legend": {
         "tracegroupgap": 0
        },
        "template": {
         "data": {
          "bar": [
           {
            "error_x": {
             "color": "#2a3f5f"
            },
            "error_y": {
             "color": "#2a3f5f"
            },
            "marker": {
             "line": {
              "color": "#E5ECF6",
              "width": 0.5
             },
             "pattern": {
              "fillmode": "overlay",
              "size": 10,
              "solidity": 0.2
             }
            },
            "type": "bar"
           }
          ],
          "barpolar": [
           {
            "marker": {
             "line": {
              "color": "#E5ECF6",
              "width": 0.5
             },
             "pattern": {
              "fillmode": "overlay",
              "size": 10,
              "solidity": 0.2
             }
            },
            "type": "barpolar"
           }
          ],
          "carpet": [
           {
            "aaxis": {
             "endlinecolor": "#2a3f5f",
             "gridcolor": "white",
             "linecolor": "white",
             "minorgridcolor": "white",
             "startlinecolor": "#2a3f5f"
            },
            "baxis": {
             "endlinecolor": "#2a3f5f",
             "gridcolor": "white",
             "linecolor": "white",
             "minorgridcolor": "white",
             "startlinecolor": "#2a3f5f"
            },
            "type": "carpet"
           }
          ],
          "choropleth": [
           {
            "colorbar": {
             "outlinewidth": 0,
             "ticks": ""
            },
            "type": "choropleth"
           }
          ],
          "contour": [
           {
            "colorbar": {
             "outlinewidth": 0,
             "ticks": ""
            },
            "colorscale": [
             [
              0,
              "#0d0887"
             ],
             [
              0.1111111111111111,
              "#46039f"
             ],
             [
              0.2222222222222222,
              "#7201a8"
             ],
             [
              0.3333333333333333,
              "#9c179e"
             ],
             [
              0.4444444444444444,
              "#bd3786"
             ],
             [
              0.5555555555555556,
              "#d8576b"
             ],
             [
              0.6666666666666666,
              "#ed7953"
             ],
             [
              0.7777777777777778,
              "#fb9f3a"
             ],
             [
              0.8888888888888888,
              "#fdca26"
             ],
             [
              1,
              "#f0f921"
             ]
            ],
            "type": "contour"
           }
          ],
          "contourcarpet": [
           {
            "colorbar": {
             "outlinewidth": 0,
             "ticks": ""
            },
            "type": "contourcarpet"
           }
          ],
          "heatmap": [
           {
            "colorbar": {
             "outlinewidth": 0,
             "ticks": ""
            },
            "colorscale": [
             [
              0,
              "#0d0887"
             ],
             [
              0.1111111111111111,
              "#46039f"
             ],
             [
              0.2222222222222222,
              "#7201a8"
             ],
             [
              0.3333333333333333,
              "#9c179e"
             ],
             [
              0.4444444444444444,
              "#bd3786"
             ],
             [
              0.5555555555555556,
              "#d8576b"
             ],
             [
              0.6666666666666666,
              "#ed7953"
             ],
             [
              0.7777777777777778,
              "#fb9f3a"
             ],
             [
              0.8888888888888888,
              "#fdca26"
             ],
             [
              1,
              "#f0f921"
             ]
            ],
            "type": "heatmap"
           }
          ],
          "heatmapgl": [
           {
            "colorbar": {
             "outlinewidth": 0,
             "ticks": ""
            },
            "colorscale": [
             [
              0,
              "#0d0887"
             ],
             [
              0.1111111111111111,
              "#46039f"
             ],
             [
              0.2222222222222222,
              "#7201a8"
             ],
             [
              0.3333333333333333,
              "#9c179e"
             ],
             [
              0.4444444444444444,
              "#bd3786"
             ],
             [
              0.5555555555555556,
              "#d8576b"
             ],
             [
              0.6666666666666666,
              "#ed7953"
             ],
             [
              0.7777777777777778,
              "#fb9f3a"
             ],
             [
              0.8888888888888888,
              "#fdca26"
             ],
             [
              1,
              "#f0f921"
             ]
            ],
            "type": "heatmapgl"
           }
          ],
          "histogram": [
           {
            "marker": {
             "pattern": {
              "fillmode": "overlay",
              "size": 10,
              "solidity": 0.2
             }
            },
            "type": "histogram"
           }
          ],
          "histogram2d": [
           {
            "colorbar": {
             "outlinewidth": 0,
             "ticks": ""
            },
            "colorscale": [
             [
              0,
              "#0d0887"
             ],
             [
              0.1111111111111111,
              "#46039f"
             ],
             [
              0.2222222222222222,
              "#7201a8"
             ],
             [
              0.3333333333333333,
              "#9c179e"
             ],
             [
              0.4444444444444444,
              "#bd3786"
             ],
             [
              0.5555555555555556,
              "#d8576b"
             ],
             [
              0.6666666666666666,
              "#ed7953"
             ],
             [
              0.7777777777777778,
              "#fb9f3a"
             ],
             [
              0.8888888888888888,
              "#fdca26"
             ],
             [
              1,
              "#f0f921"
             ]
            ],
            "type": "histogram2d"
           }
          ],
          "histogram2dcontour": [
           {
            "colorbar": {
             "outlinewidth": 0,
             "ticks": ""
            },
            "colorscale": [
             [
              0,
              "#0d0887"
             ],
             [
              0.1111111111111111,
              "#46039f"
             ],
             [
              0.2222222222222222,
              "#7201a8"
             ],
             [
              0.3333333333333333,
              "#9c179e"
             ],
             [
              0.4444444444444444,
              "#bd3786"
             ],
             [
              0.5555555555555556,
              "#d8576b"
             ],
             [
              0.6666666666666666,
              "#ed7953"
             ],
             [
              0.7777777777777778,
              "#fb9f3a"
             ],
             [
              0.8888888888888888,
              "#fdca26"
             ],
             [
              1,
              "#f0f921"
             ]
            ],
            "type": "histogram2dcontour"
           }
          ],
          "mesh3d": [
           {
            "colorbar": {
             "outlinewidth": 0,
             "ticks": ""
            },
            "type": "mesh3d"
           }
          ],
          "parcoords": [
           {
            "line": {
             "colorbar": {
              "outlinewidth": 0,
              "ticks": ""
             }
            },
            "type": "parcoords"
           }
          ],
          "pie": [
           {
            "automargin": true,
            "type": "pie"
           }
          ],
          "scatter": [
           {
            "fillpattern": {
             "fillmode": "overlay",
             "size": 10,
             "solidity": 0.2
            },
            "type": "scatter"
           }
          ],
          "scatter3d": [
           {
            "line": {
             "colorbar": {
              "outlinewidth": 0,
              "ticks": ""
             }
            },
            "marker": {
             "colorbar": {
              "outlinewidth": 0,
              "ticks": ""
             }
            },
            "type": "scatter3d"
           }
          ],
          "scattercarpet": [
           {
            "marker": {
             "colorbar": {
              "outlinewidth": 0,
              "ticks": ""
             }
            },
            "type": "scattercarpet"
           }
          ],
          "scattergeo": [
           {
            "marker": {
             "colorbar": {
              "outlinewidth": 0,
              "ticks": ""
             }
            },
            "type": "scattergeo"
           }
          ],
          "scattergl": [
           {
            "marker": {
             "colorbar": {
              "outlinewidth": 0,
              "ticks": ""
             }
            },
            "type": "scattergl"
           }
          ],
          "scattermapbox": [
           {
            "marker": {
             "colorbar": {
              "outlinewidth": 0,
              "ticks": ""
             }
            },
            "type": "scattermapbox"
           }
          ],
          "scatterpolar": [
           {
            "marker": {
             "colorbar": {
              "outlinewidth": 0,
              "ticks": ""
             }
            },
            "type": "scatterpolar"
           }
          ],
          "scatterpolargl": [
           {
            "marker": {
             "colorbar": {
              "outlinewidth": 0,
              "ticks": ""
             }
            },
            "type": "scatterpolargl"
           }
          ],
          "scatterternary": [
           {
            "marker": {
             "colorbar": {
              "outlinewidth": 0,
              "ticks": ""
             }
            },
            "type": "scatterternary"
           }
          ],
          "surface": [
           {
            "colorbar": {
             "outlinewidth": 0,
             "ticks": ""
            },
            "colorscale": [
             [
              0,
              "#0d0887"
             ],
             [
              0.1111111111111111,
              "#46039f"
             ],
             [
              0.2222222222222222,
              "#7201a8"
             ],
             [
              0.3333333333333333,
              "#9c179e"
             ],
             [
              0.4444444444444444,
              "#bd3786"
             ],
             [
              0.5555555555555556,
              "#d8576b"
             ],
             [
              0.6666666666666666,
              "#ed7953"
             ],
             [
              0.7777777777777778,
              "#fb9f3a"
             ],
             [
              0.8888888888888888,
              "#fdca26"
             ],
             [
              1,
              "#f0f921"
             ]
            ],
            "type": "surface"
           }
          ],
          "table": [
           {
            "cells": {
             "fill": {
              "color": "#EBF0F8"
             },
             "line": {
              "color": "white"
             }
            },
            "header": {
             "fill": {
              "color": "#C8D4E3"
             },
             "line": {
              "color": "white"
             }
            },
            "type": "table"
           }
          ]
         },
         "layout": {
          "annotationdefaults": {
           "arrowcolor": "#2a3f5f",
           "arrowhead": 0,
           "arrowwidth": 1
          },
          "autotypenumbers": "strict",
          "coloraxis": {
           "colorbar": {
            "outlinewidth": 0,
            "ticks": ""
           }
          },
          "colorscale": {
           "diverging": [
            [
             0,
             "#8e0152"
            ],
            [
             0.1,
             "#c51b7d"
            ],
            [
             0.2,
             "#de77ae"
            ],
            [
             0.3,
             "#f1b6da"
            ],
            [
             0.4,
             "#fde0ef"
            ],
            [
             0.5,
             "#f7f7f7"
            ],
            [
             0.6,
             "#e6f5d0"
            ],
            [
             0.7,
             "#b8e186"
            ],
            [
             0.8,
             "#7fbc41"
            ],
            [
             0.9,
             "#4d9221"
            ],
            [
             1,
             "#276419"
            ]
           ],
           "sequential": [
            [
             0,
             "#0d0887"
            ],
            [
             0.1111111111111111,
             "#46039f"
            ],
            [
             0.2222222222222222,
             "#7201a8"
            ],
            [
             0.3333333333333333,
             "#9c179e"
            ],
            [
             0.4444444444444444,
             "#bd3786"
            ],
            [
             0.5555555555555556,
             "#d8576b"
            ],
            [
             0.6666666666666666,
             "#ed7953"
            ],
            [
             0.7777777777777778,
             "#fb9f3a"
            ],
            [
             0.8888888888888888,
             "#fdca26"
            ],
            [
             1,
             "#f0f921"
            ]
           ],
           "sequentialminus": [
            [
             0,
             "#0d0887"
            ],
            [
             0.1111111111111111,
             "#46039f"
            ],
            [
             0.2222222222222222,
             "#7201a8"
            ],
            [
             0.3333333333333333,
             "#9c179e"
            ],
            [
             0.4444444444444444,
             "#bd3786"
            ],
            [
             0.5555555555555556,
             "#d8576b"
            ],
            [
             0.6666666666666666,
             "#ed7953"
            ],
            [
             0.7777777777777778,
             "#fb9f3a"
            ],
            [
             0.8888888888888888,
             "#fdca26"
            ],
            [
             1,
             "#f0f921"
            ]
           ]
          },
          "colorway": [
           "#636efa",
           "#EF553B",
           "#00cc96",
           "#ab63fa",
           "#FFA15A",
           "#19d3f3",
           "#FF6692",
           "#B6E880",
           "#FF97FF",
           "#FECB52"
          ],
          "font": {
           "color": "#2a3f5f"
          },
          "geo": {
           "bgcolor": "white",
           "lakecolor": "white",
           "landcolor": "#E5ECF6",
           "showlakes": true,
           "showland": true,
           "subunitcolor": "white"
          },
          "hoverlabel": {
           "align": "left"
          },
          "hovermode": "closest",
          "mapbox": {
           "style": "light"
          },
          "paper_bgcolor": "white",
          "plot_bgcolor": "#E5ECF6",
          "polar": {
           "angularaxis": {
            "gridcolor": "white",
            "linecolor": "white",
            "ticks": ""
           },
           "bgcolor": "#E5ECF6",
           "radialaxis": {
            "gridcolor": "white",
            "linecolor": "white",
            "ticks": ""
           }
          },
          "scene": {
           "xaxis": {
            "backgroundcolor": "#E5ECF6",
            "gridcolor": "white",
            "gridwidth": 2,
            "linecolor": "white",
            "showbackground": true,
            "ticks": "",
            "zerolinecolor": "white"
           },
           "yaxis": {
            "backgroundcolor": "#E5ECF6",
            "gridcolor": "white",
            "gridwidth": 2,
            "linecolor": "white",
            "showbackground": true,
            "ticks": "",
            "zerolinecolor": "white"
           },
           "zaxis": {
            "backgroundcolor": "#E5ECF6",
            "gridcolor": "white",
            "gridwidth": 2,
            "linecolor": "white",
            "showbackground": true,
            "ticks": "",
            "zerolinecolor": "white"
           }
          },
          "shapedefaults": {
           "line": {
            "color": "#2a3f5f"
           }
          },
          "ternary": {
           "aaxis": {
            "gridcolor": "white",
            "linecolor": "white",
            "ticks": ""
           },
           "baxis": {
            "gridcolor": "white",
            "linecolor": "white",
            "ticks": ""
           },
           "bgcolor": "#E5ECF6",
           "caxis": {
            "gridcolor": "white",
            "linecolor": "white",
            "ticks": ""
           }
          },
          "title": {
           "x": 0.05
          },
          "xaxis": {
           "automargin": true,
           "gridcolor": "white",
           "linecolor": "white",
           "ticks": "",
           "title": {
            "standoff": 15
           },
           "zerolinecolor": "white",
           "zerolinewidth": 2
          },
          "yaxis": {
           "automargin": true,
           "gridcolor": "white",
           "linecolor": "white",
           "ticks": "",
           "title": {
            "standoff": 15
           },
           "zerolinecolor": "white",
           "zerolinewidth": 2
          }
         }
        },
        "title": {
         "text": "Days with More Debits"
        },
        "xaxis": {
         "anchor": "y",
         "domain": [
          0,
          1
         ],
         "title": {
          "text": "Day of the Week"
         }
        },
        "yaxis": {
         "anchor": "x",
         "domain": [
          0,
          1
         ],
         "title": {
          "text": "Total Debit Amount"
         }
        }
       }
      },
      "text/html": [
       "<div>                            <div id=\"bdb09d92-db91-448a-a235-bb97ea528909\" class=\"plotly-graph-div\" style=\"height:525px; width:100%;\"></div>            <script type=\"text/javascript\">                require([\"plotly\"], function(Plotly) {                    window.PLOTLYENV=window.PLOTLYENV || {};                                    if (document.getElementById(\"bdb09d92-db91-448a-a235-bb97ea528909\")) {                    Plotly.newPlot(                        \"bdb09d92-db91-448a-a235-bb97ea528909\",                        [{\"alignmentgroup\":\"True\",\"hovertemplate\":\"Day of the Week=%{x}<br>Total Debit Amount=%{text}<extra></extra>\",\"legendgroup\":\"\",\"marker\":{\"color\":\"#636efa\",\"pattern\":{\"shape\":\"\"}},\"name\":\"\",\"offsetgroup\":\"\",\"orientation\":\"v\",\"showlegend\":false,\"text\":[126072.01,121447.26999999999,92422.53,81347.77,61731.15,27269.38,24382.63],\"textposition\":\"outside\",\"x\":[\"Friday\",\"Tuesday\",\"Sunday\",\"Monday\",\"Wednesday\",\"Saturday\",\"Thursday\"],\"xaxis\":\"x\",\"y\":[126072.01,121447.26999999999,92422.53,81347.77,61731.15,27269.38,24382.63],\"yaxis\":\"y\",\"type\":\"bar\",\"insidetextanchor\":\"start\",\"texttemplate\":\"%{text:.2f}\"}],                        {\"template\":{\"data\":{\"histogram2dcontour\":[{\"type\":\"histogram2dcontour\",\"colorbar\":{\"outlinewidth\":0,\"ticks\":\"\"},\"colorscale\":[[0.0,\"#0d0887\"],[0.1111111111111111,\"#46039f\"],[0.2222222222222222,\"#7201a8\"],[0.3333333333333333,\"#9c179e\"],[0.4444444444444444,\"#bd3786\"],[0.5555555555555556,\"#d8576b\"],[0.6666666666666666,\"#ed7953\"],[0.7777777777777778,\"#fb9f3a\"],[0.8888888888888888,\"#fdca26\"],[1.0,\"#f0f921\"]]}],\"choropleth\":[{\"type\":\"choropleth\",\"colorbar\":{\"outlinewidth\":0,\"ticks\":\"\"}}],\"histogram2d\":[{\"type\":\"histogram2d\",\"colorbar\":{\"outlinewidth\":0,\"ticks\":\"\"},\"colorscale\":[[0.0,\"#0d0887\"],[0.1111111111111111,\"#46039f\"],[0.2222222222222222,\"#7201a8\"],[0.3333333333333333,\"#9c179e\"],[0.4444444444444444,\"#bd3786\"],[0.5555555555555556,\"#d8576b\"],[0.6666666666666666,\"#ed7953\"],[0.7777777777777778,\"#fb9f3a\"],[0.8888888888888888,\"#fdca26\"],[1.0,\"#f0f921\"]]}],\"heatmap\":[{\"type\":\"heatmap\",\"colorbar\":{\"outlinewidth\":0,\"ticks\":\"\"},\"colorscale\":[[0.0,\"#0d0887\"],[0.1111111111111111,\"#46039f\"],[0.2222222222222222,\"#7201a8\"],[0.3333333333333333,\"#9c179e\"],[0.4444444444444444,\"#bd3786\"],[0.5555555555555556,\"#d8576b\"],[0.6666666666666666,\"#ed7953\"],[0.7777777777777778,\"#fb9f3a\"],[0.8888888888888888,\"#fdca26\"],[1.0,\"#f0f921\"]]}],\"heatmapgl\":[{\"type\":\"heatmapgl\",\"colorbar\":{\"outlinewidth\":0,\"ticks\":\"\"},\"colorscale\":[[0.0,\"#0d0887\"],[0.1111111111111111,\"#46039f\"],[0.2222222222222222,\"#7201a8\"],[0.3333333333333333,\"#9c179e\"],[0.4444444444444444,\"#bd3786\"],[0.5555555555555556,\"#d8576b\"],[0.6666666666666666,\"#ed7953\"],[0.7777777777777778,\"#fb9f3a\"],[0.8888888888888888,\"#fdca26\"],[1.0,\"#f0f921\"]]}],\"contourcarpet\":[{\"type\":\"contourcarpet\",\"colorbar\":{\"outlinewidth\":0,\"ticks\":\"\"}}],\"contour\":[{\"type\":\"contour\",\"colorbar\":{\"outlinewidth\":0,\"ticks\":\"\"},\"colorscale\":[[0.0,\"#0d0887\"],[0.1111111111111111,\"#46039f\"],[0.2222222222222222,\"#7201a8\"],[0.3333333333333333,\"#9c179e\"],[0.4444444444444444,\"#bd3786\"],[0.5555555555555556,\"#d8576b\"],[0.6666666666666666,\"#ed7953\"],[0.7777777777777778,\"#fb9f3a\"],[0.8888888888888888,\"#fdca26\"],[1.0,\"#f0f921\"]]}],\"surface\":[{\"type\":\"surface\",\"colorbar\":{\"outlinewidth\":0,\"ticks\":\"\"},\"colorscale\":[[0.0,\"#0d0887\"],[0.1111111111111111,\"#46039f\"],[0.2222222222222222,\"#7201a8\"],[0.3333333333333333,\"#9c179e\"],[0.4444444444444444,\"#bd3786\"],[0.5555555555555556,\"#d8576b\"],[0.6666666666666666,\"#ed7953\"],[0.7777777777777778,\"#fb9f3a\"],[0.8888888888888888,\"#fdca26\"],[1.0,\"#f0f921\"]]}],\"mesh3d\":[{\"type\":\"mesh3d\",\"colorbar\":{\"outlinewidth\":0,\"ticks\":\"\"}}],\"scatter\":[{\"fillpattern\":{\"fillmode\":\"overlay\",\"size\":10,\"solidity\":0.2},\"type\":\"scatter\"}],\"parcoords\":[{\"type\":\"parcoords\",\"line\":{\"colorbar\":{\"outlinewidth\":0,\"ticks\":\"\"}}}],\"scatterpolargl\":[{\"type\":\"scatterpolargl\",\"marker\":{\"colorbar\":{\"outlinewidth\":0,\"ticks\":\"\"}}}],\"bar\":[{\"error_x\":{\"color\":\"#2a3f5f\"},\"error_y\":{\"color\":\"#2a3f5f\"},\"marker\":{\"line\":{\"color\":\"#E5ECF6\",\"width\":0.5},\"pattern\":{\"fillmode\":\"overlay\",\"size\":10,\"solidity\":0.2}},\"type\":\"bar\"}],\"scattergeo\":[{\"type\":\"scattergeo\",\"marker\":{\"colorbar\":{\"outlinewidth\":0,\"ticks\":\"\"}}}],\"scatterpolar\":[{\"type\":\"scatterpolar\",\"marker\":{\"colorbar\":{\"outlinewidth\":0,\"ticks\":\"\"}}}],\"histogram\":[{\"marker\":{\"pattern\":{\"fillmode\":\"overlay\",\"size\":10,\"solidity\":0.2}},\"type\":\"histogram\"}],\"scattergl\":[{\"type\":\"scattergl\",\"marker\":{\"colorbar\":{\"outlinewidth\":0,\"ticks\":\"\"}}}],\"scatter3d\":[{\"type\":\"scatter3d\",\"line\":{\"colorbar\":{\"outlinewidth\":0,\"ticks\":\"\"}},\"marker\":{\"colorbar\":{\"outlinewidth\":0,\"ticks\":\"\"}}}],\"scattermapbox\":[{\"type\":\"scattermapbox\",\"marker\":{\"colorbar\":{\"outlinewidth\":0,\"ticks\":\"\"}}}],\"scatterternary\":[{\"type\":\"scatterternary\",\"marker\":{\"colorbar\":{\"outlinewidth\":0,\"ticks\":\"\"}}}],\"scattercarpet\":[{\"type\":\"scattercarpet\",\"marker\":{\"colorbar\":{\"outlinewidth\":0,\"ticks\":\"\"}}}],\"carpet\":[{\"aaxis\":{\"endlinecolor\":\"#2a3f5f\",\"gridcolor\":\"white\",\"linecolor\":\"white\",\"minorgridcolor\":\"white\",\"startlinecolor\":\"#2a3f5f\"},\"baxis\":{\"endlinecolor\":\"#2a3f5f\",\"gridcolor\":\"white\",\"linecolor\":\"white\",\"minorgridcolor\":\"white\",\"startlinecolor\":\"#2a3f5f\"},\"type\":\"carpet\"}],\"table\":[{\"cells\":{\"fill\":{\"color\":\"#EBF0F8\"},\"line\":{\"color\":\"white\"}},\"header\":{\"fill\":{\"color\":\"#C8D4E3\"},\"line\":{\"color\":\"white\"}},\"type\":\"table\"}],\"barpolar\":[{\"marker\":{\"line\":{\"color\":\"#E5ECF6\",\"width\":0.5},\"pattern\":{\"fillmode\":\"overlay\",\"size\":10,\"solidity\":0.2}},\"type\":\"barpolar\"}],\"pie\":[{\"automargin\":true,\"type\":\"pie\"}]},\"layout\":{\"autotypenumbers\":\"strict\",\"colorway\":[\"#636efa\",\"#EF553B\",\"#00cc96\",\"#ab63fa\",\"#FFA15A\",\"#19d3f3\",\"#FF6692\",\"#B6E880\",\"#FF97FF\",\"#FECB52\"],\"font\":{\"color\":\"#2a3f5f\"},\"hovermode\":\"closest\",\"hoverlabel\":{\"align\":\"left\"},\"paper_bgcolor\":\"white\",\"plot_bgcolor\":\"#E5ECF6\",\"polar\":{\"bgcolor\":\"#E5ECF6\",\"angularaxis\":{\"gridcolor\":\"white\",\"linecolor\":\"white\",\"ticks\":\"\"},\"radialaxis\":{\"gridcolor\":\"white\",\"linecolor\":\"white\",\"ticks\":\"\"}},\"ternary\":{\"bgcolor\":\"#E5ECF6\",\"aaxis\":{\"gridcolor\":\"white\",\"linecolor\":\"white\",\"ticks\":\"\"},\"baxis\":{\"gridcolor\":\"white\",\"linecolor\":\"white\",\"ticks\":\"\"},\"caxis\":{\"gridcolor\":\"white\",\"linecolor\":\"white\",\"ticks\":\"\"}},\"coloraxis\":{\"colorbar\":{\"outlinewidth\":0,\"ticks\":\"\"}},\"colorscale\":{\"sequential\":[[0.0,\"#0d0887\"],[0.1111111111111111,\"#46039f\"],[0.2222222222222222,\"#7201a8\"],[0.3333333333333333,\"#9c179e\"],[0.4444444444444444,\"#bd3786\"],[0.5555555555555556,\"#d8576b\"],[0.6666666666666666,\"#ed7953\"],[0.7777777777777778,\"#fb9f3a\"],[0.8888888888888888,\"#fdca26\"],[1.0,\"#f0f921\"]],\"sequentialminus\":[[0.0,\"#0d0887\"],[0.1111111111111111,\"#46039f\"],[0.2222222222222222,\"#7201a8\"],[0.3333333333333333,\"#9c179e\"],[0.4444444444444444,\"#bd3786\"],[0.5555555555555556,\"#d8576b\"],[0.6666666666666666,\"#ed7953\"],[0.7777777777777778,\"#fb9f3a\"],[0.8888888888888888,\"#fdca26\"],[1.0,\"#f0f921\"]],\"diverging\":[[0,\"#8e0152\"],[0.1,\"#c51b7d\"],[0.2,\"#de77ae\"],[0.3,\"#f1b6da\"],[0.4,\"#fde0ef\"],[0.5,\"#f7f7f7\"],[0.6,\"#e6f5d0\"],[0.7,\"#b8e186\"],[0.8,\"#7fbc41\"],[0.9,\"#4d9221\"],[1,\"#276419\"]]},\"xaxis\":{\"gridcolor\":\"white\",\"linecolor\":\"white\",\"ticks\":\"\",\"title\":{\"standoff\":15},\"zerolinecolor\":\"white\",\"automargin\":true,\"zerolinewidth\":2},\"yaxis\":{\"gridcolor\":\"white\",\"linecolor\":\"white\",\"ticks\":\"\",\"title\":{\"standoff\":15},\"zerolinecolor\":\"white\",\"automargin\":true,\"zerolinewidth\":2},\"scene\":{\"xaxis\":{\"backgroundcolor\":\"#E5ECF6\",\"gridcolor\":\"white\",\"linecolor\":\"white\",\"showbackground\":true,\"ticks\":\"\",\"zerolinecolor\":\"white\",\"gridwidth\":2},\"yaxis\":{\"backgroundcolor\":\"#E5ECF6\",\"gridcolor\":\"white\",\"linecolor\":\"white\",\"showbackground\":true,\"ticks\":\"\",\"zerolinecolor\":\"white\",\"gridwidth\":2},\"zaxis\":{\"backgroundcolor\":\"#E5ECF6\",\"gridcolor\":\"white\",\"linecolor\":\"white\",\"showbackground\":true,\"ticks\":\"\",\"zerolinecolor\":\"white\",\"gridwidth\":2}},\"shapedefaults\":{\"line\":{\"color\":\"#2a3f5f\"}},\"annotationdefaults\":{\"arrowcolor\":\"#2a3f5f\",\"arrowhead\":0,\"arrowwidth\":1},\"geo\":{\"bgcolor\":\"white\",\"landcolor\":\"#E5ECF6\",\"subunitcolor\":\"white\",\"showland\":true,\"showlakes\":true,\"lakecolor\":\"white\"},\"title\":{\"x\":0.05},\"mapbox\":{\"style\":\"light\"}}},\"xaxis\":{\"anchor\":\"y\",\"domain\":[0.0,1.0],\"title\":{\"text\":\"Day of the Week\"}},\"yaxis\":{\"anchor\":\"x\",\"domain\":[0.0,1.0],\"title\":{\"text\":\"Total Debit Amount\"}},\"legend\":{\"tracegroupgap\":0},\"title\":{\"text\":\"Days with More Debits\"},\"barmode\":\"relative\"},                        {\"responsive\": true}                    ).then(function(){\n",
       "                            \n",
       "var gd = document.getElementById('bdb09d92-db91-448a-a235-bb97ea528909');\n",
       "var x = new MutationObserver(function (mutations, observer) {{\n",
       "        var display = window.getComputedStyle(gd).display;\n",
       "        if (!display || display === 'none') {{\n",
       "            console.log([gd, 'removed!']);\n",
       "            Plotly.purge(gd);\n",
       "            observer.disconnect();\n",
       "        }}\n",
       "}});\n",
       "\n",
       "// Listen for the removal of the full notebook cells\n",
       "var notebookContainer = gd.closest('#notebook-container');\n",
       "if (notebookContainer) {{\n",
       "    x.observe(notebookContainer, {childList: true});\n",
       "}}\n",
       "\n",
       "// Listen for the clearing of the current output cell\n",
       "var outputEl = gd.closest('.output');\n",
       "if (outputEl) {{\n",
       "    x.observe(outputEl, {childList: true});\n",
       "}}\n",
       "\n",
       "                        })                };                });            </script>        </div>"
      ]
     },
     "metadata": {},
     "output_type": "display_data"
    }
   ],
   "source": [
    "\n",
    "fig = px.bar(sorted_days, x='day', y='debit', labels={'day': 'Day of the Week', 'debit': 'Total Debit Amount'},\n",
    "             title='Days with More Debits', text='debit', hover_data=['debit'])\n",
    "\n",
    "fig.update_traces(texttemplate='%{text:.2f}', textposition='outside', insidetextanchor='start')\n",
    "\n",
    "fig.show()"
   ]
  },
  {
   "cell_type": "markdown",
   "id": "7613c2e6",
   "metadata": {},
   "source": [
    "### What are my most recurring debits\n",
    "\n",
    "- Group the data by the 'category' column and calculate the total debit amount for each category"
   ]
  },
  {
   "cell_type": "code",
   "execution_count": 75,
   "id": "3f7040d0",
   "metadata": {},
   "outputs": [
    {
     "data": {
      "application/vnd.plotly.v1+json": {
       "config": {
        "plotlyServerURL": "https://plot.ly"
       },
       "data": [
        {
         "alignmentgroup": "True",
         "hovertemplate": "Debit Category=%{x}<br>Total Debit Amount=%{text}<extra></extra>",
         "insidetextanchor": "start",
         "legendgroup": "",
         "marker": {
          "color": "#636efa",
          "pattern": {
           "shape": ""
          }
         },
         "name": "",
         "offsetgroup": "",
         "orientation": "v",
         "showlegend": false,
         "text": [
          136600,
          114000,
          75215,
          60000,
          41000
         ],
         "textposition": "outside",
         "texttemplate": "%{text:.2f}",
         "type": "bar",
         "x": [
          "Digital Wallets",
          "DT",
          "Selfcare",
          "Rent",
          "My baby"
         ],
         "xaxis": "x",
         "y": [
          136600,
          114000,
          75215,
          60000,
          41000
         ],
         "yaxis": "y"
        }
       ],
       "layout": {
        "barmode": "relative",
        "legend": {
         "tracegroupgap": 0
        },
        "template": {
         "data": {
          "bar": [
           {
            "error_x": {
             "color": "#2a3f5f"
            },
            "error_y": {
             "color": "#2a3f5f"
            },
            "marker": {
             "line": {
              "color": "#E5ECF6",
              "width": 0.5
             },
             "pattern": {
              "fillmode": "overlay",
              "size": 10,
              "solidity": 0.2
             }
            },
            "type": "bar"
           }
          ],
          "barpolar": [
           {
            "marker": {
             "line": {
              "color": "#E5ECF6",
              "width": 0.5
             },
             "pattern": {
              "fillmode": "overlay",
              "size": 10,
              "solidity": 0.2
             }
            },
            "type": "barpolar"
           }
          ],
          "carpet": [
           {
            "aaxis": {
             "endlinecolor": "#2a3f5f",
             "gridcolor": "white",
             "linecolor": "white",
             "minorgridcolor": "white",
             "startlinecolor": "#2a3f5f"
            },
            "baxis": {
             "endlinecolor": "#2a3f5f",
             "gridcolor": "white",
             "linecolor": "white",
             "minorgridcolor": "white",
             "startlinecolor": "#2a3f5f"
            },
            "type": "carpet"
           }
          ],
          "choropleth": [
           {
            "colorbar": {
             "outlinewidth": 0,
             "ticks": ""
            },
            "type": "choropleth"
           }
          ],
          "contour": [
           {
            "colorbar": {
             "outlinewidth": 0,
             "ticks": ""
            },
            "colorscale": [
             [
              0,
              "#0d0887"
             ],
             [
              0.1111111111111111,
              "#46039f"
             ],
             [
              0.2222222222222222,
              "#7201a8"
             ],
             [
              0.3333333333333333,
              "#9c179e"
             ],
             [
              0.4444444444444444,
              "#bd3786"
             ],
             [
              0.5555555555555556,
              "#d8576b"
             ],
             [
              0.6666666666666666,
              "#ed7953"
             ],
             [
              0.7777777777777778,
              "#fb9f3a"
             ],
             [
              0.8888888888888888,
              "#fdca26"
             ],
             [
              1,
              "#f0f921"
             ]
            ],
            "type": "contour"
           }
          ],
          "contourcarpet": [
           {
            "colorbar": {
             "outlinewidth": 0,
             "ticks": ""
            },
            "type": "contourcarpet"
           }
          ],
          "heatmap": [
           {
            "colorbar": {
             "outlinewidth": 0,
             "ticks": ""
            },
            "colorscale": [
             [
              0,
              "#0d0887"
             ],
             [
              0.1111111111111111,
              "#46039f"
             ],
             [
              0.2222222222222222,
              "#7201a8"
             ],
             [
              0.3333333333333333,
              "#9c179e"
             ],
             [
              0.4444444444444444,
              "#bd3786"
             ],
             [
              0.5555555555555556,
              "#d8576b"
             ],
             [
              0.6666666666666666,
              "#ed7953"
             ],
             [
              0.7777777777777778,
              "#fb9f3a"
             ],
             [
              0.8888888888888888,
              "#fdca26"
             ],
             [
              1,
              "#f0f921"
             ]
            ],
            "type": "heatmap"
           }
          ],
          "heatmapgl": [
           {
            "colorbar": {
             "outlinewidth": 0,
             "ticks": ""
            },
            "colorscale": [
             [
              0,
              "#0d0887"
             ],
             [
              0.1111111111111111,
              "#46039f"
             ],
             [
              0.2222222222222222,
              "#7201a8"
             ],
             [
              0.3333333333333333,
              "#9c179e"
             ],
             [
              0.4444444444444444,
              "#bd3786"
             ],
             [
              0.5555555555555556,
              "#d8576b"
             ],
             [
              0.6666666666666666,
              "#ed7953"
             ],
             [
              0.7777777777777778,
              "#fb9f3a"
             ],
             [
              0.8888888888888888,
              "#fdca26"
             ],
             [
              1,
              "#f0f921"
             ]
            ],
            "type": "heatmapgl"
           }
          ],
          "histogram": [
           {
            "marker": {
             "pattern": {
              "fillmode": "overlay",
              "size": 10,
              "solidity": 0.2
             }
            },
            "type": "histogram"
           }
          ],
          "histogram2d": [
           {
            "colorbar": {
             "outlinewidth": 0,
             "ticks": ""
            },
            "colorscale": [
             [
              0,
              "#0d0887"
             ],
             [
              0.1111111111111111,
              "#46039f"
             ],
             [
              0.2222222222222222,
              "#7201a8"
             ],
             [
              0.3333333333333333,
              "#9c179e"
             ],
             [
              0.4444444444444444,
              "#bd3786"
             ],
             [
              0.5555555555555556,
              "#d8576b"
             ],
             [
              0.6666666666666666,
              "#ed7953"
             ],
             [
              0.7777777777777778,
              "#fb9f3a"
             ],
             [
              0.8888888888888888,
              "#fdca26"
             ],
             [
              1,
              "#f0f921"
             ]
            ],
            "type": "histogram2d"
           }
          ],
          "histogram2dcontour": [
           {
            "colorbar": {
             "outlinewidth": 0,
             "ticks": ""
            },
            "colorscale": [
             [
              0,
              "#0d0887"
             ],
             [
              0.1111111111111111,
              "#46039f"
             ],
             [
              0.2222222222222222,
              "#7201a8"
             ],
             [
              0.3333333333333333,
              "#9c179e"
             ],
             [
              0.4444444444444444,
              "#bd3786"
             ],
             [
              0.5555555555555556,
              "#d8576b"
             ],
             [
              0.6666666666666666,
              "#ed7953"
             ],
             [
              0.7777777777777778,
              "#fb9f3a"
             ],
             [
              0.8888888888888888,
              "#fdca26"
             ],
             [
              1,
              "#f0f921"
             ]
            ],
            "type": "histogram2dcontour"
           }
          ],
          "mesh3d": [
           {
            "colorbar": {
             "outlinewidth": 0,
             "ticks": ""
            },
            "type": "mesh3d"
           }
          ],
          "parcoords": [
           {
            "line": {
             "colorbar": {
              "outlinewidth": 0,
              "ticks": ""
             }
            },
            "type": "parcoords"
           }
          ],
          "pie": [
           {
            "automargin": true,
            "type": "pie"
           }
          ],
          "scatter": [
           {
            "fillpattern": {
             "fillmode": "overlay",
             "size": 10,
             "solidity": 0.2
            },
            "type": "scatter"
           }
          ],
          "scatter3d": [
           {
            "line": {
             "colorbar": {
              "outlinewidth": 0,
              "ticks": ""
             }
            },
            "marker": {
             "colorbar": {
              "outlinewidth": 0,
              "ticks": ""
             }
            },
            "type": "scatter3d"
           }
          ],
          "scattercarpet": [
           {
            "marker": {
             "colorbar": {
              "outlinewidth": 0,
              "ticks": ""
             }
            },
            "type": "scattercarpet"
           }
          ],
          "scattergeo": [
           {
            "marker": {
             "colorbar": {
              "outlinewidth": 0,
              "ticks": ""
             }
            },
            "type": "scattergeo"
           }
          ],
          "scattergl": [
           {
            "marker": {
             "colorbar": {
              "outlinewidth": 0,
              "ticks": ""
             }
            },
            "type": "scattergl"
           }
          ],
          "scattermapbox": [
           {
            "marker": {
             "colorbar": {
              "outlinewidth": 0,
              "ticks": ""
             }
            },
            "type": "scattermapbox"
           }
          ],
          "scatterpolar": [
           {
            "marker": {
             "colorbar": {
              "outlinewidth": 0,
              "ticks": ""
             }
            },
            "type": "scatterpolar"
           }
          ],
          "scatterpolargl": [
           {
            "marker": {
             "colorbar": {
              "outlinewidth": 0,
              "ticks": ""
             }
            },
            "type": "scatterpolargl"
           }
          ],
          "scatterternary": [
           {
            "marker": {
             "colorbar": {
              "outlinewidth": 0,
              "ticks": ""
             }
            },
            "type": "scatterternary"
           }
          ],
          "surface": [
           {
            "colorbar": {
             "outlinewidth": 0,
             "ticks": ""
            },
            "colorscale": [
             [
              0,
              "#0d0887"
             ],
             [
              0.1111111111111111,
              "#46039f"
             ],
             [
              0.2222222222222222,
              "#7201a8"
             ],
             [
              0.3333333333333333,
              "#9c179e"
             ],
             [
              0.4444444444444444,
              "#bd3786"
             ],
             [
              0.5555555555555556,
              "#d8576b"
             ],
             [
              0.6666666666666666,
              "#ed7953"
             ],
             [
              0.7777777777777778,
              "#fb9f3a"
             ],
             [
              0.8888888888888888,
              "#fdca26"
             ],
             [
              1,
              "#f0f921"
             ]
            ],
            "type": "surface"
           }
          ],
          "table": [
           {
            "cells": {
             "fill": {
              "color": "#EBF0F8"
             },
             "line": {
              "color": "white"
             }
            },
            "header": {
             "fill": {
              "color": "#C8D4E3"
             },
             "line": {
              "color": "white"
             }
            },
            "type": "table"
           }
          ]
         },
         "layout": {
          "annotationdefaults": {
           "arrowcolor": "#2a3f5f",
           "arrowhead": 0,
           "arrowwidth": 1
          },
          "autotypenumbers": "strict",
          "coloraxis": {
           "colorbar": {
            "outlinewidth": 0,
            "ticks": ""
           }
          },
          "colorscale": {
           "diverging": [
            [
             0,
             "#8e0152"
            ],
            [
             0.1,
             "#c51b7d"
            ],
            [
             0.2,
             "#de77ae"
            ],
            [
             0.3,
             "#f1b6da"
            ],
            [
             0.4,
             "#fde0ef"
            ],
            [
             0.5,
             "#f7f7f7"
            ],
            [
             0.6,
             "#e6f5d0"
            ],
            [
             0.7,
             "#b8e186"
            ],
            [
             0.8,
             "#7fbc41"
            ],
            [
             0.9,
             "#4d9221"
            ],
            [
             1,
             "#276419"
            ]
           ],
           "sequential": [
            [
             0,
             "#0d0887"
            ],
            [
             0.1111111111111111,
             "#46039f"
            ],
            [
             0.2222222222222222,
             "#7201a8"
            ],
            [
             0.3333333333333333,
             "#9c179e"
            ],
            [
             0.4444444444444444,
             "#bd3786"
            ],
            [
             0.5555555555555556,
             "#d8576b"
            ],
            [
             0.6666666666666666,
             "#ed7953"
            ],
            [
             0.7777777777777778,
             "#fb9f3a"
            ],
            [
             0.8888888888888888,
             "#fdca26"
            ],
            [
             1,
             "#f0f921"
            ]
           ],
           "sequentialminus": [
            [
             0,
             "#0d0887"
            ],
            [
             0.1111111111111111,
             "#46039f"
            ],
            [
             0.2222222222222222,
             "#7201a8"
            ],
            [
             0.3333333333333333,
             "#9c179e"
            ],
            [
             0.4444444444444444,
             "#bd3786"
            ],
            [
             0.5555555555555556,
             "#d8576b"
            ],
            [
             0.6666666666666666,
             "#ed7953"
            ],
            [
             0.7777777777777778,
             "#fb9f3a"
            ],
            [
             0.8888888888888888,
             "#fdca26"
            ],
            [
             1,
             "#f0f921"
            ]
           ]
          },
          "colorway": [
           "#636efa",
           "#EF553B",
           "#00cc96",
           "#ab63fa",
           "#FFA15A",
           "#19d3f3",
           "#FF6692",
           "#B6E880",
           "#FF97FF",
           "#FECB52"
          ],
          "font": {
           "color": "#2a3f5f"
          },
          "geo": {
           "bgcolor": "white",
           "lakecolor": "white",
           "landcolor": "#E5ECF6",
           "showlakes": true,
           "showland": true,
           "subunitcolor": "white"
          },
          "hoverlabel": {
           "align": "left"
          },
          "hovermode": "closest",
          "mapbox": {
           "style": "light"
          },
          "paper_bgcolor": "white",
          "plot_bgcolor": "#E5ECF6",
          "polar": {
           "angularaxis": {
            "gridcolor": "white",
            "linecolor": "white",
            "ticks": ""
           },
           "bgcolor": "#E5ECF6",
           "radialaxis": {
            "gridcolor": "white",
            "linecolor": "white",
            "ticks": ""
           }
          },
          "scene": {
           "xaxis": {
            "backgroundcolor": "#E5ECF6",
            "gridcolor": "white",
            "gridwidth": 2,
            "linecolor": "white",
            "showbackground": true,
            "ticks": "",
            "zerolinecolor": "white"
           },
           "yaxis": {
            "backgroundcolor": "#E5ECF6",
            "gridcolor": "white",
            "gridwidth": 2,
            "linecolor": "white",
            "showbackground": true,
            "ticks": "",
            "zerolinecolor": "white"
           },
           "zaxis": {
            "backgroundcolor": "#E5ECF6",
            "gridcolor": "white",
            "gridwidth": 2,
            "linecolor": "white",
            "showbackground": true,
            "ticks": "",
            "zerolinecolor": "white"
           }
          },
          "shapedefaults": {
           "line": {
            "color": "#2a3f5f"
           }
          },
          "ternary": {
           "aaxis": {
            "gridcolor": "white",
            "linecolor": "white",
            "ticks": ""
           },
           "baxis": {
            "gridcolor": "white",
            "linecolor": "white",
            "ticks": ""
           },
           "bgcolor": "#E5ECF6",
           "caxis": {
            "gridcolor": "white",
            "linecolor": "white",
            "ticks": ""
           }
          },
          "title": {
           "x": 0.05
          },
          "xaxis": {
           "automargin": true,
           "gridcolor": "white",
           "linecolor": "white",
           "ticks": "",
           "title": {
            "standoff": 15
           },
           "zerolinecolor": "white",
           "zerolinewidth": 2
          },
          "yaxis": {
           "automargin": true,
           "gridcolor": "white",
           "linecolor": "white",
           "ticks": "",
           "title": {
            "standoff": 15
           },
           "zerolinecolor": "white",
           "zerolinewidth": 2
          }
         }
        },
        "title": {
         "text": "Top 5 Most Recurring Debits"
        },
        "xaxis": {
         "anchor": "y",
         "domain": [
          0,
          1
         ],
         "title": {
          "text": "Debit Category"
         }
        },
        "yaxis": {
         "anchor": "x",
         "domain": [
          0,
          1
         ],
         "title": {
          "text": "Total Debit Amount"
         }
        }
       }
      },
      "text/html": [
       "<div>                            <div id=\"b2963290-ded4-492b-8869-1237942f5f52\" class=\"plotly-graph-div\" style=\"height:525px; width:100%;\"></div>            <script type=\"text/javascript\">                require([\"plotly\"], function(Plotly) {                    window.PLOTLYENV=window.PLOTLYENV || {};                                    if (document.getElementById(\"b2963290-ded4-492b-8869-1237942f5f52\")) {                    Plotly.newPlot(                        \"b2963290-ded4-492b-8869-1237942f5f52\",                        [{\"alignmentgroup\":\"True\",\"hovertemplate\":\"Debit Category=%{x}<br>Total Debit Amount=%{text}<extra></extra>\",\"legendgroup\":\"\",\"marker\":{\"color\":\"#636efa\",\"pattern\":{\"shape\":\"\"}},\"name\":\"\",\"offsetgroup\":\"\",\"orientation\":\"v\",\"showlegend\":false,\"text\":[136600.0,114000.0,75215.0,60000.0,41000.0],\"textposition\":\"outside\",\"x\":[\"Digital Wallets\",\"DT\",\"Selfcare\",\"Rent\",\"My baby\"],\"xaxis\":\"x\",\"y\":[136600.0,114000.0,75215.0,60000.0,41000.0],\"yaxis\":\"y\",\"type\":\"bar\",\"insidetextanchor\":\"start\",\"texttemplate\":\"%{text:.2f}\"}],                        {\"template\":{\"data\":{\"histogram2dcontour\":[{\"type\":\"histogram2dcontour\",\"colorbar\":{\"outlinewidth\":0,\"ticks\":\"\"},\"colorscale\":[[0.0,\"#0d0887\"],[0.1111111111111111,\"#46039f\"],[0.2222222222222222,\"#7201a8\"],[0.3333333333333333,\"#9c179e\"],[0.4444444444444444,\"#bd3786\"],[0.5555555555555556,\"#d8576b\"],[0.6666666666666666,\"#ed7953\"],[0.7777777777777778,\"#fb9f3a\"],[0.8888888888888888,\"#fdca26\"],[1.0,\"#f0f921\"]]}],\"choropleth\":[{\"type\":\"choropleth\",\"colorbar\":{\"outlinewidth\":0,\"ticks\":\"\"}}],\"histogram2d\":[{\"type\":\"histogram2d\",\"colorbar\":{\"outlinewidth\":0,\"ticks\":\"\"},\"colorscale\":[[0.0,\"#0d0887\"],[0.1111111111111111,\"#46039f\"],[0.2222222222222222,\"#7201a8\"],[0.3333333333333333,\"#9c179e\"],[0.4444444444444444,\"#bd3786\"],[0.5555555555555556,\"#d8576b\"],[0.6666666666666666,\"#ed7953\"],[0.7777777777777778,\"#fb9f3a\"],[0.8888888888888888,\"#fdca26\"],[1.0,\"#f0f921\"]]}],\"heatmap\":[{\"type\":\"heatmap\",\"colorbar\":{\"outlinewidth\":0,\"ticks\":\"\"},\"colorscale\":[[0.0,\"#0d0887\"],[0.1111111111111111,\"#46039f\"],[0.2222222222222222,\"#7201a8\"],[0.3333333333333333,\"#9c179e\"],[0.4444444444444444,\"#bd3786\"],[0.5555555555555556,\"#d8576b\"],[0.6666666666666666,\"#ed7953\"],[0.7777777777777778,\"#fb9f3a\"],[0.8888888888888888,\"#fdca26\"],[1.0,\"#f0f921\"]]}],\"heatmapgl\":[{\"type\":\"heatmapgl\",\"colorbar\":{\"outlinewidth\":0,\"ticks\":\"\"},\"colorscale\":[[0.0,\"#0d0887\"],[0.1111111111111111,\"#46039f\"],[0.2222222222222222,\"#7201a8\"],[0.3333333333333333,\"#9c179e\"],[0.4444444444444444,\"#bd3786\"],[0.5555555555555556,\"#d8576b\"],[0.6666666666666666,\"#ed7953\"],[0.7777777777777778,\"#fb9f3a\"],[0.8888888888888888,\"#fdca26\"],[1.0,\"#f0f921\"]]}],\"contourcarpet\":[{\"type\":\"contourcarpet\",\"colorbar\":{\"outlinewidth\":0,\"ticks\":\"\"}}],\"contour\":[{\"type\":\"contour\",\"colorbar\":{\"outlinewidth\":0,\"ticks\":\"\"},\"colorscale\":[[0.0,\"#0d0887\"],[0.1111111111111111,\"#46039f\"],[0.2222222222222222,\"#7201a8\"],[0.3333333333333333,\"#9c179e\"],[0.4444444444444444,\"#bd3786\"],[0.5555555555555556,\"#d8576b\"],[0.6666666666666666,\"#ed7953\"],[0.7777777777777778,\"#fb9f3a\"],[0.8888888888888888,\"#fdca26\"],[1.0,\"#f0f921\"]]}],\"surface\":[{\"type\":\"surface\",\"colorbar\":{\"outlinewidth\":0,\"ticks\":\"\"},\"colorscale\":[[0.0,\"#0d0887\"],[0.1111111111111111,\"#46039f\"],[0.2222222222222222,\"#7201a8\"],[0.3333333333333333,\"#9c179e\"],[0.4444444444444444,\"#bd3786\"],[0.5555555555555556,\"#d8576b\"],[0.6666666666666666,\"#ed7953\"],[0.7777777777777778,\"#fb9f3a\"],[0.8888888888888888,\"#fdca26\"],[1.0,\"#f0f921\"]]}],\"mesh3d\":[{\"type\":\"mesh3d\",\"colorbar\":{\"outlinewidth\":0,\"ticks\":\"\"}}],\"scatter\":[{\"fillpattern\":{\"fillmode\":\"overlay\",\"size\":10,\"solidity\":0.2},\"type\":\"scatter\"}],\"parcoords\":[{\"type\":\"parcoords\",\"line\":{\"colorbar\":{\"outlinewidth\":0,\"ticks\":\"\"}}}],\"scatterpolargl\":[{\"type\":\"scatterpolargl\",\"marker\":{\"colorbar\":{\"outlinewidth\":0,\"ticks\":\"\"}}}],\"bar\":[{\"error_x\":{\"color\":\"#2a3f5f\"},\"error_y\":{\"color\":\"#2a3f5f\"},\"marker\":{\"line\":{\"color\":\"#E5ECF6\",\"width\":0.5},\"pattern\":{\"fillmode\":\"overlay\",\"size\":10,\"solidity\":0.2}},\"type\":\"bar\"}],\"scattergeo\":[{\"type\":\"scattergeo\",\"marker\":{\"colorbar\":{\"outlinewidth\":0,\"ticks\":\"\"}}}],\"scatterpolar\":[{\"type\":\"scatterpolar\",\"marker\":{\"colorbar\":{\"outlinewidth\":0,\"ticks\":\"\"}}}],\"histogram\":[{\"marker\":{\"pattern\":{\"fillmode\":\"overlay\",\"size\":10,\"solidity\":0.2}},\"type\":\"histogram\"}],\"scattergl\":[{\"type\":\"scattergl\",\"marker\":{\"colorbar\":{\"outlinewidth\":0,\"ticks\":\"\"}}}],\"scatter3d\":[{\"type\":\"scatter3d\",\"line\":{\"colorbar\":{\"outlinewidth\":0,\"ticks\":\"\"}},\"marker\":{\"colorbar\":{\"outlinewidth\":0,\"ticks\":\"\"}}}],\"scattermapbox\":[{\"type\":\"scattermapbox\",\"marker\":{\"colorbar\":{\"outlinewidth\":0,\"ticks\":\"\"}}}],\"scatterternary\":[{\"type\":\"scatterternary\",\"marker\":{\"colorbar\":{\"outlinewidth\":0,\"ticks\":\"\"}}}],\"scattercarpet\":[{\"type\":\"scattercarpet\",\"marker\":{\"colorbar\":{\"outlinewidth\":0,\"ticks\":\"\"}}}],\"carpet\":[{\"aaxis\":{\"endlinecolor\":\"#2a3f5f\",\"gridcolor\":\"white\",\"linecolor\":\"white\",\"minorgridcolor\":\"white\",\"startlinecolor\":\"#2a3f5f\"},\"baxis\":{\"endlinecolor\":\"#2a3f5f\",\"gridcolor\":\"white\",\"linecolor\":\"white\",\"minorgridcolor\":\"white\",\"startlinecolor\":\"#2a3f5f\"},\"type\":\"carpet\"}],\"table\":[{\"cells\":{\"fill\":{\"color\":\"#EBF0F8\"},\"line\":{\"color\":\"white\"}},\"header\":{\"fill\":{\"color\":\"#C8D4E3\"},\"line\":{\"color\":\"white\"}},\"type\":\"table\"}],\"barpolar\":[{\"marker\":{\"line\":{\"color\":\"#E5ECF6\",\"width\":0.5},\"pattern\":{\"fillmode\":\"overlay\",\"size\":10,\"solidity\":0.2}},\"type\":\"barpolar\"}],\"pie\":[{\"automargin\":true,\"type\":\"pie\"}]},\"layout\":{\"autotypenumbers\":\"strict\",\"colorway\":[\"#636efa\",\"#EF553B\",\"#00cc96\",\"#ab63fa\",\"#FFA15A\",\"#19d3f3\",\"#FF6692\",\"#B6E880\",\"#FF97FF\",\"#FECB52\"],\"font\":{\"color\":\"#2a3f5f\"},\"hovermode\":\"closest\",\"hoverlabel\":{\"align\":\"left\"},\"paper_bgcolor\":\"white\",\"plot_bgcolor\":\"#E5ECF6\",\"polar\":{\"bgcolor\":\"#E5ECF6\",\"angularaxis\":{\"gridcolor\":\"white\",\"linecolor\":\"white\",\"ticks\":\"\"},\"radialaxis\":{\"gridcolor\":\"white\",\"linecolor\":\"white\",\"ticks\":\"\"}},\"ternary\":{\"bgcolor\":\"#E5ECF6\",\"aaxis\":{\"gridcolor\":\"white\",\"linecolor\":\"white\",\"ticks\":\"\"},\"baxis\":{\"gridcolor\":\"white\",\"linecolor\":\"white\",\"ticks\":\"\"},\"caxis\":{\"gridcolor\":\"white\",\"linecolor\":\"white\",\"ticks\":\"\"}},\"coloraxis\":{\"colorbar\":{\"outlinewidth\":0,\"ticks\":\"\"}},\"colorscale\":{\"sequential\":[[0.0,\"#0d0887\"],[0.1111111111111111,\"#46039f\"],[0.2222222222222222,\"#7201a8\"],[0.3333333333333333,\"#9c179e\"],[0.4444444444444444,\"#bd3786\"],[0.5555555555555556,\"#d8576b\"],[0.6666666666666666,\"#ed7953\"],[0.7777777777777778,\"#fb9f3a\"],[0.8888888888888888,\"#fdca26\"],[1.0,\"#f0f921\"]],\"sequentialminus\":[[0.0,\"#0d0887\"],[0.1111111111111111,\"#46039f\"],[0.2222222222222222,\"#7201a8\"],[0.3333333333333333,\"#9c179e\"],[0.4444444444444444,\"#bd3786\"],[0.5555555555555556,\"#d8576b\"],[0.6666666666666666,\"#ed7953\"],[0.7777777777777778,\"#fb9f3a\"],[0.8888888888888888,\"#fdca26\"],[1.0,\"#f0f921\"]],\"diverging\":[[0,\"#8e0152\"],[0.1,\"#c51b7d\"],[0.2,\"#de77ae\"],[0.3,\"#f1b6da\"],[0.4,\"#fde0ef\"],[0.5,\"#f7f7f7\"],[0.6,\"#e6f5d0\"],[0.7,\"#b8e186\"],[0.8,\"#7fbc41\"],[0.9,\"#4d9221\"],[1,\"#276419\"]]},\"xaxis\":{\"gridcolor\":\"white\",\"linecolor\":\"white\",\"ticks\":\"\",\"title\":{\"standoff\":15},\"zerolinecolor\":\"white\",\"automargin\":true,\"zerolinewidth\":2},\"yaxis\":{\"gridcolor\":\"white\",\"linecolor\":\"white\",\"ticks\":\"\",\"title\":{\"standoff\":15},\"zerolinecolor\":\"white\",\"automargin\":true,\"zerolinewidth\":2},\"scene\":{\"xaxis\":{\"backgroundcolor\":\"#E5ECF6\",\"gridcolor\":\"white\",\"linecolor\":\"white\",\"showbackground\":true,\"ticks\":\"\",\"zerolinecolor\":\"white\",\"gridwidth\":2},\"yaxis\":{\"backgroundcolor\":\"#E5ECF6\",\"gridcolor\":\"white\",\"linecolor\":\"white\",\"showbackground\":true,\"ticks\":\"\",\"zerolinecolor\":\"white\",\"gridwidth\":2},\"zaxis\":{\"backgroundcolor\":\"#E5ECF6\",\"gridcolor\":\"white\",\"linecolor\":\"white\",\"showbackground\":true,\"ticks\":\"\",\"zerolinecolor\":\"white\",\"gridwidth\":2}},\"shapedefaults\":{\"line\":{\"color\":\"#2a3f5f\"}},\"annotationdefaults\":{\"arrowcolor\":\"#2a3f5f\",\"arrowhead\":0,\"arrowwidth\":1},\"geo\":{\"bgcolor\":\"white\",\"landcolor\":\"#E5ECF6\",\"subunitcolor\":\"white\",\"showland\":true,\"showlakes\":true,\"lakecolor\":\"white\"},\"title\":{\"x\":0.05},\"mapbox\":{\"style\":\"light\"}}},\"xaxis\":{\"anchor\":\"y\",\"domain\":[0.0,1.0],\"title\":{\"text\":\"Debit Category\"}},\"yaxis\":{\"anchor\":\"x\",\"domain\":[0.0,1.0],\"title\":{\"text\":\"Total Debit Amount\"}},\"legend\":{\"tracegroupgap\":0},\"title\":{\"text\":\"Top 5 Most Recurring Debits\"},\"barmode\":\"relative\"},                        {\"responsive\": true}                    ).then(function(){\n",
       "                            \n",
       "var gd = document.getElementById('b2963290-ded4-492b-8869-1237942f5f52');\n",
       "var x = new MutationObserver(function (mutations, observer) {{\n",
       "        var display = window.getComputedStyle(gd).display;\n",
       "        if (!display || display === 'none') {{\n",
       "            console.log([gd, 'removed!']);\n",
       "            Plotly.purge(gd);\n",
       "            observer.disconnect();\n",
       "        }}\n",
       "}});\n",
       "\n",
       "// Listen for the removal of the full notebook cells\n",
       "var notebookContainer = gd.closest('#notebook-container');\n",
       "if (notebookContainer) {{\n",
       "    x.observe(notebookContainer, {childList: true});\n",
       "}}\n",
       "\n",
       "// Listen for the clearing of the current output cell\n",
       "var outputEl = gd.closest('.output');\n",
       "if (outputEl) {{\n",
       "    x.observe(outputEl, {childList: true});\n",
       "}}\n",
       "\n",
       "                        })                };                });            </script>        </div>"
      ]
     },
     "metadata": {},
     "output_type": "display_data"
    }
   ],
   "source": [
    "category_debits_total = df_main.groupby('category')['debit'].sum().reset_index()\n",
    "\n",
    "\n",
    "## Sort the categories based on the total debit amount in descending order\n",
    "\n",
    "sorted_categories = category_debits_total.sort_values('debit', ascending=False)\n",
    "\n",
    "## Select the top 5 most recurring debits\n",
    "\n",
    "top_5_debits = sorted_categories.head(5)\n",
    "\n",
    "## Visualization using plotly \n",
    "\n",
    "fig = px.bar(top_5_debits, x='category', y='debit', labels={'category': 'Debit Category', 'debit': 'Total Debit Amount'},\n",
    "             title='Top 5 Most Recurring Debits', text='debit')\n",
    "\n",
    "fig.update_traces(texttemplate='%{text:.2f}', textposition='outside', insidetextanchor='start')\n",
    "\n",
    "fig.show()"
   ]
  },
  {
   "cell_type": "markdown",
   "id": "d331b5a9",
   "metadata": {},
   "source": [
    "### Balance over time"
   ]
  },
  {
   "cell_type": "code",
   "execution_count": 76,
   "id": "adb1d31c",
   "metadata": {
    "scrolled": true
   },
   "outputs": [
    {
     "data": {
      "application/vnd.plotly.v1+json": {
       "config": {
        "plotlyServerURL": "https://plot.ly"
       },
       "data": [
        {
         "hovertemplate": "Date=%{x}<br>Balance=%{y}<extra></extra>",
         "legendgroup": "",
         "line": {
          "color": "#636efa",
          "dash": "solid"
         },
         "marker": {
          "symbol": "circle"
         },
         "mode": "lines",
         "name": "",
         "orientation": "v",
         "showlegend": false,
         "type": "scatter",
         "x": [
          "2023-01-02T00:00:00",
          "2023-01-02T00:00:00",
          "2023-01-02T00:00:00",
          "2023-01-02T00:00:00",
          "2023-01-02T00:00:00",
          "2023-01-02T00:00:00",
          "2023-01-02T00:00:00",
          "2023-01-03T00:00:00",
          "2023-01-04T00:00:00",
          "2023-01-04T00:00:00",
          "2023-01-04T00:00:00",
          "2023-01-05T00:00:00",
          "2023-01-05T00:00:00",
          "2023-01-07T00:00:00",
          "2023-01-07T00:00:00",
          "2023-01-12T00:00:00",
          "2023-01-12T00:00:00",
          "2023-01-13T00:00:00",
          "2023-01-16T00:00:00",
          "2023-01-16T00:00:00",
          "2023-01-17T00:00:00",
          "2023-01-17T00:00:00",
          "2023-01-18T00:00:00",
          "2023-01-18T00:00:00",
          "2023-01-18T00:00:00",
          "2023-01-19T00:00:00",
          "2023-01-19T00:00:00",
          "2023-01-19T00:00:00",
          "2023-01-20T00:00:00",
          "2023-01-22T00:00:00",
          "2023-01-22T00:00:00",
          "2023-01-22T00:00:00",
          "2023-01-23T00:00:00",
          "2023-01-23T00:00:00",
          "2023-01-23T00:00:00",
          "2023-01-23T00:00:00",
          "2023-01-26T00:00:00",
          "2023-01-26T00:00:00",
          "2023-01-26T00:00:00",
          "2023-01-26T00:00:00",
          "2023-01-26T00:00:00",
          "2023-01-26T00:00:00",
          "2023-01-26T00:00:00",
          "2023-01-27T00:00:00",
          "2023-01-27T00:00:00",
          "2023-01-27T00:00:00",
          "2023-01-27T00:00:00",
          "2023-01-28T00:00:00",
          "2023-01-28T00:00:00",
          "2023-01-28T00:00:00",
          "2023-01-28T00:00:00",
          "2023-01-29T00:00:00",
          "2023-01-29T00:00:00",
          "2023-01-29T00:00:00",
          "2023-01-29T00:00:00",
          "2023-01-29T00:00:00",
          "2023-01-29T00:00:00",
          "2023-01-29T00:00:00",
          "2023-01-29T00:00:00",
          "2023-01-29T00:00:00",
          "2023-01-29T00:00:00",
          "2023-01-31T00:00:00",
          "2023-01-31T00:00:00",
          "2023-01-31T00:00:00",
          "2023-01-31T00:00:00",
          "2023-02-01T00:00:00",
          "2023-02-02T00:00:00",
          "2023-02-02T00:00:00",
          "2023-02-02T00:00:00",
          "2023-02-03T00:00:00",
          "2023-02-03T00:00:00",
          "2023-02-04T00:00:00",
          "2023-02-04T00:00:00",
          "2023-02-04T00:00:00",
          "2023-02-04T00:00:00",
          "2023-02-04T00:00:00",
          "2023-02-07T00:00:00",
          "2023-02-07T00:00:00",
          "2023-02-08T00:00:00",
          "2023-02-09T00:00:00",
          "2023-02-12T00:00:00",
          "2023-02-14T00:00:00",
          "2023-02-14T00:00:00",
          "2023-02-14T00:00:00",
          "2023-02-14T00:00:00",
          "2023-02-17T00:00:00",
          "2023-02-17T00:00:00",
          "2023-02-18T00:00:00",
          "2023-02-18T00:00:00",
          "2023-02-18T00:00:00",
          "2023-02-18T00:00:00",
          "2023-02-18T00:00:00",
          "2023-02-18T00:00:00",
          "2023-02-19T00:00:00",
          "2023-02-19T00:00:00",
          "2023-02-22T00:00:00",
          "2023-02-22T00:00:00",
          "2023-02-22T00:00:00",
          "2023-02-22T00:00:00",
          "2023-02-25T00:00:00",
          "2023-03-01T00:00:00",
          "2023-03-01T00:00:00",
          "2023-03-03T00:00:00",
          "2023-03-03T00:00:00",
          "2023-03-16T00:00:00",
          "2023-03-16T00:00:00",
          "2023-03-18T00:00:00",
          "2023-03-18T00:00:00",
          "2023-03-19T00:00:00",
          "2023-03-24T00:00:00",
          "2023-03-24T00:00:00",
          "2023-03-25T00:00:00",
          "2023-03-25T00:00:00",
          "2023-03-26T00:00:00",
          "2023-03-26T00:00:00",
          "2023-03-27T00:00:00",
          "2023-03-28T00:00:00",
          "2023-03-28T00:00:00",
          "2023-03-29T00:00:00",
          "2023-03-29T00:00:00",
          "2023-03-30T00:00:00",
          "2023-03-31T00:00:00",
          "2023-03-31T00:00:00",
          "2023-03-31T00:00:00",
          "2023-03-31T00:00:00",
          "2023-04-02T00:00:00",
          "2023-04-02T00:00:00",
          "2023-04-02T00:00:00",
          "2023-04-02T00:00:00",
          "2023-04-04T00:00:00",
          "2023-04-05T00:00:00",
          "2023-04-05T00:00:00",
          "2023-04-06T00:00:00",
          "2023-04-06T00:00:00",
          "2023-04-09T00:00:00",
          "2023-04-09T00:00:00",
          "2023-04-09T00:00:00",
          "2023-04-10T00:00:00",
          "2023-04-10T00:00:00",
          "2023-04-11T00:00:00",
          "2023-04-11T00:00:00",
          "2023-04-12T00:00:00",
          "2023-04-14T00:00:00",
          "2023-04-16T00:00:00",
          "2023-04-16T00:00:00",
          "2023-04-16T00:00:00",
          "2023-04-19T00:00:00",
          "2023-04-19T00:00:00",
          "2023-04-19T00:00:00",
          "2023-04-23T00:00:00",
          "2023-04-23T00:00:00",
          "2023-04-23T00:00:00",
          "2023-04-25T00:00:00",
          "2023-04-25T00:00:00",
          "2023-04-25T00:00:00",
          "2023-04-26T00:00:00",
          "2023-04-26T00:00:00",
          "2023-04-26T00:00:00",
          "2023-04-26T00:00:00",
          "2023-04-26T00:00:00",
          "2023-04-26T00:00:00",
          "2023-04-26T00:00:00",
          "2023-04-26T00:00:00",
          "2023-04-29T00:00:00",
          "2023-04-29T00:00:00",
          "2023-04-29T00:00:00",
          "2023-04-30T00:00:00",
          "2023-04-30T00:00:00",
          "2023-04-30T00:00:00",
          "2023-04-30T00:00:00",
          "2023-04-30T00:00:00",
          "2023-04-30T00:00:00",
          "2023-04-30T00:00:00",
          "2023-05-01T00:00:00",
          "2023-05-01T00:00:00",
          "2023-05-01T00:00:00",
          "2023-05-01T00:00:00",
          "2023-05-01T00:00:00",
          "2023-05-02T00:00:00",
          "2023-05-02T00:00:00",
          "2023-05-04T00:00:00",
          "2023-05-04T00:00:00",
          "2023-05-05T00:00:00",
          "2023-05-05T00:00:00",
          "2023-05-09T00:00:00",
          "2023-05-09T00:00:00",
          "2023-05-09T00:00:00",
          "2023-05-09T00:00:00",
          "2023-05-12T00:00:00",
          "2023-05-13T00:00:00",
          "2023-05-13T00:00:00",
          "2023-05-14T00:00:00",
          "2023-05-14T00:00:00",
          "2023-05-14T00:00:00",
          "2023-05-14T00:00:00",
          "2023-05-15T00:00:00",
          "2023-05-15T00:00:00",
          "2023-05-25T00:00:00",
          "2023-05-27T00:00:00",
          "2023-05-28T00:00:00",
          "2023-05-28T00:00:00",
          "2023-05-28T00:00:00",
          "2023-06-02T00:00:00",
          "2023-06-04T00:00:00",
          "2023-06-06T00:00:00",
          "2023-06-08T00:00:00",
          "2023-06-11T00:00:00",
          "2023-06-12T00:00:00",
          "2023-06-12T00:00:00",
          "2023-06-16T00:00:00",
          "2023-06-17T00:00:00",
          "2023-06-17T00:00:00",
          "2023-06-17T00:00:00",
          "2023-06-18T00:00:00",
          "2023-06-18T00:00:00",
          "2023-06-18T00:00:00",
          "2023-06-18T00:00:00",
          "2023-06-18T00:00:00",
          "2023-06-18T00:00:00",
          "2023-06-19T00:00:00",
          "2023-06-19T00:00:00",
          "2023-06-23T00:00:00",
          "2023-06-23T00:00:00",
          "2023-06-23T00:00:00",
          "2023-06-23T00:00:00",
          "2023-06-23T00:00:00",
          "2023-06-24T00:00:00",
          "2023-06-24T00:00:00",
          "2023-06-25T00:00:00",
          "2023-06-25T00:00:00",
          "2023-06-25T00:00:00",
          "2023-06-26T00:00:00",
          "2023-06-26T00:00:00",
          "2023-06-26T00:00:00",
          "2023-06-28T00:00:00",
          "2023-06-28T00:00:00",
          "2023-06-28T00:00:00",
          "2023-06-29T00:00:00",
          "2023-07-04T00:00:00",
          "2023-07-04T00:00:00",
          "2023-07-10T00:00:00",
          "2023-07-10T00:00:00",
          "2023-07-10T00:00:00",
          "2023-07-13T00:00:00",
          "2023-07-15T00:00:00",
          "2023-07-16T00:00:00",
          "2023-07-16T00:00:00",
          "2023-07-16T00:00:00",
          "2023-07-16T00:00:00",
          "2023-07-17T00:00:00",
          "2023-07-17T00:00:00",
          "2023-07-18T00:00:00",
          "2023-07-18T00:00:00",
          "2023-07-18T00:00:00",
          "2023-07-18T00:00:00",
          "2023-07-26T00:00:00",
          "2023-07-26T00:00:00",
          "2023-07-27T00:00:00",
          "2023-07-29T00:00:00",
          "2023-07-30T00:00:00"
         ],
         "xaxis": "x",
         "y": [
          35702.52,
          32702.52,
          32502.52,
          32475.64,
          22475.64,
          22275.64,
          22075.64,
          21875.64,
          21675.64,
          21664.89,
          16664.89,
          16654.14,
          15654.14,
          14643.39,
          15643.39,
          14632.64,
          12632.64,
          12132.64,
          12121.89,
          10121.89,
          10111.14,
          9111.14,
          9100.39,
          6100.39,
          4100.39,
          10100.39,
          10073.51,
          4073.51,
          3873.51,
          3062.76,
          3362.76,
          3373.51,
          2862.76,
          2662.76,
          2652.01,
          2452.01,
          2352.01,
          2252.01,
          2352.01,
          352.01,
          252.01,
          3252.01,
          33252.01,
          58041.26,
          57841.26,
          58252.01,
          58241.26,
          57741.26,
          57541.26,
          57345.26,
          57145.26,
          48268.38,
          48368.38,
          48168.38,
          48157.63,
          50368.38,
          48368.38,
          57018.38,
          57045.26,
          48068.38,
          48357.63,
          50857.63,
          47857.63,
          51068.38,
          50868.38,
          47657.63,
          47557.63,
          47257.63,
          47157.63,
          47146.88,
          46146.88,
          46446.88,
          46346.88,
          46046.88,
          45946.88,
          45446.88,
          45436.13,
          40436.13,
          40236.13,
          40086.13,
          45086.13,
          35086.13,
          35059.25,
          25059.25,
          25032.37,
          23132.37,
          23121.62,
          20110.87,
          18260.87,
          18250.12,
          20110.87,
          20121.62,
          18260.87,
          17750.12,
          17739.37,
          10501.74,
          10528.62,
          16739.37,
          16728.62,
          10365.74,
          9365.74,
          9265.74,
          5265.74,
          5254.99,
          3254.99,
          3244.24,
          2244.24,
          2233.49,
          3233.49,
          33233.49,
          43733.49,
          66263.49,
          66235.49,
          66031.74,
          66085.49,
          92831.74,
          32831.74,
          32777.99,
          67647.99,
          87647.99,
          115097.99,
          57097.99,
          57044.24,
          7044.24,
          7017.36,
          5006.61,
          7106.61,
          5017.36,
          6906.61,
          6406.61,
          3406.61,
          3395.86,
          395.86,
          385.11,
          20385.11,
          385.11,
          358.23,
          18408.23,
          18208.23,
          13208.23,
          13197.48,
          12197.48,
          14697.48,
          14247.48,
          14497.48,
          14447.48,
          4247.48,
          4220.6,
          32575.6,
          25075.6,
          25048.72,
          24998.72,
          18498.72,
          18471.84,
          33471.84,
          33444.96,
          33471.84,
          25871.84,
          25844.96,
          23471.84,
          23444.96,
          23471.84,
          33471.84,
          33283.84,
          31283.84,
          31273.09,
          29023.09,
          29012.34,
          26612.34,
          26601.59,
          26551.59,
          24551.59,
          24540.84,
          17103.21,
          17113.96,
          22113.96,
          18140.84,
          18113.96,
          11903.21,
          11876.33,
          6876.33,
          6865.58,
          6265.58,
          6254.83,
          5954.83,
          5654.83,
          3654.83,
          3644.08,
          3344.08,
          2844.08,
          3044.08,
          633.33,
          133.33,
          2644.08,
          644.08,
          33.33,
          233.33,
          15233.33,
          15117.33,
          15067.33,
          14967.33,
          13967.33,
          53967.33,
          53917.33,
          93917.33,
          91917.33,
          91867.33,
          81867.33,
          81840.45,
          81540.45,
          81240.45,
          76240.45,
          76229.7,
          51292.07,
          63292.07,
          51265.19,
          71218.95,
          71229.7,
          63318.95,
          50115.19,
          50104.44,
          41366.81,
          42104.44,
          42077.56,
          41577.56,
          41566.81,
          31339.93,
          31366.81,
          31039.93,
          26039.93,
          26029.18,
          25729.18,
          24229.18,
          24218.43,
          14218.43,
          14191.55,
          14137.8,
          13985.8,
          10985.8,
          10975.05,
          10964.3,
          5964.3,
          25964.3,
          62584.3,
          62284.3,
          62084.3,
          61984.3,
          51984.3,
          51957.42,
          16642.42,
          16615.54,
          11615.54,
          11604.79,
          7604.79,
          7594.04,
          6594.04,
          16594.04,
          16394.04,
          16330.04,
          16280.04
         ],
         "yaxis": "y"
        }
       ],
       "layout": {
        "legend": {
         "tracegroupgap": 0
        },
        "template": {
         "data": {
          "bar": [
           {
            "error_x": {
             "color": "#2a3f5f"
            },
            "error_y": {
             "color": "#2a3f5f"
            },
            "marker": {
             "line": {
              "color": "#E5ECF6",
              "width": 0.5
             },
             "pattern": {
              "fillmode": "overlay",
              "size": 10,
              "solidity": 0.2
             }
            },
            "type": "bar"
           }
          ],
          "barpolar": [
           {
            "marker": {
             "line": {
              "color": "#E5ECF6",
              "width": 0.5
             },
             "pattern": {
              "fillmode": "overlay",
              "size": 10,
              "solidity": 0.2
             }
            },
            "type": "barpolar"
           }
          ],
          "carpet": [
           {
            "aaxis": {
             "endlinecolor": "#2a3f5f",
             "gridcolor": "white",
             "linecolor": "white",
             "minorgridcolor": "white",
             "startlinecolor": "#2a3f5f"
            },
            "baxis": {
             "endlinecolor": "#2a3f5f",
             "gridcolor": "white",
             "linecolor": "white",
             "minorgridcolor": "white",
             "startlinecolor": "#2a3f5f"
            },
            "type": "carpet"
           }
          ],
          "choropleth": [
           {
            "colorbar": {
             "outlinewidth": 0,
             "ticks": ""
            },
            "type": "choropleth"
           }
          ],
          "contour": [
           {
            "colorbar": {
             "outlinewidth": 0,
             "ticks": ""
            },
            "colorscale": [
             [
              0,
              "#0d0887"
             ],
             [
              0.1111111111111111,
              "#46039f"
             ],
             [
              0.2222222222222222,
              "#7201a8"
             ],
             [
              0.3333333333333333,
              "#9c179e"
             ],
             [
              0.4444444444444444,
              "#bd3786"
             ],
             [
              0.5555555555555556,
              "#d8576b"
             ],
             [
              0.6666666666666666,
              "#ed7953"
             ],
             [
              0.7777777777777778,
              "#fb9f3a"
             ],
             [
              0.8888888888888888,
              "#fdca26"
             ],
             [
              1,
              "#f0f921"
             ]
            ],
            "type": "contour"
           }
          ],
          "contourcarpet": [
           {
            "colorbar": {
             "outlinewidth": 0,
             "ticks": ""
            },
            "type": "contourcarpet"
           }
          ],
          "heatmap": [
           {
            "colorbar": {
             "outlinewidth": 0,
             "ticks": ""
            },
            "colorscale": [
             [
              0,
              "#0d0887"
             ],
             [
              0.1111111111111111,
              "#46039f"
             ],
             [
              0.2222222222222222,
              "#7201a8"
             ],
             [
              0.3333333333333333,
              "#9c179e"
             ],
             [
              0.4444444444444444,
              "#bd3786"
             ],
             [
              0.5555555555555556,
              "#d8576b"
             ],
             [
              0.6666666666666666,
              "#ed7953"
             ],
             [
              0.7777777777777778,
              "#fb9f3a"
             ],
             [
              0.8888888888888888,
              "#fdca26"
             ],
             [
              1,
              "#f0f921"
             ]
            ],
            "type": "heatmap"
           }
          ],
          "heatmapgl": [
           {
            "colorbar": {
             "outlinewidth": 0,
             "ticks": ""
            },
            "colorscale": [
             [
              0,
              "#0d0887"
             ],
             [
              0.1111111111111111,
              "#46039f"
             ],
             [
              0.2222222222222222,
              "#7201a8"
             ],
             [
              0.3333333333333333,
              "#9c179e"
             ],
             [
              0.4444444444444444,
              "#bd3786"
             ],
             [
              0.5555555555555556,
              "#d8576b"
             ],
             [
              0.6666666666666666,
              "#ed7953"
             ],
             [
              0.7777777777777778,
              "#fb9f3a"
             ],
             [
              0.8888888888888888,
              "#fdca26"
             ],
             [
              1,
              "#f0f921"
             ]
            ],
            "type": "heatmapgl"
           }
          ],
          "histogram": [
           {
            "marker": {
             "pattern": {
              "fillmode": "overlay",
              "size": 10,
              "solidity": 0.2
             }
            },
            "type": "histogram"
           }
          ],
          "histogram2d": [
           {
            "colorbar": {
             "outlinewidth": 0,
             "ticks": ""
            },
            "colorscale": [
             [
              0,
              "#0d0887"
             ],
             [
              0.1111111111111111,
              "#46039f"
             ],
             [
              0.2222222222222222,
              "#7201a8"
             ],
             [
              0.3333333333333333,
              "#9c179e"
             ],
             [
              0.4444444444444444,
              "#bd3786"
             ],
             [
              0.5555555555555556,
              "#d8576b"
             ],
             [
              0.6666666666666666,
              "#ed7953"
             ],
             [
              0.7777777777777778,
              "#fb9f3a"
             ],
             [
              0.8888888888888888,
              "#fdca26"
             ],
             [
              1,
              "#f0f921"
             ]
            ],
            "type": "histogram2d"
           }
          ],
          "histogram2dcontour": [
           {
            "colorbar": {
             "outlinewidth": 0,
             "ticks": ""
            },
            "colorscale": [
             [
              0,
              "#0d0887"
             ],
             [
              0.1111111111111111,
              "#46039f"
             ],
             [
              0.2222222222222222,
              "#7201a8"
             ],
             [
              0.3333333333333333,
              "#9c179e"
             ],
             [
              0.4444444444444444,
              "#bd3786"
             ],
             [
              0.5555555555555556,
              "#d8576b"
             ],
             [
              0.6666666666666666,
              "#ed7953"
             ],
             [
              0.7777777777777778,
              "#fb9f3a"
             ],
             [
              0.8888888888888888,
              "#fdca26"
             ],
             [
              1,
              "#f0f921"
             ]
            ],
            "type": "histogram2dcontour"
           }
          ],
          "mesh3d": [
           {
            "colorbar": {
             "outlinewidth": 0,
             "ticks": ""
            },
            "type": "mesh3d"
           }
          ],
          "parcoords": [
           {
            "line": {
             "colorbar": {
              "outlinewidth": 0,
              "ticks": ""
             }
            },
            "type": "parcoords"
           }
          ],
          "pie": [
           {
            "automargin": true,
            "type": "pie"
           }
          ],
          "scatter": [
           {
            "fillpattern": {
             "fillmode": "overlay",
             "size": 10,
             "solidity": 0.2
            },
            "type": "scatter"
           }
          ],
          "scatter3d": [
           {
            "line": {
             "colorbar": {
              "outlinewidth": 0,
              "ticks": ""
             }
            },
            "marker": {
             "colorbar": {
              "outlinewidth": 0,
              "ticks": ""
             }
            },
            "type": "scatter3d"
           }
          ],
          "scattercarpet": [
           {
            "marker": {
             "colorbar": {
              "outlinewidth": 0,
              "ticks": ""
             }
            },
            "type": "scattercarpet"
           }
          ],
          "scattergeo": [
           {
            "marker": {
             "colorbar": {
              "outlinewidth": 0,
              "ticks": ""
             }
            },
            "type": "scattergeo"
           }
          ],
          "scattergl": [
           {
            "marker": {
             "colorbar": {
              "outlinewidth": 0,
              "ticks": ""
             }
            },
            "type": "scattergl"
           }
          ],
          "scattermapbox": [
           {
            "marker": {
             "colorbar": {
              "outlinewidth": 0,
              "ticks": ""
             }
            },
            "type": "scattermapbox"
           }
          ],
          "scatterpolar": [
           {
            "marker": {
             "colorbar": {
              "outlinewidth": 0,
              "ticks": ""
             }
            },
            "type": "scatterpolar"
           }
          ],
          "scatterpolargl": [
           {
            "marker": {
             "colorbar": {
              "outlinewidth": 0,
              "ticks": ""
             }
            },
            "type": "scatterpolargl"
           }
          ],
          "scatterternary": [
           {
            "marker": {
             "colorbar": {
              "outlinewidth": 0,
              "ticks": ""
             }
            },
            "type": "scatterternary"
           }
          ],
          "surface": [
           {
            "colorbar": {
             "outlinewidth": 0,
             "ticks": ""
            },
            "colorscale": [
             [
              0,
              "#0d0887"
             ],
             [
              0.1111111111111111,
              "#46039f"
             ],
             [
              0.2222222222222222,
              "#7201a8"
             ],
             [
              0.3333333333333333,
              "#9c179e"
             ],
             [
              0.4444444444444444,
              "#bd3786"
             ],
             [
              0.5555555555555556,
              "#d8576b"
             ],
             [
              0.6666666666666666,
              "#ed7953"
             ],
             [
              0.7777777777777778,
              "#fb9f3a"
             ],
             [
              0.8888888888888888,
              "#fdca26"
             ],
             [
              1,
              "#f0f921"
             ]
            ],
            "type": "surface"
           }
          ],
          "table": [
           {
            "cells": {
             "fill": {
              "color": "#EBF0F8"
             },
             "line": {
              "color": "white"
             }
            },
            "header": {
             "fill": {
              "color": "#C8D4E3"
             },
             "line": {
              "color": "white"
             }
            },
            "type": "table"
           }
          ]
         },
         "layout": {
          "annotationdefaults": {
           "arrowcolor": "#2a3f5f",
           "arrowhead": 0,
           "arrowwidth": 1
          },
          "autotypenumbers": "strict",
          "coloraxis": {
           "colorbar": {
            "outlinewidth": 0,
            "ticks": ""
           }
          },
          "colorscale": {
           "diverging": [
            [
             0,
             "#8e0152"
            ],
            [
             0.1,
             "#c51b7d"
            ],
            [
             0.2,
             "#de77ae"
            ],
            [
             0.3,
             "#f1b6da"
            ],
            [
             0.4,
             "#fde0ef"
            ],
            [
             0.5,
             "#f7f7f7"
            ],
            [
             0.6,
             "#e6f5d0"
            ],
            [
             0.7,
             "#b8e186"
            ],
            [
             0.8,
             "#7fbc41"
            ],
            [
             0.9,
             "#4d9221"
            ],
            [
             1,
             "#276419"
            ]
           ],
           "sequential": [
            [
             0,
             "#0d0887"
            ],
            [
             0.1111111111111111,
             "#46039f"
            ],
            [
             0.2222222222222222,
             "#7201a8"
            ],
            [
             0.3333333333333333,
             "#9c179e"
            ],
            [
             0.4444444444444444,
             "#bd3786"
            ],
            [
             0.5555555555555556,
             "#d8576b"
            ],
            [
             0.6666666666666666,
             "#ed7953"
            ],
            [
             0.7777777777777778,
             "#fb9f3a"
            ],
            [
             0.8888888888888888,
             "#fdca26"
            ],
            [
             1,
             "#f0f921"
            ]
           ],
           "sequentialminus": [
            [
             0,
             "#0d0887"
            ],
            [
             0.1111111111111111,
             "#46039f"
            ],
            [
             0.2222222222222222,
             "#7201a8"
            ],
            [
             0.3333333333333333,
             "#9c179e"
            ],
            [
             0.4444444444444444,
             "#bd3786"
            ],
            [
             0.5555555555555556,
             "#d8576b"
            ],
            [
             0.6666666666666666,
             "#ed7953"
            ],
            [
             0.7777777777777778,
             "#fb9f3a"
            ],
            [
             0.8888888888888888,
             "#fdca26"
            ],
            [
             1,
             "#f0f921"
            ]
           ]
          },
          "colorway": [
           "#636efa",
           "#EF553B",
           "#00cc96",
           "#ab63fa",
           "#FFA15A",
           "#19d3f3",
           "#FF6692",
           "#B6E880",
           "#FF97FF",
           "#FECB52"
          ],
          "font": {
           "color": "#2a3f5f"
          },
          "geo": {
           "bgcolor": "white",
           "lakecolor": "white",
           "landcolor": "#E5ECF6",
           "showlakes": true,
           "showland": true,
           "subunitcolor": "white"
          },
          "hoverlabel": {
           "align": "left"
          },
          "hovermode": "closest",
          "mapbox": {
           "style": "light"
          },
          "paper_bgcolor": "white",
          "plot_bgcolor": "#E5ECF6",
          "polar": {
           "angularaxis": {
            "gridcolor": "white",
            "linecolor": "white",
            "ticks": ""
           },
           "bgcolor": "#E5ECF6",
           "radialaxis": {
            "gridcolor": "white",
            "linecolor": "white",
            "ticks": ""
           }
          },
          "scene": {
           "xaxis": {
            "backgroundcolor": "#E5ECF6",
            "gridcolor": "white",
            "gridwidth": 2,
            "linecolor": "white",
            "showbackground": true,
            "ticks": "",
            "zerolinecolor": "white"
           },
           "yaxis": {
            "backgroundcolor": "#E5ECF6",
            "gridcolor": "white",
            "gridwidth": 2,
            "linecolor": "white",
            "showbackground": true,
            "ticks": "",
            "zerolinecolor": "white"
           },
           "zaxis": {
            "backgroundcolor": "#E5ECF6",
            "gridcolor": "white",
            "gridwidth": 2,
            "linecolor": "white",
            "showbackground": true,
            "ticks": "",
            "zerolinecolor": "white"
           }
          },
          "shapedefaults": {
           "line": {
            "color": "#2a3f5f"
           }
          },
          "ternary": {
           "aaxis": {
            "gridcolor": "white",
            "linecolor": "white",
            "ticks": ""
           },
           "baxis": {
            "gridcolor": "white",
            "linecolor": "white",
            "ticks": ""
           },
           "bgcolor": "#E5ECF6",
           "caxis": {
            "gridcolor": "white",
            "linecolor": "white",
            "ticks": ""
           }
          },
          "title": {
           "x": 0.05
          },
          "xaxis": {
           "automargin": true,
           "gridcolor": "white",
           "linecolor": "white",
           "ticks": "",
           "title": {
            "standoff": 15
           },
           "zerolinecolor": "white",
           "zerolinewidth": 2
          },
          "yaxis": {
           "automargin": true,
           "gridcolor": "white",
           "linecolor": "white",
           "ticks": "",
           "title": {
            "standoff": 15
           },
           "zerolinecolor": "white",
           "zerolinewidth": 2
          }
         }
        },
        "title": {
         "text": "Balance Over Time"
        },
        "xaxis": {
         "anchor": "y",
         "domain": [
          0,
          1
         ],
         "title": {
          "text": "Date"
         }
        },
        "yaxis": {
         "anchor": "x",
         "domain": [
          0,
          1
         ],
         "title": {
          "text": "Balance"
         }
        }
       }
      },
      "text/html": [
       "<div>                            <div id=\"342a488f-590b-4751-96f3-a93b7d2d28ad\" class=\"plotly-graph-div\" style=\"height:525px; width:100%;\"></div>            <script type=\"text/javascript\">                require([\"plotly\"], function(Plotly) {                    window.PLOTLYENV=window.PLOTLYENV || {};                                    if (document.getElementById(\"342a488f-590b-4751-96f3-a93b7d2d28ad\")) {                    Plotly.newPlot(                        \"342a488f-590b-4751-96f3-a93b7d2d28ad\",                        [{\"hovertemplate\":\"Date=%{x}<br>Balance=%{y}<extra></extra>\",\"legendgroup\":\"\",\"line\":{\"color\":\"#636efa\",\"dash\":\"solid\"},\"marker\":{\"symbol\":\"circle\"},\"mode\":\"lines\",\"name\":\"\",\"orientation\":\"v\",\"showlegend\":false,\"x\":[\"2023-01-02T00:00:00\",\"2023-01-02T00:00:00\",\"2023-01-02T00:00:00\",\"2023-01-02T00:00:00\",\"2023-01-02T00:00:00\",\"2023-01-02T00:00:00\",\"2023-01-02T00:00:00\",\"2023-01-03T00:00:00\",\"2023-01-04T00:00:00\",\"2023-01-04T00:00:00\",\"2023-01-04T00:00:00\",\"2023-01-05T00:00:00\",\"2023-01-05T00:00:00\",\"2023-01-07T00:00:00\",\"2023-01-07T00:00:00\",\"2023-01-12T00:00:00\",\"2023-01-12T00:00:00\",\"2023-01-13T00:00:00\",\"2023-01-16T00:00:00\",\"2023-01-16T00:00:00\",\"2023-01-17T00:00:00\",\"2023-01-17T00:00:00\",\"2023-01-18T00:00:00\",\"2023-01-18T00:00:00\",\"2023-01-18T00:00:00\",\"2023-01-19T00:00:00\",\"2023-01-19T00:00:00\",\"2023-01-19T00:00:00\",\"2023-01-20T00:00:00\",\"2023-01-22T00:00:00\",\"2023-01-22T00:00:00\",\"2023-01-22T00:00:00\",\"2023-01-23T00:00:00\",\"2023-01-23T00:00:00\",\"2023-01-23T00:00:00\",\"2023-01-23T00:00:00\",\"2023-01-26T00:00:00\",\"2023-01-26T00:00:00\",\"2023-01-26T00:00:00\",\"2023-01-26T00:00:00\",\"2023-01-26T00:00:00\",\"2023-01-26T00:00:00\",\"2023-01-26T00:00:00\",\"2023-01-27T00:00:00\",\"2023-01-27T00:00:00\",\"2023-01-27T00:00:00\",\"2023-01-27T00:00:00\",\"2023-01-28T00:00:00\",\"2023-01-28T00:00:00\",\"2023-01-28T00:00:00\",\"2023-01-28T00:00:00\",\"2023-01-29T00:00:00\",\"2023-01-29T00:00:00\",\"2023-01-29T00:00:00\",\"2023-01-29T00:00:00\",\"2023-01-29T00:00:00\",\"2023-01-29T00:00:00\",\"2023-01-29T00:00:00\",\"2023-01-29T00:00:00\",\"2023-01-29T00:00:00\",\"2023-01-29T00:00:00\",\"2023-01-31T00:00:00\",\"2023-01-31T00:00:00\",\"2023-01-31T00:00:00\",\"2023-01-31T00:00:00\",\"2023-02-01T00:00:00\",\"2023-02-02T00:00:00\",\"2023-02-02T00:00:00\",\"2023-02-02T00:00:00\",\"2023-02-03T00:00:00\",\"2023-02-03T00:00:00\",\"2023-02-04T00:00:00\",\"2023-02-04T00:00:00\",\"2023-02-04T00:00:00\",\"2023-02-04T00:00:00\",\"2023-02-04T00:00:00\",\"2023-02-07T00:00:00\",\"2023-02-07T00:00:00\",\"2023-02-08T00:00:00\",\"2023-02-09T00:00:00\",\"2023-02-12T00:00:00\",\"2023-02-14T00:00:00\",\"2023-02-14T00:00:00\",\"2023-02-14T00:00:00\",\"2023-02-14T00:00:00\",\"2023-02-17T00:00:00\",\"2023-02-17T00:00:00\",\"2023-02-18T00:00:00\",\"2023-02-18T00:00:00\",\"2023-02-18T00:00:00\",\"2023-02-18T00:00:00\",\"2023-02-18T00:00:00\",\"2023-02-18T00:00:00\",\"2023-02-19T00:00:00\",\"2023-02-19T00:00:00\",\"2023-02-22T00:00:00\",\"2023-02-22T00:00:00\",\"2023-02-22T00:00:00\",\"2023-02-22T00:00:00\",\"2023-02-25T00:00:00\",\"2023-03-01T00:00:00\",\"2023-03-01T00:00:00\",\"2023-03-03T00:00:00\",\"2023-03-03T00:00:00\",\"2023-03-16T00:00:00\",\"2023-03-16T00:00:00\",\"2023-03-18T00:00:00\",\"2023-03-18T00:00:00\",\"2023-03-19T00:00:00\",\"2023-03-24T00:00:00\",\"2023-03-24T00:00:00\",\"2023-03-25T00:00:00\",\"2023-03-25T00:00:00\",\"2023-03-26T00:00:00\",\"2023-03-26T00:00:00\",\"2023-03-27T00:00:00\",\"2023-03-28T00:00:00\",\"2023-03-28T00:00:00\",\"2023-03-29T00:00:00\",\"2023-03-29T00:00:00\",\"2023-03-30T00:00:00\",\"2023-03-31T00:00:00\",\"2023-03-31T00:00:00\",\"2023-03-31T00:00:00\",\"2023-03-31T00:00:00\",\"2023-04-02T00:00:00\",\"2023-04-02T00:00:00\",\"2023-04-02T00:00:00\",\"2023-04-02T00:00:00\",\"2023-04-04T00:00:00\",\"2023-04-05T00:00:00\",\"2023-04-05T00:00:00\",\"2023-04-06T00:00:00\",\"2023-04-06T00:00:00\",\"2023-04-09T00:00:00\",\"2023-04-09T00:00:00\",\"2023-04-09T00:00:00\",\"2023-04-10T00:00:00\",\"2023-04-10T00:00:00\",\"2023-04-11T00:00:00\",\"2023-04-11T00:00:00\",\"2023-04-12T00:00:00\",\"2023-04-14T00:00:00\",\"2023-04-16T00:00:00\",\"2023-04-16T00:00:00\",\"2023-04-16T00:00:00\",\"2023-04-19T00:00:00\",\"2023-04-19T00:00:00\",\"2023-04-19T00:00:00\",\"2023-04-23T00:00:00\",\"2023-04-23T00:00:00\",\"2023-04-23T00:00:00\",\"2023-04-25T00:00:00\",\"2023-04-25T00:00:00\",\"2023-04-25T00:00:00\",\"2023-04-26T00:00:00\",\"2023-04-26T00:00:00\",\"2023-04-26T00:00:00\",\"2023-04-26T00:00:00\",\"2023-04-26T00:00:00\",\"2023-04-26T00:00:00\",\"2023-04-26T00:00:00\",\"2023-04-26T00:00:00\",\"2023-04-29T00:00:00\",\"2023-04-29T00:00:00\",\"2023-04-29T00:00:00\",\"2023-04-30T00:00:00\",\"2023-04-30T00:00:00\",\"2023-04-30T00:00:00\",\"2023-04-30T00:00:00\",\"2023-04-30T00:00:00\",\"2023-04-30T00:00:00\",\"2023-04-30T00:00:00\",\"2023-05-01T00:00:00\",\"2023-05-01T00:00:00\",\"2023-05-01T00:00:00\",\"2023-05-01T00:00:00\",\"2023-05-01T00:00:00\",\"2023-05-02T00:00:00\",\"2023-05-02T00:00:00\",\"2023-05-04T00:00:00\",\"2023-05-04T00:00:00\",\"2023-05-05T00:00:00\",\"2023-05-05T00:00:00\",\"2023-05-09T00:00:00\",\"2023-05-09T00:00:00\",\"2023-05-09T00:00:00\",\"2023-05-09T00:00:00\",\"2023-05-12T00:00:00\",\"2023-05-13T00:00:00\",\"2023-05-13T00:00:00\",\"2023-05-14T00:00:00\",\"2023-05-14T00:00:00\",\"2023-05-14T00:00:00\",\"2023-05-14T00:00:00\",\"2023-05-15T00:00:00\",\"2023-05-15T00:00:00\",\"2023-05-25T00:00:00\",\"2023-05-27T00:00:00\",\"2023-05-28T00:00:00\",\"2023-05-28T00:00:00\",\"2023-05-28T00:00:00\",\"2023-06-02T00:00:00\",\"2023-06-04T00:00:00\",\"2023-06-06T00:00:00\",\"2023-06-08T00:00:00\",\"2023-06-11T00:00:00\",\"2023-06-12T00:00:00\",\"2023-06-12T00:00:00\",\"2023-06-16T00:00:00\",\"2023-06-17T00:00:00\",\"2023-06-17T00:00:00\",\"2023-06-17T00:00:00\",\"2023-06-18T00:00:00\",\"2023-06-18T00:00:00\",\"2023-06-18T00:00:00\",\"2023-06-18T00:00:00\",\"2023-06-18T00:00:00\",\"2023-06-18T00:00:00\",\"2023-06-19T00:00:00\",\"2023-06-19T00:00:00\",\"2023-06-23T00:00:00\",\"2023-06-23T00:00:00\",\"2023-06-23T00:00:00\",\"2023-06-23T00:00:00\",\"2023-06-23T00:00:00\",\"2023-06-24T00:00:00\",\"2023-06-24T00:00:00\",\"2023-06-25T00:00:00\",\"2023-06-25T00:00:00\",\"2023-06-25T00:00:00\",\"2023-06-26T00:00:00\",\"2023-06-26T00:00:00\",\"2023-06-26T00:00:00\",\"2023-06-28T00:00:00\",\"2023-06-28T00:00:00\",\"2023-06-28T00:00:00\",\"2023-06-29T00:00:00\",\"2023-07-04T00:00:00\",\"2023-07-04T00:00:00\",\"2023-07-10T00:00:00\",\"2023-07-10T00:00:00\",\"2023-07-10T00:00:00\",\"2023-07-13T00:00:00\",\"2023-07-15T00:00:00\",\"2023-07-16T00:00:00\",\"2023-07-16T00:00:00\",\"2023-07-16T00:00:00\",\"2023-07-16T00:00:00\",\"2023-07-17T00:00:00\",\"2023-07-17T00:00:00\",\"2023-07-18T00:00:00\",\"2023-07-18T00:00:00\",\"2023-07-18T00:00:00\",\"2023-07-18T00:00:00\",\"2023-07-26T00:00:00\",\"2023-07-26T00:00:00\",\"2023-07-27T00:00:00\",\"2023-07-29T00:00:00\",\"2023-07-30T00:00:00\"],\"xaxis\":\"x\",\"y\":[35702.52,32702.52,32502.52,32475.64,22475.64,22275.64,22075.64,21875.64,21675.64,21664.89,16664.89,16654.14,15654.14,14643.39,15643.39,14632.64,12632.64,12132.64,12121.89,10121.89,10111.14,9111.14,9100.39,6100.39,4100.39,10100.39,10073.51,4073.51,3873.51,3062.76,3362.76,3373.51,2862.76,2662.76,2652.01,2452.01,2352.01,2252.01,2352.01,352.01,252.01,3252.01,33252.01,58041.26,57841.26,58252.01,58241.26,57741.26,57541.26,57345.26,57145.26,48268.38,48368.38,48168.38,48157.63,50368.38,48368.38,57018.38,57045.26,48068.38,48357.63,50857.63,47857.63,51068.38,50868.38,47657.63,47557.63,47257.63,47157.63,47146.88,46146.88,46446.88,46346.88,46046.88,45946.88,45446.88,45436.13,40436.13,40236.13,40086.13,45086.13,35086.13,35059.25,25059.25,25032.37,23132.37,23121.62,20110.87,18260.87,18250.12,20110.87,20121.62,18260.87,17750.12,17739.37,10501.74,10528.62,16739.37,16728.62,10365.74,9365.74,9265.74,5265.74,5254.99,3254.99,3244.24,2244.24,2233.49,3233.49,33233.49,43733.49,66263.49,66235.49,66031.74,66085.49,92831.74,32831.74,32777.99,67647.99,87647.99,115097.99,57097.99,57044.24,7044.24,7017.36,5006.61,7106.61,5017.36,6906.61,6406.61,3406.61,3395.86,395.86,385.11,20385.11,385.11,358.23,18408.23,18208.23,13208.23,13197.48,12197.48,14697.48,14247.48,14497.48,14447.48,4247.48,4220.6,32575.6,25075.6,25048.72,24998.72,18498.72,18471.84,33471.84,33444.96,33471.84,25871.84,25844.96,23471.84,23444.96,23471.84,33471.84,33283.84,31283.84,31273.09,29023.09,29012.34,26612.34,26601.59,26551.59,24551.59,24540.84,17103.21,17113.96,22113.96,18140.84,18113.96,11903.21,11876.33,6876.33,6865.58,6265.58,6254.83,5954.83,5654.83,3654.83,3644.08,3344.08,2844.08,3044.08,633.33,133.33,2644.08,644.08,33.33,233.33,15233.33,15117.33,15067.33,14967.33,13967.33,53967.33,53917.33,93917.33,91917.33,91867.33,81867.33,81840.45,81540.45,81240.45,76240.45,76229.7,51292.07,63292.07,51265.19,71218.95,71229.7,63318.95,50115.19,50104.44,41366.81,42104.44,42077.56,41577.56,41566.81,31339.93,31366.81,31039.93,26039.93,26029.18,25729.18,24229.18,24218.43,14218.43,14191.55,14137.8,13985.8,10985.8,10975.05,10964.3,5964.3,25964.3,62584.3,62284.3,62084.3,61984.3,51984.3,51957.42,16642.42,16615.54,11615.54,11604.79,7604.79,7594.04,6594.04,16594.04,16394.04,16330.04,16280.04],\"yaxis\":\"y\",\"type\":\"scatter\"}],                        {\"template\":{\"data\":{\"histogram2dcontour\":[{\"type\":\"histogram2dcontour\",\"colorbar\":{\"outlinewidth\":0,\"ticks\":\"\"},\"colorscale\":[[0.0,\"#0d0887\"],[0.1111111111111111,\"#46039f\"],[0.2222222222222222,\"#7201a8\"],[0.3333333333333333,\"#9c179e\"],[0.4444444444444444,\"#bd3786\"],[0.5555555555555556,\"#d8576b\"],[0.6666666666666666,\"#ed7953\"],[0.7777777777777778,\"#fb9f3a\"],[0.8888888888888888,\"#fdca26\"],[1.0,\"#f0f921\"]]}],\"choropleth\":[{\"type\":\"choropleth\",\"colorbar\":{\"outlinewidth\":0,\"ticks\":\"\"}}],\"histogram2d\":[{\"type\":\"histogram2d\",\"colorbar\":{\"outlinewidth\":0,\"ticks\":\"\"},\"colorscale\":[[0.0,\"#0d0887\"],[0.1111111111111111,\"#46039f\"],[0.2222222222222222,\"#7201a8\"],[0.3333333333333333,\"#9c179e\"],[0.4444444444444444,\"#bd3786\"],[0.5555555555555556,\"#d8576b\"],[0.6666666666666666,\"#ed7953\"],[0.7777777777777778,\"#fb9f3a\"],[0.8888888888888888,\"#fdca26\"],[1.0,\"#f0f921\"]]}],\"heatmap\":[{\"type\":\"heatmap\",\"colorbar\":{\"outlinewidth\":0,\"ticks\":\"\"},\"colorscale\":[[0.0,\"#0d0887\"],[0.1111111111111111,\"#46039f\"],[0.2222222222222222,\"#7201a8\"],[0.3333333333333333,\"#9c179e\"],[0.4444444444444444,\"#bd3786\"],[0.5555555555555556,\"#d8576b\"],[0.6666666666666666,\"#ed7953\"],[0.7777777777777778,\"#fb9f3a\"],[0.8888888888888888,\"#fdca26\"],[1.0,\"#f0f921\"]]}],\"heatmapgl\":[{\"type\":\"heatmapgl\",\"colorbar\":{\"outlinewidth\":0,\"ticks\":\"\"},\"colorscale\":[[0.0,\"#0d0887\"],[0.1111111111111111,\"#46039f\"],[0.2222222222222222,\"#7201a8\"],[0.3333333333333333,\"#9c179e\"],[0.4444444444444444,\"#bd3786\"],[0.5555555555555556,\"#d8576b\"],[0.6666666666666666,\"#ed7953\"],[0.7777777777777778,\"#fb9f3a\"],[0.8888888888888888,\"#fdca26\"],[1.0,\"#f0f921\"]]}],\"contourcarpet\":[{\"type\":\"contourcarpet\",\"colorbar\":{\"outlinewidth\":0,\"ticks\":\"\"}}],\"contour\":[{\"type\":\"contour\",\"colorbar\":{\"outlinewidth\":0,\"ticks\":\"\"},\"colorscale\":[[0.0,\"#0d0887\"],[0.1111111111111111,\"#46039f\"],[0.2222222222222222,\"#7201a8\"],[0.3333333333333333,\"#9c179e\"],[0.4444444444444444,\"#bd3786\"],[0.5555555555555556,\"#d8576b\"],[0.6666666666666666,\"#ed7953\"],[0.7777777777777778,\"#fb9f3a\"],[0.8888888888888888,\"#fdca26\"],[1.0,\"#f0f921\"]]}],\"surface\":[{\"type\":\"surface\",\"colorbar\":{\"outlinewidth\":0,\"ticks\":\"\"},\"colorscale\":[[0.0,\"#0d0887\"],[0.1111111111111111,\"#46039f\"],[0.2222222222222222,\"#7201a8\"],[0.3333333333333333,\"#9c179e\"],[0.4444444444444444,\"#bd3786\"],[0.5555555555555556,\"#d8576b\"],[0.6666666666666666,\"#ed7953\"],[0.7777777777777778,\"#fb9f3a\"],[0.8888888888888888,\"#fdca26\"],[1.0,\"#f0f921\"]]}],\"mesh3d\":[{\"type\":\"mesh3d\",\"colorbar\":{\"outlinewidth\":0,\"ticks\":\"\"}}],\"scatter\":[{\"fillpattern\":{\"fillmode\":\"overlay\",\"size\":10,\"solidity\":0.2},\"type\":\"scatter\"}],\"parcoords\":[{\"type\":\"parcoords\",\"line\":{\"colorbar\":{\"outlinewidth\":0,\"ticks\":\"\"}}}],\"scatterpolargl\":[{\"type\":\"scatterpolargl\",\"marker\":{\"colorbar\":{\"outlinewidth\":0,\"ticks\":\"\"}}}],\"bar\":[{\"error_x\":{\"color\":\"#2a3f5f\"},\"error_y\":{\"color\":\"#2a3f5f\"},\"marker\":{\"line\":{\"color\":\"#E5ECF6\",\"width\":0.5},\"pattern\":{\"fillmode\":\"overlay\",\"size\":10,\"solidity\":0.2}},\"type\":\"bar\"}],\"scattergeo\":[{\"type\":\"scattergeo\",\"marker\":{\"colorbar\":{\"outlinewidth\":0,\"ticks\":\"\"}}}],\"scatterpolar\":[{\"type\":\"scatterpolar\",\"marker\":{\"colorbar\":{\"outlinewidth\":0,\"ticks\":\"\"}}}],\"histogram\":[{\"marker\":{\"pattern\":{\"fillmode\":\"overlay\",\"size\":10,\"solidity\":0.2}},\"type\":\"histogram\"}],\"scattergl\":[{\"type\":\"scattergl\",\"marker\":{\"colorbar\":{\"outlinewidth\":0,\"ticks\":\"\"}}}],\"scatter3d\":[{\"type\":\"scatter3d\",\"line\":{\"colorbar\":{\"outlinewidth\":0,\"ticks\":\"\"}},\"marker\":{\"colorbar\":{\"outlinewidth\":0,\"ticks\":\"\"}}}],\"scattermapbox\":[{\"type\":\"scattermapbox\",\"marker\":{\"colorbar\":{\"outlinewidth\":0,\"ticks\":\"\"}}}],\"scatterternary\":[{\"type\":\"scatterternary\",\"marker\":{\"colorbar\":{\"outlinewidth\":0,\"ticks\":\"\"}}}],\"scattercarpet\":[{\"type\":\"scattercarpet\",\"marker\":{\"colorbar\":{\"outlinewidth\":0,\"ticks\":\"\"}}}],\"carpet\":[{\"aaxis\":{\"endlinecolor\":\"#2a3f5f\",\"gridcolor\":\"white\",\"linecolor\":\"white\",\"minorgridcolor\":\"white\",\"startlinecolor\":\"#2a3f5f\"},\"baxis\":{\"endlinecolor\":\"#2a3f5f\",\"gridcolor\":\"white\",\"linecolor\":\"white\",\"minorgridcolor\":\"white\",\"startlinecolor\":\"#2a3f5f\"},\"type\":\"carpet\"}],\"table\":[{\"cells\":{\"fill\":{\"color\":\"#EBF0F8\"},\"line\":{\"color\":\"white\"}},\"header\":{\"fill\":{\"color\":\"#C8D4E3\"},\"line\":{\"color\":\"white\"}},\"type\":\"table\"}],\"barpolar\":[{\"marker\":{\"line\":{\"color\":\"#E5ECF6\",\"width\":0.5},\"pattern\":{\"fillmode\":\"overlay\",\"size\":10,\"solidity\":0.2}},\"type\":\"barpolar\"}],\"pie\":[{\"automargin\":true,\"type\":\"pie\"}]},\"layout\":{\"autotypenumbers\":\"strict\",\"colorway\":[\"#636efa\",\"#EF553B\",\"#00cc96\",\"#ab63fa\",\"#FFA15A\",\"#19d3f3\",\"#FF6692\",\"#B6E880\",\"#FF97FF\",\"#FECB52\"],\"font\":{\"color\":\"#2a3f5f\"},\"hovermode\":\"closest\",\"hoverlabel\":{\"align\":\"left\"},\"paper_bgcolor\":\"white\",\"plot_bgcolor\":\"#E5ECF6\",\"polar\":{\"bgcolor\":\"#E5ECF6\",\"angularaxis\":{\"gridcolor\":\"white\",\"linecolor\":\"white\",\"ticks\":\"\"},\"radialaxis\":{\"gridcolor\":\"white\",\"linecolor\":\"white\",\"ticks\":\"\"}},\"ternary\":{\"bgcolor\":\"#E5ECF6\",\"aaxis\":{\"gridcolor\":\"white\",\"linecolor\":\"white\",\"ticks\":\"\"},\"baxis\":{\"gridcolor\":\"white\",\"linecolor\":\"white\",\"ticks\":\"\"},\"caxis\":{\"gridcolor\":\"white\",\"linecolor\":\"white\",\"ticks\":\"\"}},\"coloraxis\":{\"colorbar\":{\"outlinewidth\":0,\"ticks\":\"\"}},\"colorscale\":{\"sequential\":[[0.0,\"#0d0887\"],[0.1111111111111111,\"#46039f\"],[0.2222222222222222,\"#7201a8\"],[0.3333333333333333,\"#9c179e\"],[0.4444444444444444,\"#bd3786\"],[0.5555555555555556,\"#d8576b\"],[0.6666666666666666,\"#ed7953\"],[0.7777777777777778,\"#fb9f3a\"],[0.8888888888888888,\"#fdca26\"],[1.0,\"#f0f921\"]],\"sequentialminus\":[[0.0,\"#0d0887\"],[0.1111111111111111,\"#46039f\"],[0.2222222222222222,\"#7201a8\"],[0.3333333333333333,\"#9c179e\"],[0.4444444444444444,\"#bd3786\"],[0.5555555555555556,\"#d8576b\"],[0.6666666666666666,\"#ed7953\"],[0.7777777777777778,\"#fb9f3a\"],[0.8888888888888888,\"#fdca26\"],[1.0,\"#f0f921\"]],\"diverging\":[[0,\"#8e0152\"],[0.1,\"#c51b7d\"],[0.2,\"#de77ae\"],[0.3,\"#f1b6da\"],[0.4,\"#fde0ef\"],[0.5,\"#f7f7f7\"],[0.6,\"#e6f5d0\"],[0.7,\"#b8e186\"],[0.8,\"#7fbc41\"],[0.9,\"#4d9221\"],[1,\"#276419\"]]},\"xaxis\":{\"gridcolor\":\"white\",\"linecolor\":\"white\",\"ticks\":\"\",\"title\":{\"standoff\":15},\"zerolinecolor\":\"white\",\"automargin\":true,\"zerolinewidth\":2},\"yaxis\":{\"gridcolor\":\"white\",\"linecolor\":\"white\",\"ticks\":\"\",\"title\":{\"standoff\":15},\"zerolinecolor\":\"white\",\"automargin\":true,\"zerolinewidth\":2},\"scene\":{\"xaxis\":{\"backgroundcolor\":\"#E5ECF6\",\"gridcolor\":\"white\",\"linecolor\":\"white\",\"showbackground\":true,\"ticks\":\"\",\"zerolinecolor\":\"white\",\"gridwidth\":2},\"yaxis\":{\"backgroundcolor\":\"#E5ECF6\",\"gridcolor\":\"white\",\"linecolor\":\"white\",\"showbackground\":true,\"ticks\":\"\",\"zerolinecolor\":\"white\",\"gridwidth\":2},\"zaxis\":{\"backgroundcolor\":\"#E5ECF6\",\"gridcolor\":\"white\",\"linecolor\":\"white\",\"showbackground\":true,\"ticks\":\"\",\"zerolinecolor\":\"white\",\"gridwidth\":2}},\"shapedefaults\":{\"line\":{\"color\":\"#2a3f5f\"}},\"annotationdefaults\":{\"arrowcolor\":\"#2a3f5f\",\"arrowhead\":0,\"arrowwidth\":1},\"geo\":{\"bgcolor\":\"white\",\"landcolor\":\"#E5ECF6\",\"subunitcolor\":\"white\",\"showland\":true,\"showlakes\":true,\"lakecolor\":\"white\"},\"title\":{\"x\":0.05},\"mapbox\":{\"style\":\"light\"}}},\"xaxis\":{\"anchor\":\"y\",\"domain\":[0.0,1.0],\"title\":{\"text\":\"Date\"}},\"yaxis\":{\"anchor\":\"x\",\"domain\":[0.0,1.0],\"title\":{\"text\":\"Balance\"}},\"legend\":{\"tracegroupgap\":0},\"title\":{\"text\":\"Balance Over Time\"}},                        {\"responsive\": true}                    ).then(function(){\n",
       "                            \n",
       "var gd = document.getElementById('342a488f-590b-4751-96f3-a93b7d2d28ad');\n",
       "var x = new MutationObserver(function (mutations, observer) {{\n",
       "        var display = window.getComputedStyle(gd).display;\n",
       "        if (!display || display === 'none') {{\n",
       "            console.log([gd, 'removed!']);\n",
       "            Plotly.purge(gd);\n",
       "            observer.disconnect();\n",
       "        }}\n",
       "}});\n",
       "\n",
       "// Listen for the removal of the full notebook cells\n",
       "var notebookContainer = gd.closest('#notebook-container');\n",
       "if (notebookContainer) {{\n",
       "    x.observe(notebookContainer, {childList: true});\n",
       "}}\n",
       "\n",
       "// Listen for the clearing of the current output cell\n",
       "var outputEl = gd.closest('.output');\n",
       "if (outputEl) {{\n",
       "    x.observe(outputEl, {childList: true});\n",
       "}}\n",
       "\n",
       "                        })                };                });            </script>        </div>"
      ]
     },
     "metadata": {},
     "output_type": "display_data"
    }
   ],
   "source": [
    "df_main.sort_values('date', inplace=True)\n",
    "fig = px.line(df_main, x='date', y='balance', labels={'date': 'Date', 'balance': 'Balance'}, title='Balance Over Time')\n",
    "fig.show()"
   ]
  },
  {
   "cell_type": "markdown",
   "id": "a5c140e6",
   "metadata": {},
   "source": [
    "### Identify Outliers in Spending Patterns\n",
    "\n",
    "To identify outliers in the spending pattern, data visualization techniques such as box plots or scatter plots can be used to visualize the distribution of spending amounts in the 'debit' column. Outliers are data points that significantly deviate from the majority of the data and may represent unusual or extreme spending values.\n",
    "\n",
    "Outliers in the spending pattern can appear as individual points that are significantly higher or lower than the majority of the data represented by the box and whiskers. Points beyond the whiskers (upper and lower fences) are often considered potential outliers.\n",
    "\n",
    "Additionally, you can use descriptive statistics like mean, median, and standard deviation to understand the distribution of spending amounts. This will help you identify if there are any extreme values in the 'debit' column.\n",
    "\n",
    "By comparing the values in the 'debit' column to the upper and lower bounds, you can identify potential outliers that fall outside this range.\n",
    "\n",
    "Keep in mind that the definition of an outlier may depend on the context of your dataset, and it's essential to carefully examine the data and consider the domain knowledge before making any conclusions about outliers in the spending pattern.\n",
    "\n",
    "- To visualize the potential outliers identified from the 'debit' column, you can use a scatter plot to highlight these data points. A scatter plot will allow you to see the position of each data point in relation to the potential outliers."
   ]
  },
  {
   "cell_type": "code",
   "execution_count": 77,
   "id": "6711d9cc",
   "metadata": {},
   "outputs": [
    {
     "data": {
      "image/png": "[encoded data removed]",
      "text/plain": [
       "<Figure size 800x600 with 1 Axes>"
      ]
     },
     "metadata": {},
     "output_type": "display_data"
    }
   ],
   "source": [
    "# Calculate mean and standard deviation of 'debit' column\n",
    "\n",
    "mean_debit = df_main['debit'].mean()\n",
    "std_debit = df_main['debit'].std()\n",
    "\n",
    "# Calculate the upper and lower bounds for potential outliers\n",
    "lower_bound = mean_debit - 2 * std_debit\n",
    "upper_bound = mean_debit + 2 * std_debit\n",
    "\n",
    "# Identify potential outliers based on the bounds\n",
    "potential_outliers = df_main[(df_main['debit'] < lower_bound) | (df_main['debit'] > upper_bound)]\n",
    "\n",
    "\n",
    "# Visualization\n",
    "\n",
    "plt.figure(figsize=(8, 6))\n",
    "plt.scatter(df_main.index, df_main['debit'], label='Debit Amounts')\n",
    "plt.scatter(potential_outliers.index, potential_outliers['debit'], color='red', label='Potential Outliers')\n",
    "plt.axhline(y=lower_bound, color='green', linestyle='--', label='Lower Bound (2 Std Dev)')\n",
    "plt.axhline(y=upper_bound, color='orange', linestyle='--', label='Upper Bound (2 Std Dev)')\n",
    "plt.xlabel('Index')\n",
    "plt.ylabel('Debit')\n",
    "plt.title('Scatter Plot of Debit Amounts with Potential Outliers')\n",
    "plt.legend()\n",
    "plt.show()"
   ]
  },
  {
   "cell_type": "markdown",
   "id": "fd0da64f",
   "metadata": {},
   "source": [
    "### What is the distribution of credits and debits amounts\n",
    "\n",
    "To answer this question, we will create separate histograms to visualize the distribution of credit and debit amounts. Histograms provide a visual representation of the frequency (or count) of different values in a dataset and help us understand the overall distribution of the data."
   ]
  },
  {
   "cell_type": "code",
   "execution_count": 78,
   "id": "9f940422",
   "metadata": {},
   "outputs": [
    {
     "data": {
      "image/png": "[encoded data removed]",
      "text/plain": [
       "<Figure size 1000x600 with 2 Axes>"
      ]
     },
     "metadata": {},
     "output_type": "display_data"
    }
   ],
   "source": [
    "# Step 2: Filter out rows with zero 'debit' or 'credit' amounts\n",
    "debit_df_main = df_main[df_main['debit'] != 0]\n",
    "credit_df_main = df_main[df_main['credit'] != 0]\n",
    "\n",
    "\n",
    "# Determin the fig size\n",
    "plt.figure(figsize=(10, 6))\n",
    "\n",
    "# Histogram for 'debit' amounts\n",
    "\n",
    "plt.subplot(1, 2, 1)  # 1 row, 2 columns, plot in the first column\n",
    "plt.hist(debit_df_main['debit'], bins=10, color='blue', alpha=0.7)\n",
    "plt.xlabel('Debit Amount')\n",
    "plt.ylabel('Frequency')\n",
    "plt.title('Distribution of Debit Amounts')\n",
    "\n",
    "\n",
    "# Histogram for 'credit' amounts\n",
    "plt.subplot(1, 2, 2)  # 1 row, 2 columns, plot in the second column\n",
    "plt.hist(credit_df_main['credit'], bins=10, color='green', alpha=0.7)\n",
    "plt.xlabel('Credit Amount')\n",
    "plt.ylabel('Frequency')\n",
    "plt.title('Distribution of Credit Amounts')\n",
    "\n",
    "plt.tight_layout()  # Adjust spacing between subplots\n",
    "plt.show()"
   ]
  },
  {
   "cell_type": "markdown",
   "id": "f7dede36",
   "metadata": {},
   "source": [
    "From the visualization above, you can observe that\n",
    "- We had almot 200 transactions \n",
    "\n",
    "\n",
    "and credit amounts and identify any patterns or outliers in the data."
   ]
  },
  {
   "cell_type": "markdown",
   "id": "6c84791d",
   "metadata": {},
   "source": [
    "### Average Daily Debits and Credits"
   ]
  },
  {
   "cell_type": "code",
   "execution_count": 79,
   "id": "d61b2ad0",
   "metadata": {},
   "outputs": [
    {
     "data": {
      "image/png": "[encoded data removed]",
      "text/plain": [
       "<Figure size 1000x600 with 1 Axes>"
      ]
     },
     "metadata": {},
     "output_type": "display_data"
    }
   ],
   "source": [
    "# Group the transactions by date and calculate the average daily debits and credits\n",
    "grouped_df = df_main.groupby('date').agg({'debit': 'mean', 'credit': 'mean'}).reset_index()\n",
    "\n",
    "# Step 4: Create a line chart to visualize the average daily debits and credits\n",
    "plt.figure(figsize=(10, 6))\n",
    "plt.plot(grouped_df['date'], grouped_df['debit'], label='Average Daily Debits', color='blue')\n",
    "plt.plot(grouped_df['date'], grouped_df['credit'], label='Average Daily Credits', color='green')\n",
    "\n",
    "plt.xlabel('Date')\n",
    "plt.ylabel('Amount')\n",
    "plt.title('Average Daily Debits and Credits')\n",
    "plt.legend()\n",
    "plt.grid()\n",
    "\n",
    "plt.tight_layout()\n",
    "plt.show()\n"
   ]
  },
  {
   "cell_type": "markdown",
   "id": "9f4f55d7",
   "metadata": {},
   "source": [
    "### Top 5 categories with the highest total debits"
   ]
  },
  {
   "cell_type": "code",
   "execution_count": 80,
   "id": "6997a997",
   "metadata": {},
   "outputs": [
    {
     "data": {
      "image/png": "[encoded data removed]",
      "text/plain": [
       "<Figure size 800x800 with 1 Axes>"
      ]
     },
     "metadata": {},
     "output_type": "display_data"
    }
   ],
   "source": [
    "# Step 1: Group the transactions by the 'category' column and calculate the total debits for each category\n",
    "debit_by_category = df_main[df_main['debit'] != 0].groupby('category')['debit'].sum()\n",
    "\n",
    "# Step 2: Sort the categories based on the total debits in descending order and select the top 5 categories\n",
    "top_categories = debit_by_category.nlargest(5)\n",
    "\n",
    "# Step 3: Create a pie chart to visualize the top 5 categories with the highest total debits\n",
    "plt.figure(figsize=(8, 8))\n",
    "plt.pie(top_categories, labels=top_categories.index, autopct='%1.1f%%', startangle=140, colors=plt.cm.Paired.colors)\n",
    "\n",
    "plt.axis('equal')  # Equal aspect ratio ensures that the pie chart is circular.\n",
    "\n",
    "plt.title('Top 5 Categories with Highest Total Debits')\n",
    "\n",
    "plt.show()"
   ]
  },
  {
   "cell_type": "markdown",
   "id": "918d96c1",
   "metadata": {},
   "source": [
    "#### Cleaned Dataset"
   ]
  },
  {
   "cell_type": "code",
   "execution_count": 81,
   "id": "76147c72",
   "metadata": {},
   "outputs": [
    {
     "data": {
      "text/html": [
       "<div>\n",
       "<style scoped>\n",
       "    .dataframe tbody tr th:only-of-type {\n",
       "        vertical-align: middle;\n",
       "    }\n",
       "\n",
       "    .dataframe tbody tr th {\n",
       "        vertical-align: top;\n",
       "    }\n",
       "\n",
       "    .dataframe thead th {\n",
       "        text-align: right;\n",
       "    }\n",
       "</style>\n",
       "<table border=\"1\" class=\"dataframe\">\n",
       "  <thead>\n",
       "    <tr style=\"text-align: right;\">\n",
       "      <th></th>\n",
       "      <th>date</th>\n",
       "      <th>description</th>\n",
       "      <th>debit</th>\n",
       "      <th>credit</th>\n",
       "      <th>value date</th>\n",
       "      <th>balance</th>\n",
       "      <th>category</th>\n",
       "      <th>amount</th>\n",
       "      <th>day</th>\n",
       "      <th>month</th>\n",
       "    </tr>\n",
       "  </thead>\n",
       "  <tbody>\n",
       "    <tr>\n",
       "      <th>0</th>\n",
       "      <td>2023-01-02</td>\n",
       "      <td>nip charge + vat</td>\n",
       "      <td>10.75</td>\n",
       "      <td>0.00</td>\n",
       "      <td>2023-01-02</td>\n",
       "      <td>35702.52</td>\n",
       "      <td>Bank charge</td>\n",
       "      <td>-10.75</td>\n",
       "      <td>Monday</td>\n",
       "      <td>January</td>\n",
       "    </tr>\n",
       "    <tr>\n",
       "      <th>1</th>\n",
       "      <td>2023-01-02</td>\n",
       "      <td>nip cr/mob/shedrach\\nnwali/gomon/shedrach nwali</td>\n",
       "      <td>3000.00</td>\n",
       "      <td>0.00</td>\n",
       "      <td>2023-01-02</td>\n",
       "      <td>32702.52</td>\n",
       "      <td>Digital Wallets</td>\n",
       "      <td>-3000.00</td>\n",
       "      <td>Monday</td>\n",
       "      <td>January</td>\n",
       "    </tr>\n",
       "    <tr>\n",
       "      <th>2</th>\n",
       "      <td>2023-01-02</td>\n",
       "      <td>airtime//08039646573//mtn</td>\n",
       "      <td>200.00</td>\n",
       "      <td>0.00</td>\n",
       "      <td>2023-01-02</td>\n",
       "      <td>32502.52</td>\n",
       "      <td>Airtime</td>\n",
       "      <td>-200.00</td>\n",
       "      <td>Monday</td>\n",
       "      <td>January</td>\n",
       "    </tr>\n",
       "    <tr>\n",
       "      <th>3</th>\n",
       "      <td>2023-01-02</td>\n",
       "      <td>nip charge + vat</td>\n",
       "      <td>26.88</td>\n",
       "      <td>0.00</td>\n",
       "      <td>2023-01-02</td>\n",
       "      <td>32475.64</td>\n",
       "      <td>Bank charge</td>\n",
       "      <td>-26.88</td>\n",
       "      <td>Monday</td>\n",
       "      <td>January</td>\n",
       "    </tr>\n",
       "    <tr>\n",
       "      <th>4</th>\n",
       "      <td>2023-01-02</td>\n",
       "      <td>nip cr/mob/mohammad abdullahi\\nsalisu/gtb/shed...</td>\n",
       "      <td>10000.00</td>\n",
       "      <td>0.00</td>\n",
       "      <td>2023-01-02</td>\n",
       "      <td>22475.64</td>\n",
       "      <td>miscellaneous</td>\n",
       "      <td>-10000.00</td>\n",
       "      <td>Monday</td>\n",
       "      <td>January</td>\n",
       "    </tr>\n",
       "    <tr>\n",
       "      <th>5</th>\n",
       "      <td>2023-01-02</td>\n",
       "      <td>airtime//08039646573//mtn</td>\n",
       "      <td>200.00</td>\n",
       "      <td>0.00</td>\n",
       "      <td>2023-01-02</td>\n",
       "      <td>22275.64</td>\n",
       "      <td>Airtime</td>\n",
       "      <td>-200.00</td>\n",
       "      <td>Monday</td>\n",
       "      <td>January</td>\n",
       "    </tr>\n",
       "    <tr>\n",
       "      <th>6</th>\n",
       "      <td>2023-01-02</td>\n",
       "      <td>airtime//08039646573//mtn</td>\n",
       "      <td>200.00</td>\n",
       "      <td>0.00</td>\n",
       "      <td>2023-01-02</td>\n",
       "      <td>22075.64</td>\n",
       "      <td>Airtime</td>\n",
       "      <td>-200.00</td>\n",
       "      <td>Monday</td>\n",
       "      <td>January</td>\n",
       "    </tr>\n",
       "    <tr>\n",
       "      <th>7</th>\n",
       "      <td>2023-01-03</td>\n",
       "      <td>airtime//08039646573//mtn</td>\n",
       "      <td>200.00</td>\n",
       "      <td>0.00</td>\n",
       "      <td>2023-01-03</td>\n",
       "      <td>21875.64</td>\n",
       "      <td>Airtime</td>\n",
       "      <td>-200.00</td>\n",
       "      <td>Tuesday</td>\n",
       "      <td>January</td>\n",
       "    </tr>\n",
       "    <tr>\n",
       "      <th>8</th>\n",
       "      <td>2023-01-04</td>\n",
       "      <td>airtime//08039646573//mtn</td>\n",
       "      <td>200.00</td>\n",
       "      <td>0.00</td>\n",
       "      <td>2023-01-04</td>\n",
       "      <td>21675.64</td>\n",
       "      <td>Airtime</td>\n",
       "      <td>-200.00</td>\n",
       "      <td>Wednesday</td>\n",
       "      <td>January</td>\n",
       "    </tr>\n",
       "    <tr>\n",
       "      <th>9</th>\n",
       "      <td>2023-01-04</td>\n",
       "      <td>nip charge + vat</td>\n",
       "      <td>10.75</td>\n",
       "      <td>0.00</td>\n",
       "      <td>2023-01-04</td>\n",
       "      <td>21664.89</td>\n",
       "      <td>Bank charge</td>\n",
       "      <td>-10.75</td>\n",
       "      <td>Wednesday</td>\n",
       "      <td>January</td>\n",
       "    </tr>\n",
       "    <tr>\n",
       "      <th>10</th>\n",
       "      <td>2023-01-04</td>\n",
       "      <td>nip cr/mob/shedrach\\nnwali/gomon/shedrach nwali</td>\n",
       "      <td>5000.00</td>\n",
       "      <td>0.00</td>\n",
       "      <td>2023-01-04</td>\n",
       "      <td>16664.89</td>\n",
       "      <td>Digital Wallets</td>\n",
       "      <td>-5000.00</td>\n",
       "      <td>Wednesday</td>\n",
       "      <td>January</td>\n",
       "    </tr>\n",
       "    <tr>\n",
       "      <th>11</th>\n",
       "      <td>2023-01-05</td>\n",
       "      <td>nip charge + vat</td>\n",
       "      <td>10.75</td>\n",
       "      <td>0.00</td>\n",
       "      <td>2023-01-05</td>\n",
       "      <td>16654.14</td>\n",
       "      <td>Bank charge</td>\n",
       "      <td>-10.75</td>\n",
       "      <td>Thursday</td>\n",
       "      <td>January</td>\n",
       "    </tr>\n",
       "    <tr>\n",
       "      <th>12</th>\n",
       "      <td>2023-01-05</td>\n",
       "      <td>nip cr/mob/shehu isah/abn/shedrach\\nnwali</td>\n",
       "      <td>1000.00</td>\n",
       "      <td>0.00</td>\n",
       "      <td>2023-01-05</td>\n",
       "      <td>15654.14</td>\n",
       "      <td>miscellaneous</td>\n",
       "      <td>-1000.00</td>\n",
       "      <td>Thursday</td>\n",
       "      <td>January</td>\n",
       "    </tr>\n",
       "    <tr>\n",
       "      <th>14</th>\n",
       "      <td>2023-01-07</td>\n",
       "      <td>nip cr/mob/shedrach\\nnwali/gomon/shedrach nwali</td>\n",
       "      <td>1000.00</td>\n",
       "      <td>0.00</td>\n",
       "      <td>2023-01-07</td>\n",
       "      <td>14643.39</td>\n",
       "      <td>Digital Wallets</td>\n",
       "      <td>-1000.00</td>\n",
       "      <td>Saturday</td>\n",
       "      <td>January</td>\n",
       "    </tr>\n",
       "    <tr>\n",
       "      <th>13</th>\n",
       "      <td>2023-01-07</td>\n",
       "      <td>nip charge + vat</td>\n",
       "      <td>10.75</td>\n",
       "      <td>0.00</td>\n",
       "      <td>2023-01-07</td>\n",
       "      <td>15643.39</td>\n",
       "      <td>Bank charge</td>\n",
       "      <td>-10.75</td>\n",
       "      <td>Saturday</td>\n",
       "      <td>January</td>\n",
       "    </tr>\n",
       "    <tr>\n",
       "      <th>15</th>\n",
       "      <td>2023-01-12</td>\n",
       "      <td>nip charge + vat</td>\n",
       "      <td>10.75</td>\n",
       "      <td>0.00</td>\n",
       "      <td>2023-01-12</td>\n",
       "      <td>14632.64</td>\n",
       "      <td>Bank charge</td>\n",
       "      <td>-10.75</td>\n",
       "      <td>Thursday</td>\n",
       "      <td>January</td>\n",
       "    </tr>\n",
       "    <tr>\n",
       "      <th>16</th>\n",
       "      <td>2023-01-12</td>\n",
       "      <td>nip cr/mob/shehu isah/abn/shedrach\\nnwali</td>\n",
       "      <td>2000.00</td>\n",
       "      <td>0.00</td>\n",
       "      <td>2023-01-12</td>\n",
       "      <td>12632.64</td>\n",
       "      <td>miscellaneous</td>\n",
       "      <td>-2000.00</td>\n",
       "      <td>Thursday</td>\n",
       "      <td>January</td>\n",
       "    </tr>\n",
       "    <tr>\n",
       "      <th>17</th>\n",
       "      <td>2023-01-13</td>\n",
       "      <td>airtime//08088648897//airtel</td>\n",
       "      <td>500.00</td>\n",
       "      <td>0.00</td>\n",
       "      <td>2023-01-13</td>\n",
       "      <td>12132.64</td>\n",
       "      <td>Airtime</td>\n",
       "      <td>-500.00</td>\n",
       "      <td>Friday</td>\n",
       "      <td>January</td>\n",
       "    </tr>\n",
       "    <tr>\n",
       "      <th>18</th>\n",
       "      <td>2023-01-16</td>\n",
       "      <td>nip charge + vat</td>\n",
       "      <td>10.75</td>\n",
       "      <td>0.00</td>\n",
       "      <td>2023-01-16</td>\n",
       "      <td>12121.89</td>\n",
       "      <td>Bank charge</td>\n",
       "      <td>-10.75</td>\n",
       "      <td>Monday</td>\n",
       "      <td>January</td>\n",
       "    </tr>\n",
       "    <tr>\n",
       "      <th>19</th>\n",
       "      <td>2023-01-16</td>\n",
       "      <td>nip cr/mob/yunusa sarah\\njenebu/gtb/shedrach</td>\n",
       "      <td>2000.00</td>\n",
       "      <td>0.00</td>\n",
       "      <td>2023-01-16</td>\n",
       "      <td>10121.89</td>\n",
       "      <td>My baby</td>\n",
       "      <td>-2000.00</td>\n",
       "      <td>Monday</td>\n",
       "      <td>January</td>\n",
       "    </tr>\n",
       "    <tr>\n",
       "      <th>20</th>\n",
       "      <td>2023-01-17</td>\n",
       "      <td>nip charge + vat</td>\n",
       "      <td>10.75</td>\n",
       "      <td>0.00</td>\n",
       "      <td>2023-01-17</td>\n",
       "      <td>10111.14</td>\n",
       "      <td>Bank charge</td>\n",
       "      <td>-10.75</td>\n",
       "      <td>Tuesday</td>\n",
       "      <td>January</td>\n",
       "    </tr>\n",
       "    <tr>\n",
       "      <th>21</th>\n",
       "      <td>2023-01-17</td>\n",
       "      <td>nip cr/mob/yunusa sarah\\njenebu/gtb/sheddy</td>\n",
       "      <td>1000.00</td>\n",
       "      <td>0.00</td>\n",
       "      <td>2023-01-17</td>\n",
       "      <td>9111.14</td>\n",
       "      <td>My baby</td>\n",
       "      <td>-1000.00</td>\n",
       "      <td>Tuesday</td>\n",
       "      <td>January</td>\n",
       "    </tr>\n",
       "    <tr>\n",
       "      <th>22</th>\n",
       "      <td>2023-01-18</td>\n",
       "      <td>nip charge + vat</td>\n",
       "      <td>10.75</td>\n",
       "      <td>0.00</td>\n",
       "      <td>2023-01-18</td>\n",
       "      <td>9100.39</td>\n",
       "      <td>Bank charge</td>\n",
       "      <td>-10.75</td>\n",
       "      <td>Wednesday</td>\n",
       "      <td>January</td>\n",
       "    </tr>\n",
       "    <tr>\n",
       "      <th>23</th>\n",
       "      <td>2023-01-18</td>\n",
       "      <td>nip cr/mob/daniel tolani/carbo/sheddy</td>\n",
       "      <td>3000.00</td>\n",
       "      <td>0.00</td>\n",
       "      <td>2023-01-18</td>\n",
       "      <td>6100.39</td>\n",
       "      <td>DT</td>\n",
       "      <td>-3000.00</td>\n",
       "      <td>Wednesday</td>\n",
       "      <td>January</td>\n",
       "    </tr>\n",
       "    <tr>\n",
       "      <th>24</th>\n",
       "      <td>2023-01-18</td>\n",
       "      <td>airtime//08039646573//mtn</td>\n",
       "      <td>2000.00</td>\n",
       "      <td>0.00</td>\n",
       "      <td>2023-01-18</td>\n",
       "      <td>4100.39</td>\n",
       "      <td>Airtime</td>\n",
       "      <td>-2000.00</td>\n",
       "      <td>Wednesday</td>\n",
       "      <td>January</td>\n",
       "    </tr>\n",
       "    <tr>\n",
       "      <th>25</th>\n",
       "      <td>2023-01-19</td>\n",
       "      <td>nip/gomon/enike braimoh/transfer from\\nenike b...</td>\n",
       "      <td>0.00</td>\n",
       "      <td>6000.00</td>\n",
       "      <td>2023-01-19</td>\n",
       "      <td>10100.39</td>\n",
       "      <td>enike braimoh</td>\n",
       "      <td>6000.00</td>\n",
       "      <td>Thursday</td>\n",
       "      <td>January</td>\n",
       "    </tr>\n",
       "    <tr>\n",
       "      <th>26</th>\n",
       "      <td>2023-01-19</td>\n",
       "      <td>nip charge + vat</td>\n",
       "      <td>26.88</td>\n",
       "      <td>0.00</td>\n",
       "      <td>2023-01-19</td>\n",
       "      <td>10073.51</td>\n",
       "      <td>Bank charge</td>\n",
       "      <td>-26.88</td>\n",
       "      <td>Thursday</td>\n",
       "      <td>January</td>\n",
       "    </tr>\n",
       "    <tr>\n",
       "      <th>27</th>\n",
       "      <td>2023-01-19</td>\n",
       "      <td>nip cr/mob/yunusa sarah\\njenebu/gtb/sheddy</td>\n",
       "      <td>6000.00</td>\n",
       "      <td>0.00</td>\n",
       "      <td>2023-01-19</td>\n",
       "      <td>4073.51</td>\n",
       "      <td>My baby</td>\n",
       "      <td>-6000.00</td>\n",
       "      <td>Thursday</td>\n",
       "      <td>January</td>\n",
       "    </tr>\n",
       "    <tr>\n",
       "      <th>28</th>\n",
       "      <td>2023-01-20</td>\n",
       "      <td>airtime//08039646573//mtn</td>\n",
       "      <td>200.00</td>\n",
       "      <td>0.00</td>\n",
       "      <td>2023-01-20</td>\n",
       "      <td>3873.51</td>\n",
       "      <td>Airtime</td>\n",
       "      <td>-200.00</td>\n",
       "      <td>Friday</td>\n",
       "      <td>January</td>\n",
       "    </tr>\n",
       "    <tr>\n",
       "      <th>31</th>\n",
       "      <td>2023-01-22</td>\n",
       "      <td>nip cr/mob/paystack\\ncheckout/wbp/shedrach</td>\n",
       "      <td>300.00</td>\n",
       "      <td>0.00</td>\n",
       "      <td>2023-01-22</td>\n",
       "      <td>3062.76</td>\n",
       "      <td>Selfcare</td>\n",
       "      <td>-300.00</td>\n",
       "      <td>Sunday</td>\n",
       "      <td>January</td>\n",
       "    </tr>\n",
       "    <tr>\n",
       "      <th>30</th>\n",
       "      <td>2023-01-22</td>\n",
       "      <td>nip charge + vat</td>\n",
       "      <td>10.75</td>\n",
       "      <td>0.00</td>\n",
       "      <td>2023-01-22</td>\n",
       "      <td>3362.76</td>\n",
       "      <td>Bank charge</td>\n",
       "      <td>-10.75</td>\n",
       "      <td>Sunday</td>\n",
       "      <td>January</td>\n",
       "    </tr>\n",
       "    <tr>\n",
       "      <th>29</th>\n",
       "      <td>2023-01-22</td>\n",
       "      <td>airtime//09165366686//mtn</td>\n",
       "      <td>500.00</td>\n",
       "      <td>0.00</td>\n",
       "      <td>2023-01-22</td>\n",
       "      <td>3373.51</td>\n",
       "      <td>Airtime</td>\n",
       "      <td>-500.00</td>\n",
       "      <td>Sunday</td>\n",
       "      <td>January</td>\n",
       "    </tr>\n",
       "    <tr>\n",
       "      <th>32</th>\n",
       "      <td>2023-01-23</td>\n",
       "      <td>airtime//08039346573//mtn</td>\n",
       "      <td>200.00</td>\n",
       "      <td>0.00</td>\n",
       "      <td>2023-01-23</td>\n",
       "      <td>2862.76</td>\n",
       "      <td>Airtime</td>\n",
       "      <td>-200.00</td>\n",
       "      <td>Monday</td>\n",
       "      <td>January</td>\n",
       "    </tr>\n",
       "    <tr>\n",
       "      <th>33</th>\n",
       "      <td>2023-01-23</td>\n",
       "      <td>airtime//08039646573//mtn</td>\n",
       "      <td>200.00</td>\n",
       "      <td>0.00</td>\n",
       "      <td>2023-01-23</td>\n",
       "      <td>2662.76</td>\n",
       "      <td>Airtime</td>\n",
       "      <td>-200.00</td>\n",
       "      <td>Monday</td>\n",
       "      <td>January</td>\n",
       "    </tr>\n",
       "    <tr>\n",
       "      <th>34</th>\n",
       "      <td>2023-01-23</td>\n",
       "      <td>nip charge + vat</td>\n",
       "      <td>10.75</td>\n",
       "      <td>0.00</td>\n",
       "      <td>2023-01-23</td>\n",
       "      <td>2652.01</td>\n",
       "      <td>Bank charge</td>\n",
       "      <td>-10.75</td>\n",
       "      <td>Monday</td>\n",
       "      <td>January</td>\n",
       "    </tr>\n",
       "    <tr>\n",
       "      <th>35</th>\n",
       "      <td>2023-01-23</td>\n",
       "      <td>nip cr/mob/paystack\\ncheckout/wbp/shedrach</td>\n",
       "      <td>200.00</td>\n",
       "      <td>0.00</td>\n",
       "      <td>2023-01-23</td>\n",
       "      <td>2452.01</td>\n",
       "      <td>Selfcare</td>\n",
       "      <td>-200.00</td>\n",
       "      <td>Monday</td>\n",
       "      <td>January</td>\n",
       "    </tr>\n",
       "    <tr>\n",
       "      <th>36</th>\n",
       "      <td>2023-01-26</td>\n",
       "      <td>airtime//08039646573//9mobile</td>\n",
       "      <td>100.00</td>\n",
       "      <td>0.00</td>\n",
       "      <td>2023-01-26</td>\n",
       "      <td>2352.01</td>\n",
       "      <td>Airtime</td>\n",
       "      <td>-100.00</td>\n",
       "      <td>Thursday</td>\n",
       "      <td>January</td>\n",
       "    </tr>\n",
       "    <tr>\n",
       "      <th>37</th>\n",
       "      <td>2023-01-26</td>\n",
       "      <td>airtime//08039646573//mtn</td>\n",
       "      <td>100.00</td>\n",
       "      <td>0.00</td>\n",
       "      <td>2023-01-26</td>\n",
       "      <td>2252.01</td>\n",
       "      <td>Airtime</td>\n",
       "      <td>-100.00</td>\n",
       "      <td>Thursday</td>\n",
       "      <td>January</td>\n",
       "    </tr>\n",
       "    <tr>\n",
       "      <th>38</th>\n",
       "      <td>2023-01-26</td>\n",
       "      <td>**rev airtime//08039646573//9mobile</td>\n",
       "      <td>0.00</td>\n",
       "      <td>100.00</td>\n",
       "      <td>2023-01-26</td>\n",
       "      <td>2352.01</td>\n",
       "      <td>Airtime</td>\n",
       "      <td>100.00</td>\n",
       "      <td>Thursday</td>\n",
       "      <td>January</td>\n",
       "    </tr>\n",
       "    <tr>\n",
       "      <th>39</th>\n",
       "      <td>2023-01-26</td>\n",
       "      <td>airtime//08039646573//mtn</td>\n",
       "      <td>2000.00</td>\n",
       "      <td>0.00</td>\n",
       "      <td>2023-01-26</td>\n",
       "      <td>352.01</td>\n",
       "      <td>Airtime</td>\n",
       "      <td>-2000.00</td>\n",
       "      <td>Thursday</td>\n",
       "      <td>January</td>\n",
       "    </tr>\n",
       "    <tr>\n",
       "      <th>40</th>\n",
       "      <td>2023-01-26</td>\n",
       "      <td>airtime//08039646573//mtn</td>\n",
       "      <td>100.00</td>\n",
       "      <td>0.00</td>\n",
       "      <td>2023-01-26</td>\n",
       "      <td>252.01</td>\n",
       "      <td>Airtime</td>\n",
       "      <td>-100.00</td>\n",
       "      <td>Thursday</td>\n",
       "      <td>January</td>\n",
       "    </tr>\n",
       "    <tr>\n",
       "      <th>41</th>\n",
       "      <td>2023-01-26</td>\n",
       "      <td>nip/fbn/blessing\\nnwali/fbnmobile:shedrach ike...</td>\n",
       "      <td>0.00</td>\n",
       "      <td>3000.00</td>\n",
       "      <td>2023-01-26</td>\n",
       "      <td>3252.01</td>\n",
       "      <td>Mom</td>\n",
       "      <td>3000.00</td>\n",
       "      <td>Thursday</td>\n",
       "      <td>January</td>\n",
       "    </tr>\n",
       "    <tr>\n",
       "      <th>42</th>\n",
       "      <td>2023-01-26</td>\n",
       "      <td>nip/uba/helen chicka\\nobasi/mob/shedrach\\niken...</td>\n",
       "      <td>0.00</td>\n",
       "      <td>30000.00</td>\n",
       "      <td>2023-01-26</td>\n",
       "      <td>33252.01</td>\n",
       "      <td>Aunty Helen</td>\n",
       "      <td>30000.00</td>\n",
       "      <td>Thursday</td>\n",
       "      <td>January</td>\n",
       "    </tr>\n",
       "    <tr>\n",
       "      <th>45</th>\n",
       "      <td>2023-01-27</td>\n",
       "      <td>nip cr/mob/paystack\\ncheckout/wbp/shedrach</td>\n",
       "      <td>200.00</td>\n",
       "      <td>0.00</td>\n",
       "      <td>2023-01-27</td>\n",
       "      <td>58041.26</td>\n",
       "      <td>Selfcare</td>\n",
       "      <td>-200.00</td>\n",
       "      <td>Friday</td>\n",
       "      <td>January</td>\n",
       "    </tr>\n",
       "    <tr>\n",
       "      <th>46</th>\n",
       "      <td>2023-01-27</td>\n",
       "      <td>airtime//08039646573//mtn</td>\n",
       "      <td>200.00</td>\n",
       "      <td>0.00</td>\n",
       "      <td>2023-01-27</td>\n",
       "      <td>57841.26</td>\n",
       "      <td>Airtime</td>\n",
       "      <td>-200.00</td>\n",
       "      <td>Friday</td>\n",
       "      <td>January</td>\n",
       "    </tr>\n",
       "    <tr>\n",
       "      <th>43</th>\n",
       "      <td>2023-01-27</td>\n",
       "      <td>nip/fbn/nwali\\nedwin/fbnmobile:shedrach ikenna...</td>\n",
       "      <td>0.00</td>\n",
       "      <td>25000.00</td>\n",
       "      <td>2023-01-27</td>\n",
       "      <td>58252.01</td>\n",
       "      <td>Dad</td>\n",
       "      <td>25000.00</td>\n",
       "      <td>Friday</td>\n",
       "      <td>January</td>\n",
       "    </tr>\n",
       "    <tr>\n",
       "      <th>44</th>\n",
       "      <td>2023-01-27</td>\n",
       "      <td>nip charge + vat</td>\n",
       "      <td>10.75</td>\n",
       "      <td>0.00</td>\n",
       "      <td>2023-01-27</td>\n",
       "      <td>58241.26</td>\n",
       "      <td>Bank charge</td>\n",
       "      <td>-10.75</td>\n",
       "      <td>Friday</td>\n",
       "      <td>January</td>\n",
       "    </tr>\n",
       "    <tr>\n",
       "      <th>47</th>\n",
       "      <td>2023-01-28</td>\n",
       "      <td>charge on 08039646573//</td>\n",
       "      <td>100.00</td>\n",
       "      <td>0.00</td>\n",
       "      <td>2023-01-28</td>\n",
       "      <td>57741.26</td>\n",
       "      <td>Airtime</td>\n",
       "      <td>-100.00</td>\n",
       "      <td>Saturday</td>\n",
       "      <td>January</td>\n",
       "    </tr>\n",
       "    <tr>\n",
       "      <th>48</th>\n",
       "      <td>2023-01-28</td>\n",
       "      <td>sporty bet///08039646573//sporty bet</td>\n",
       "      <td>200.00</td>\n",
       "      <td>0.00</td>\n",
       "      <td>2023-01-28</td>\n",
       "      <td>57541.26</td>\n",
       "      <td>Airtime</td>\n",
       "      <td>-200.00</td>\n",
       "      <td>Saturday</td>\n",
       "      <td>January</td>\n",
       "    </tr>\n",
       "    <tr>\n",
       "      <th>49</th>\n",
       "      <td>2023-01-28</td>\n",
       "      <td>sms notification charge jan 2023</td>\n",
       "      <td>196.00</td>\n",
       "      <td>0.00</td>\n",
       "      <td>2023-01-28</td>\n",
       "      <td>57345.26</td>\n",
       "      <td>Bank charge</td>\n",
       "      <td>-196.00</td>\n",
       "      <td>Saturday</td>\n",
       "      <td>January</td>\n",
       "    </tr>\n",
       "    <tr>\n",
       "      <th>50</th>\n",
       "      <td>2023-01-28</td>\n",
       "      <td>airtime//08039646573//mtn</td>\n",
       "      <td>200.00</td>\n",
       "      <td>0.00</td>\n",
       "      <td>2023-01-28</td>\n",
       "      <td>57145.26</td>\n",
       "      <td>Airtime</td>\n",
       "      <td>-200.00</td>\n",
       "      <td>Saturday</td>\n",
       "      <td>January</td>\n",
       "    </tr>\n",
       "    <tr>\n",
       "      <th>59</th>\n",
       "      <td>2023-01-29</td>\n",
       "      <td>charge on 08039646573//</td>\n",
       "      <td>100.00</td>\n",
       "      <td>0.00</td>\n",
       "      <td>2023-01-29</td>\n",
       "      <td>48268.38</td>\n",
       "      <td>Airtime</td>\n",
       "      <td>-100.00</td>\n",
       "      <td>Sunday</td>\n",
       "      <td>January</td>\n",
       "    </tr>\n",
       "    <tr>\n",
       "      <th>58</th>\n",
       "      <td>2023-01-29</td>\n",
       "      <td>**rev nip cr/mob/paystack\\ncheckout/wbp/sheddy</td>\n",
       "      <td>0.00</td>\n",
       "      <td>200.00</td>\n",
       "      <td>2023-01-29</td>\n",
       "      <td>48368.38</td>\n",
       "      <td>Selfcare</td>\n",
       "      <td>200.00</td>\n",
       "      <td>Sunday</td>\n",
       "      <td>January</td>\n",
       "    </tr>\n",
       "    <tr>\n",
       "      <th>57</th>\n",
       "      <td>2023-01-29</td>\n",
       "      <td>**rev nip charge + vat</td>\n",
       "      <td>0.00</td>\n",
       "      <td>10.75</td>\n",
       "      <td>2023-01-29</td>\n",
       "      <td>48168.38</td>\n",
       "      <td>Bank charge</td>\n",
       "      <td>10.75</td>\n",
       "      <td>Sunday</td>\n",
       "      <td>January</td>\n",
       "    </tr>\n",
       "    <tr>\n",
       "      <th>56</th>\n",
       "      <td>2023-01-29</td>\n",
       "      <td>nip cr/mob/paystack\\ncheckout/wbp/sheddy</td>\n",
       "      <td>200.00</td>\n",
       "      <td>0.00</td>\n",
       "      <td>2023-01-29</td>\n",
       "      <td>48157.63</td>\n",
       "      <td>Selfcare</td>\n",
       "      <td>-200.00</td>\n",
       "      <td>Sunday</td>\n",
       "      <td>January</td>\n",
       "    </tr>\n",
       "    <tr>\n",
       "      <th>53</th>\n",
       "      <td>2023-01-29</td>\n",
       "      <td>nip cr/mob/shedrach\\nnwali/gomon/shedrach nwali</td>\n",
       "      <td>6650.00</td>\n",
       "      <td>0.00</td>\n",
       "      <td>2023-01-29</td>\n",
       "      <td>50368.38</td>\n",
       "      <td>Digital Wallets</td>\n",
       "      <td>-6650.00</td>\n",
       "      <td>Sunday</td>\n",
       "      <td>January</td>\n",
       "    </tr>\n",
       "    <tr>\n",
       "      <th>54</th>\n",
       "      <td>2023-01-29</td>\n",
       "      <td>trf frm shedrach ikenna nwali to\\nalhassan ami...</td>\n",
       "      <td>2000.00</td>\n",
       "      <td>0.00</td>\n",
       "      <td>2023-01-29</td>\n",
       "      <td>48368.38</td>\n",
       "      <td>miscellaneous</td>\n",
       "      <td>-2000.00</td>\n",
       "      <td>Sunday</td>\n",
       "      <td>January</td>\n",
       "    </tr>\n",
       "    <tr>\n",
       "      <th>52</th>\n",
       "      <td>2023-01-29</td>\n",
       "      <td>nip charge + vat</td>\n",
       "      <td>26.88</td>\n",
       "      <td>0.00</td>\n",
       "      <td>2023-01-29</td>\n",
       "      <td>57018.38</td>\n",
       "      <td>Bank charge</td>\n",
       "      <td>-26.88</td>\n",
       "      <td>Sunday</td>\n",
       "      <td>January</td>\n",
       "    </tr>\n",
       "    <tr>\n",
       "      <th>51</th>\n",
       "      <td>2023-01-29</td>\n",
       "      <td>electronic money transfer levy</td>\n",
       "      <td>100.00</td>\n",
       "      <td>0.00</td>\n",
       "      <td>2023-01-29</td>\n",
       "      <td>57045.26</td>\n",
       "      <td>Bank charge</td>\n",
       "      <td>-100.00</td>\n",
       "      <td>Sunday</td>\n",
       "      <td>January</td>\n",
       "    </tr>\n",
       "    <tr>\n",
       "      <th>60</th>\n",
       "      <td>2023-01-29</td>\n",
       "      <td>sporty bet///08039646573//sporty bet</td>\n",
       "      <td>200.00</td>\n",
       "      <td>0.00</td>\n",
       "      <td>2023-01-29</td>\n",
       "      <td>48068.38</td>\n",
       "      <td>Airtime</td>\n",
       "      <td>-200.00</td>\n",
       "      <td>Sunday</td>\n",
       "      <td>January</td>\n",
       "    </tr>\n",
       "    <tr>\n",
       "      <th>55</th>\n",
       "      <td>2023-01-29</td>\n",
       "      <td>nip charge + vat</td>\n",
       "      <td>10.75</td>\n",
       "      <td>0.00</td>\n",
       "      <td>2023-01-29</td>\n",
       "      <td>48357.63</td>\n",
       "      <td>Bank charge</td>\n",
       "      <td>-10.75</td>\n",
       "      <td>Sunday</td>\n",
       "      <td>January</td>\n",
       "    </tr>\n",
       "    <tr>\n",
       "      <th>63</th>\n",
       "      <td>2023-01-31</td>\n",
       "      <td>nip charge + vat</td>\n",
       "      <td>10.75</td>\n",
       "      <td>0.00</td>\n",
       "      <td>2023-01-31</td>\n",
       "      <td>50857.63</td>\n",
       "      <td>Bank charge</td>\n",
       "      <td>-10.75</td>\n",
       "      <td>Tuesday</td>\n",
       "      <td>January</td>\n",
       "    </tr>\n",
       "    <tr>\n",
       "      <th>64</th>\n",
       "      <td>2023-01-31</td>\n",
       "      <td>nip cr/mob/daniel tolani\\nolorunyomi/kuda/sheddy</td>\n",
       "      <td>3000.00</td>\n",
       "      <td>0.00</td>\n",
       "      <td>2023-01-31</td>\n",
       "      <td>47857.63</td>\n",
       "      <td>DT</td>\n",
       "      <td>-3000.00</td>\n",
       "      <td>Tuesday</td>\n",
       "      <td>January</td>\n",
       "    </tr>\n",
       "    <tr>\n",
       "      <th>61</th>\n",
       "      <td>2023-01-31</td>\n",
       "      <td>nip/kuda/daniel tolani\\nolorunyomi/hhh</td>\n",
       "      <td>0.00</td>\n",
       "      <td>3000.00</td>\n",
       "      <td>2023-01-31</td>\n",
       "      <td>51068.38</td>\n",
       "      <td>DT</td>\n",
       "      <td>3000.00</td>\n",
       "      <td>Tuesday</td>\n",
       "      <td>January</td>\n",
       "    </tr>\n",
       "    <tr>\n",
       "      <th>62</th>\n",
       "      <td>2023-01-31</td>\n",
       "      <td>airtime//08039646573//mtn</td>\n",
       "      <td>200.00</td>\n",
       "      <td>0.00</td>\n",
       "      <td>2023-01-31</td>\n",
       "      <td>50868.38</td>\n",
       "      <td>Airtime</td>\n",
       "      <td>-200.00</td>\n",
       "      <td>Tuesday</td>\n",
       "      <td>January</td>\n",
       "    </tr>\n",
       "    <tr>\n",
       "      <th>65</th>\n",
       "      <td>2023-02-01</td>\n",
       "      <td>airtime//08039646573//mtn</td>\n",
       "      <td>200.00</td>\n",
       "      <td>0.00</td>\n",
       "      <td>2023-02-01</td>\n",
       "      <td>47657.63</td>\n",
       "      <td>Airtime</td>\n",
       "      <td>-200.00</td>\n",
       "      <td>Wednesday</td>\n",
       "      <td>February</td>\n",
       "    </tr>\n",
       "    <tr>\n",
       "      <th>66</th>\n",
       "      <td>2023-02-02</td>\n",
       "      <td>charge on 08039646573//</td>\n",
       "      <td>100.00</td>\n",
       "      <td>0.00</td>\n",
       "      <td>2023-02-02</td>\n",
       "      <td>47557.63</td>\n",
       "      <td>Airtime</td>\n",
       "      <td>-100.00</td>\n",
       "      <td>Thursday</td>\n",
       "      <td>February</td>\n",
       "    </tr>\n",
       "    <tr>\n",
       "      <th>67</th>\n",
       "      <td>2023-02-02</td>\n",
       "      <td>sporty bet///08039646573//sporty bet</td>\n",
       "      <td>300.00</td>\n",
       "      <td>0.00</td>\n",
       "      <td>2023-02-02</td>\n",
       "      <td>47257.63</td>\n",
       "      <td>Airtime</td>\n",
       "      <td>-300.00</td>\n",
       "      <td>Thursday</td>\n",
       "      <td>February</td>\n",
       "    </tr>\n",
       "    <tr>\n",
       "      <th>68</th>\n",
       "      <td>2023-02-02</td>\n",
       "      <td>airtime//08039646573//mtn</td>\n",
       "      <td>100.00</td>\n",
       "      <td>0.00</td>\n",
       "      <td>2023-02-02</td>\n",
       "      <td>47157.63</td>\n",
       "      <td>Airtime</td>\n",
       "      <td>-100.00</td>\n",
       "      <td>Thursday</td>\n",
       "      <td>February</td>\n",
       "    </tr>\n",
       "    <tr>\n",
       "      <th>69</th>\n",
       "      <td>2023-02-03</td>\n",
       "      <td>nip charge + vat</td>\n",
       "      <td>10.75</td>\n",
       "      <td>0.00</td>\n",
       "      <td>2023-02-03</td>\n",
       "      <td>47146.88</td>\n",
       "      <td>Bank charge</td>\n",
       "      <td>-10.75</td>\n",
       "      <td>Friday</td>\n",
       "      <td>February</td>\n",
       "    </tr>\n",
       "    <tr>\n",
       "      <th>70</th>\n",
       "      <td>2023-02-03</td>\n",
       "      <td>nip cr/mob/mfy / baxi--alh/wbp/shedrach</td>\n",
       "      <td>1000.00</td>\n",
       "      <td>0.00</td>\n",
       "      <td>2023-02-03</td>\n",
       "      <td>46146.88</td>\n",
       "      <td>miscellaneous</td>\n",
       "      <td>-1000.00</td>\n",
       "      <td>Friday</td>\n",
       "      <td>February</td>\n",
       "    </tr>\n",
       "    <tr>\n",
       "      <th>71</th>\n",
       "      <td>2023-02-04</td>\n",
       "      <td>nip/gomon/shedrach nwali/transfer from\\nshedra...</td>\n",
       "      <td>0.00</td>\n",
       "      <td>300.00</td>\n",
       "      <td>2023-02-04</td>\n",
       "      <td>46446.88</td>\n",
       "      <td>Digital Wallets</td>\n",
       "      <td>300.00</td>\n",
       "      <td>Saturday</td>\n",
       "      <td>February</td>\n",
       "    </tr>\n",
       "    <tr>\n",
       "      <th>72</th>\n",
       "      <td>2023-02-04</td>\n",
       "      <td>charge on 08039646573//</td>\n",
       "      <td>100.00</td>\n",
       "      <td>0.00</td>\n",
       "      <td>2023-02-04</td>\n",
       "      <td>46346.88</td>\n",
       "      <td>Airtime</td>\n",
       "      <td>-100.00</td>\n",
       "      <td>Saturday</td>\n",
       "      <td>February</td>\n",
       "    </tr>\n",
       "    <tr>\n",
       "      <th>73</th>\n",
       "      <td>2023-02-04</td>\n",
       "      <td>sporty bet///08039646573//sporty bet</td>\n",
       "      <td>300.00</td>\n",
       "      <td>0.00</td>\n",
       "      <td>2023-02-04</td>\n",
       "      <td>46046.88</td>\n",
       "      <td>Airtime</td>\n",
       "      <td>-300.00</td>\n",
       "      <td>Saturday</td>\n",
       "      <td>February</td>\n",
       "    </tr>\n",
       "    <tr>\n",
       "      <th>74</th>\n",
       "      <td>2023-02-04</td>\n",
       "      <td>charge on 08039646573//</td>\n",
       "      <td>100.00</td>\n",
       "      <td>0.00</td>\n",
       "      <td>2023-02-04</td>\n",
       "      <td>45946.88</td>\n",
       "      <td>Airtime</td>\n",
       "      <td>-100.00</td>\n",
       "      <td>Saturday</td>\n",
       "      <td>February</td>\n",
       "    </tr>\n",
       "    <tr>\n",
       "      <th>75</th>\n",
       "      <td>2023-02-04</td>\n",
       "      <td>sporty bet///08039646573//sporty bet</td>\n",
       "      <td>500.00</td>\n",
       "      <td>0.00</td>\n",
       "      <td>2023-02-04</td>\n",
       "      <td>45446.88</td>\n",
       "      <td>Airtime</td>\n",
       "      <td>-500.00</td>\n",
       "      <td>Saturday</td>\n",
       "      <td>February</td>\n",
       "    </tr>\n",
       "    <tr>\n",
       "      <th>76</th>\n",
       "      <td>2023-02-07</td>\n",
       "      <td>nip charge + vat</td>\n",
       "      <td>10.75</td>\n",
       "      <td>0.00</td>\n",
       "      <td>2023-02-07</td>\n",
       "      <td>45436.13</td>\n",
       "      <td>Bank charge</td>\n",
       "      <td>-10.75</td>\n",
       "      <td>Tuesday</td>\n",
       "      <td>February</td>\n",
       "    </tr>\n",
       "    <tr>\n",
       "      <th>77</th>\n",
       "      <td>2023-02-07</td>\n",
       "      <td>nip cr/mob/shedrach\\nnwali/gomon/shedrach nwali</td>\n",
       "      <td>5000.00</td>\n",
       "      <td>0.00</td>\n",
       "      <td>2023-02-07</td>\n",
       "      <td>40436.13</td>\n",
       "      <td>Digital Wallets</td>\n",
       "      <td>-5000.00</td>\n",
       "      <td>Tuesday</td>\n",
       "      <td>February</td>\n",
       "    </tr>\n",
       "    <tr>\n",
       "      <th>78</th>\n",
       "      <td>2023-02-08</td>\n",
       "      <td>airtime//08039646573//mtn</td>\n",
       "      <td>200.00</td>\n",
       "      <td>0.00</td>\n",
       "      <td>2023-02-08</td>\n",
       "      <td>40236.13</td>\n",
       "      <td>Airtime</td>\n",
       "      <td>-200.00</td>\n",
       "      <td>Wednesday</td>\n",
       "      <td>February</td>\n",
       "    </tr>\n",
       "    <tr>\n",
       "      <th>79</th>\n",
       "      <td>2023-02-09</td>\n",
       "      <td>airtime//08039646573//mtn</td>\n",
       "      <td>150.00</td>\n",
       "      <td>0.00</td>\n",
       "      <td>2023-02-09</td>\n",
       "      <td>40086.13</td>\n",
       "      <td>Airtime</td>\n",
       "      <td>-150.00</td>\n",
       "      <td>Thursday</td>\n",
       "      <td>February</td>\n",
       "    </tr>\n",
       "    <tr>\n",
       "      <th>80</th>\n",
       "      <td>2023-02-12</td>\n",
       "      <td>nip/gtb/ogar caleb amowomani/ussd\\nnip transfe...</td>\n",
       "      <td>0.00</td>\n",
       "      <td>5000.00</td>\n",
       "      <td>2023-02-12</td>\n",
       "      <td>45086.13</td>\n",
       "      <td>caleb</td>\n",
       "      <td>5000.00</td>\n",
       "      <td>Sunday</td>\n",
       "      <td>February</td>\n",
       "    </tr>\n",
       "    <tr>\n",
       "      <th>81</th>\n",
       "      <td>2023-02-14</td>\n",
       "      <td>nip cr/mob/yunusa sarah\\njenebu/gtb/sheddy</td>\n",
       "      <td>10000.00</td>\n",
       "      <td>0.00</td>\n",
       "      <td>2023-02-14</td>\n",
       "      <td>35086.13</td>\n",
       "      <td>My baby</td>\n",
       "      <td>-10000.00</td>\n",
       "      <td>Tuesday</td>\n",
       "      <td>February</td>\n",
       "    </tr>\n",
       "    <tr>\n",
       "      <th>82</th>\n",
       "      <td>2023-02-14</td>\n",
       "      <td>nip charge + vat</td>\n",
       "      <td>26.88</td>\n",
       "      <td>0.00</td>\n",
       "      <td>2023-02-14</td>\n",
       "      <td>35059.25</td>\n",
       "      <td>Bank charge</td>\n",
       "      <td>-26.88</td>\n",
       "      <td>Tuesday</td>\n",
       "      <td>February</td>\n",
       "    </tr>\n",
       "    <tr>\n",
       "      <th>83</th>\n",
       "      <td>2023-02-14</td>\n",
       "      <td>nip cr/mob/shedrach\\nnwali/gomon/shedrach nwali</td>\n",
       "      <td>10000.00</td>\n",
       "      <td>0.00</td>\n",
       "      <td>2023-02-14</td>\n",
       "      <td>25059.25</td>\n",
       "      <td>Digital Wallets</td>\n",
       "      <td>-10000.00</td>\n",
       "      <td>Tuesday</td>\n",
       "      <td>February</td>\n",
       "    </tr>\n",
       "    <tr>\n",
       "      <th>84</th>\n",
       "      <td>2023-02-14</td>\n",
       "      <td>nip charge + vat</td>\n",
       "      <td>26.88</td>\n",
       "      <td>0.00</td>\n",
       "      <td>2023-02-14</td>\n",
       "      <td>25032.37</td>\n",
       "      <td>Bank charge</td>\n",
       "      <td>-26.88</td>\n",
       "      <td>Tuesday</td>\n",
       "      <td>February</td>\n",
       "    </tr>\n",
       "    <tr>\n",
       "      <th>85</th>\n",
       "      <td>2023-02-17</td>\n",
       "      <td>nip cr/mob/hasina confectionery and\\nrestuaran...</td>\n",
       "      <td>1900.00</td>\n",
       "      <td>0.00</td>\n",
       "      <td>2023-02-17</td>\n",
       "      <td>23132.37</td>\n",
       "      <td>Eat outs</td>\n",
       "      <td>-1900.00</td>\n",
       "      <td>Friday</td>\n",
       "      <td>February</td>\n",
       "    </tr>\n",
       "    <tr>\n",
       "      <th>86</th>\n",
       "      <td>2023-02-17</td>\n",
       "      <td>nip charge + vat</td>\n",
       "      <td>10.75</td>\n",
       "      <td>0.00</td>\n",
       "      <td>2023-02-17</td>\n",
       "      <td>23121.62</td>\n",
       "      <td>Bank charge</td>\n",
       "      <td>-10.75</td>\n",
       "      <td>Friday</td>\n",
       "      <td>February</td>\n",
       "    </tr>\n",
       "    <tr>\n",
       "      <th>92</th>\n",
       "      <td>2023-02-18</td>\n",
       "      <td>**rev nip cr/mob/ayokanmi temitope\\njimoh/opay...</td>\n",
       "      <td>0.00</td>\n",
       "      <td>1850.00</td>\n",
       "      <td>2023-02-18</td>\n",
       "      <td>20110.87</td>\n",
       "      <td>miscellaneous</td>\n",
       "      <td>1850.00</td>\n",
       "      <td>Saturday</td>\n",
       "      <td>February</td>\n",
       "    </tr>\n",
       "    <tr>\n",
       "      <th>91</th>\n",
       "      <td>2023-02-18</td>\n",
       "      <td>**rev nip charge + vat</td>\n",
       "      <td>0.00</td>\n",
       "      <td>10.75</td>\n",
       "      <td>2023-02-18</td>\n",
       "      <td>18260.87</td>\n",
       "      <td>Bank charge</td>\n",
       "      <td>10.75</td>\n",
       "      <td>Saturday</td>\n",
       "      <td>February</td>\n",
       "    </tr>\n",
       "    <tr>\n",
       "      <th>90</th>\n",
       "      <td>2023-02-18</td>\n",
       "      <td>nip charge + vat</td>\n",
       "      <td>10.75</td>\n",
       "      <td>0.00</td>\n",
       "      <td>2023-02-18</td>\n",
       "      <td>18250.12</td>\n",
       "      <td>Bank charge</td>\n",
       "      <td>-10.75</td>\n",
       "      <td>Saturday</td>\n",
       "      <td>February</td>\n",
       "    </tr>\n",
       "    <tr>\n",
       "      <th>88</th>\n",
       "      <td>2023-02-18</td>\n",
       "      <td>nip charge + vat</td>\n",
       "      <td>10.75</td>\n",
       "      <td>0.00</td>\n",
       "      <td>2023-02-18</td>\n",
       "      <td>20110.87</td>\n",
       "      <td>Bank charge</td>\n",
       "      <td>-10.75</td>\n",
       "      <td>Saturday</td>\n",
       "      <td>February</td>\n",
       "    </tr>\n",
       "    <tr>\n",
       "      <th>87</th>\n",
       "      <td>2023-02-18</td>\n",
       "      <td>nip cr/mob/henry\\nadebayo/fcmb/sheddy</td>\n",
       "      <td>3000.00</td>\n",
       "      <td>0.00</td>\n",
       "      <td>2023-02-18</td>\n",
       "      <td>20121.62</td>\n",
       "      <td>Eat outs</td>\n",
       "      <td>-3000.00</td>\n",
       "      <td>Saturday</td>\n",
       "      <td>February</td>\n",
       "    </tr>\n",
       "    <tr>\n",
       "      <th>89</th>\n",
       "      <td>2023-02-18</td>\n",
       "      <td>nip cr/mob/ayokanmi temitope\\njimoh/opay/sheddy</td>\n",
       "      <td>1850.00</td>\n",
       "      <td>0.00</td>\n",
       "      <td>2023-02-18</td>\n",
       "      <td>18260.87</td>\n",
       "      <td>miscellaneous</td>\n",
       "      <td>-1850.00</td>\n",
       "      <td>Saturday</td>\n",
       "      <td>February</td>\n",
       "    </tr>\n",
       "    <tr>\n",
       "      <th>95</th>\n",
       "      <td>2023-02-19</td>\n",
       "      <td>nip cr/mob/mohammad abdullahi\\nsalisu/gtb/sheddy</td>\n",
       "      <td>500.00</td>\n",
       "      <td>0.00</td>\n",
       "      <td>2023-02-19</td>\n",
       "      <td>17750.12</td>\n",
       "      <td>miscellaneous</td>\n",
       "      <td>-500.00</td>\n",
       "      <td>Sunday</td>\n",
       "      <td>February</td>\n",
       "    </tr>\n",
       "    <tr>\n",
       "      <th>96</th>\n",
       "      <td>2023-02-19</td>\n",
       "      <td>nip charge + vat</td>\n",
       "      <td>10.75</td>\n",
       "      <td>0.00</td>\n",
       "      <td>2023-02-19</td>\n",
       "      <td>17739.37</td>\n",
       "      <td>Bank charge</td>\n",
       "      <td>-10.75</td>\n",
       "      <td>Sunday</td>\n",
       "      <td>February</td>\n",
       "    </tr>\n",
       "    <tr>\n",
       "      <th>100</th>\n",
       "      <td>2023-02-22</td>\n",
       "      <td>nip charge + vat</td>\n",
       "      <td>26.88</td>\n",
       "      <td>0.00</td>\n",
       "      <td>2023-02-22</td>\n",
       "      <td>10501.74</td>\n",
       "      <td>Bank charge</td>\n",
       "      <td>-26.88</td>\n",
       "      <td>Wednesday</td>\n",
       "      <td>February</td>\n",
       "    </tr>\n",
       "    <tr>\n",
       "      <th>99</th>\n",
       "      <td>2023-02-22</td>\n",
       "      <td>nip cr/mob/shedrach\\nnwali/gomon/shedrach nwali</td>\n",
       "      <td>6200.00</td>\n",
       "      <td>0.00</td>\n",
       "      <td>2023-02-22</td>\n",
       "      <td>10528.62</td>\n",
       "      <td>Digital Wallets</td>\n",
       "      <td>-6200.00</td>\n",
       "      <td>Wednesday</td>\n",
       "      <td>February</td>\n",
       "    </tr>\n",
       "    <tr>\n",
       "      <th>97</th>\n",
       "      <td>2023-02-22</td>\n",
       "      <td>nip cr/mob/moses ogli\\nogwuche/opay/sheddy</td>\n",
       "      <td>1000.00</td>\n",
       "      <td>0.00</td>\n",
       "      <td>2023-02-22</td>\n",
       "      <td>16739.37</td>\n",
       "      <td>miscellaneous</td>\n",
       "      <td>-1000.00</td>\n",
       "      <td>Wednesday</td>\n",
       "      <td>February</td>\n",
       "    </tr>\n",
       "    <tr>\n",
       "      <th>98</th>\n",
       "      <td>2023-02-22</td>\n",
       "      <td>nip charge + vat</td>\n",
       "      <td>10.75</td>\n",
       "      <td>0.00</td>\n",
       "      <td>2023-02-22</td>\n",
       "      <td>16728.62</td>\n",
       "      <td>Bank charge</td>\n",
       "      <td>-10.75</td>\n",
       "      <td>Wednesday</td>\n",
       "      <td>February</td>\n",
       "    </tr>\n",
       "    <tr>\n",
       "      <th>101</th>\n",
       "      <td>2023-02-25</td>\n",
       "      <td>sms notification charge feb 2023</td>\n",
       "      <td>136.00</td>\n",
       "      <td>0.00</td>\n",
       "      <td>2023-02-25</td>\n",
       "      <td>10365.74</td>\n",
       "      <td>Bank charge</td>\n",
       "      <td>-136.00</td>\n",
       "      <td>Saturday</td>\n",
       "      <td>February</td>\n",
       "    </tr>\n",
       "    <tr>\n",
       "      <th>102</th>\n",
       "      <td>2023-03-01</td>\n",
       "      <td>airtime//09165366686//mtn</td>\n",
       "      <td>1000.00</td>\n",
       "      <td>0.00</td>\n",
       "      <td>2023-03-01</td>\n",
       "      <td>9365.74</td>\n",
       "      <td>Airtime</td>\n",
       "      <td>-1000.00</td>\n",
       "      <td>Wednesday</td>\n",
       "      <td>March</td>\n",
       "    </tr>\n",
       "    <tr>\n",
       "      <th>103</th>\n",
       "      <td>2023-03-01</td>\n",
       "      <td>airtime//08039646573//mtn</td>\n",
       "      <td>100.00</td>\n",
       "      <td>0.00</td>\n",
       "      <td>2023-03-01</td>\n",
       "      <td>9265.74</td>\n",
       "      <td>Airtime</td>\n",
       "      <td>-100.00</td>\n",
       "      <td>Wednesday</td>\n",
       "      <td>March</td>\n",
       "    </tr>\n",
       "    <tr>\n",
       "      <th>104</th>\n",
       "      <td>2023-03-03</td>\n",
       "      <td>nip cr/mob/shedrach\\nnwali/gomon/sheddy</td>\n",
       "      <td>4000.00</td>\n",
       "      <td>0.00</td>\n",
       "      <td>2023-03-03</td>\n",
       "      <td>5265.74</td>\n",
       "      <td>Digital Wallets</td>\n",
       "      <td>-4000.00</td>\n",
       "      <td>Friday</td>\n",
       "      <td>March</td>\n",
       "    </tr>\n",
       "    <tr>\n",
       "      <th>105</th>\n",
       "      <td>2023-03-03</td>\n",
       "      <td>nip charge + vat</td>\n",
       "      <td>10.75</td>\n",
       "      <td>0.00</td>\n",
       "      <td>2023-03-03</td>\n",
       "      <td>5254.99</td>\n",
       "      <td>Bank charge</td>\n",
       "      <td>-10.75</td>\n",
       "      <td>Friday</td>\n",
       "      <td>March</td>\n",
       "    </tr>\n",
       "    <tr>\n",
       "      <th>106</th>\n",
       "      <td>2023-03-16</td>\n",
       "      <td>nip cr/mob/sarah jenebu\\nyunusa/opay/sheddy</td>\n",
       "      <td>2000.00</td>\n",
       "      <td>0.00</td>\n",
       "      <td>2023-03-16</td>\n",
       "      <td>3254.99</td>\n",
       "      <td>My baby</td>\n",
       "      <td>-2000.00</td>\n",
       "      <td>Thursday</td>\n",
       "      <td>March</td>\n",
       "    </tr>\n",
       "    <tr>\n",
       "      <th>107</th>\n",
       "      <td>2023-03-16</td>\n",
       "      <td>nip charge + vat</td>\n",
       "      <td>10.75</td>\n",
       "      <td>0.00</td>\n",
       "      <td>2023-03-16</td>\n",
       "      <td>3244.24</td>\n",
       "      <td>Bank charge</td>\n",
       "      <td>-10.75</td>\n",
       "      <td>Thursday</td>\n",
       "      <td>March</td>\n",
       "    </tr>\n",
       "    <tr>\n",
       "      <th>108</th>\n",
       "      <td>2023-03-18</td>\n",
       "      <td>nip cr/mob/paystack\\ncheckout/wbp/08039646573</td>\n",
       "      <td>1000.00</td>\n",
       "      <td>0.00</td>\n",
       "      <td>2023-03-18</td>\n",
       "      <td>2244.24</td>\n",
       "      <td>Selfcare</td>\n",
       "      <td>-1000.00</td>\n",
       "      <td>Saturday</td>\n",
       "      <td>March</td>\n",
       "    </tr>\n",
       "    <tr>\n",
       "      <th>109</th>\n",
       "      <td>2023-03-18</td>\n",
       "      <td>nip charge + vat</td>\n",
       "      <td>10.75</td>\n",
       "      <td>0.00</td>\n",
       "      <td>2023-03-18</td>\n",
       "      <td>2233.49</td>\n",
       "      <td>Bank charge</td>\n",
       "      <td>-10.75</td>\n",
       "      <td>Saturday</td>\n",
       "      <td>March</td>\n",
       "    </tr>\n",
       "    <tr>\n",
       "      <th>110</th>\n",
       "      <td>2023-03-19</td>\n",
       "      <td>rvsl:airtime//09165366686//mtn ref - 102</td>\n",
       "      <td>0.00</td>\n",
       "      <td>1000.00</td>\n",
       "      <td>2023-03-19</td>\n",
       "      <td>3233.49</td>\n",
       "      <td>Airtime</td>\n",
       "      <td>1000.00</td>\n",
       "      <td>Sunday</td>\n",
       "      <td>March</td>\n",
       "    </tr>\n",
       "    <tr>\n",
       "      <th>111</th>\n",
       "      <td>2023-03-24</td>\n",
       "      <td>nip/gtb/yunusa sarah jenebu/ussd\\nnip transfer...</td>\n",
       "      <td>0.00</td>\n",
       "      <td>30000.00</td>\n",
       "      <td>2023-03-24</td>\n",
       "      <td>33233.49</td>\n",
       "      <td>My baby</td>\n",
       "      <td>30000.00</td>\n",
       "      <td>Friday</td>\n",
       "      <td>March</td>\n",
       "    </tr>\n",
       "    <tr>\n",
       "      <th>112</th>\n",
       "      <td>2023-03-24</td>\n",
       "      <td>nip/eco/enike\\nbraimoh/refng5506179286 bo enik...</td>\n",
       "      <td>0.00</td>\n",
       "      <td>10500.00</td>\n",
       "      <td>2023-03-24</td>\n",
       "      <td>43733.49</td>\n",
       "      <td>enike braimoh</td>\n",
       "      <td>10500.00</td>\n",
       "      <td>Friday</td>\n",
       "      <td>March</td>\n",
       "    </tr>\n",
       "    <tr>\n",
       "      <th>113</th>\n",
       "      <td>2023-03-25</td>\n",
       "      <td>nip/gtb/olorunyomi daniel\\ntolani/ussd nip tra...</td>\n",
       "      <td>0.00</td>\n",
       "      <td>22530.00</td>\n",
       "      <td>2023-03-25</td>\n",
       "      <td>66263.49</td>\n",
       "      <td>DT</td>\n",
       "      <td>22530.00</td>\n",
       "      <td>Saturday</td>\n",
       "      <td>March</td>\n",
       "    </tr>\n",
       "    <tr>\n",
       "      <th>114</th>\n",
       "      <td>2023-03-25</td>\n",
       "      <td>sms notification charge mar 2023</td>\n",
       "      <td>28.00</td>\n",
       "      <td>0.00</td>\n",
       "      <td>2023-03-25</td>\n",
       "      <td>66235.49</td>\n",
       "      <td>Bank charge</td>\n",
       "      <td>-28.00</td>\n",
       "      <td>Saturday</td>\n",
       "      <td>March</td>\n",
       "    </tr>\n",
       "    <tr>\n",
       "      <th>116</th>\n",
       "      <td>2023-03-26</td>\n",
       "      <td>2023 qtr 1 visa card maintenance fee</td>\n",
       "      <td>53.75</td>\n",
       "      <td>0.00</td>\n",
       "      <td>2023-03-26</td>\n",
       "      <td>66031.74</td>\n",
       "      <td>Bank charge</td>\n",
       "      <td>-53.75</td>\n",
       "      <td>Sunday</td>\n",
       "      <td>March</td>\n",
       "    </tr>\n",
       "    <tr>\n",
       "      <th>115</th>\n",
       "      <td>2023-03-26</td>\n",
       "      <td>electronic money transfer levy</td>\n",
       "      <td>150.00</td>\n",
       "      <td>0.00</td>\n",
       "      <td>2023-03-26</td>\n",
       "      <td>66085.49</td>\n",
       "      <td>Bank charge</td>\n",
       "      <td>-150.00</td>\n",
       "      <td>Sunday</td>\n",
       "      <td>March</td>\n",
       "    </tr>\n",
       "    <tr>\n",
       "      <th>117</th>\n",
       "      <td>2023-03-27</td>\n",
       "      <td>nip/gtb/olorunyomi daniel\\ntolani/ussd nip tra...</td>\n",
       "      <td>0.00</td>\n",
       "      <td>26800.00</td>\n",
       "      <td>2023-03-27</td>\n",
       "      <td>92831.74</td>\n",
       "      <td>DT</td>\n",
       "      <td>26800.00</td>\n",
       "      <td>Monday</td>\n",
       "      <td>March</td>\n",
       "    </tr>\n",
       "    <tr>\n",
       "      <th>118</th>\n",
       "      <td>2023-03-28</td>\n",
       "      <td>nip cr/mob/ibrahim sule/uba/shedrach\\nhouse rent</td>\n",
       "      <td>60000.00</td>\n",
       "      <td>0.00</td>\n",
       "      <td>2023-03-28</td>\n",
       "      <td>32831.74</td>\n",
       "      <td>Rent</td>\n",
       "      <td>-60000.00</td>\n",
       "      <td>Tuesday</td>\n",
       "      <td>March</td>\n",
       "    </tr>\n",
       "    <tr>\n",
       "      <th>119</th>\n",
       "      <td>2023-03-28</td>\n",
       "      <td>nip charge + vat</td>\n",
       "      <td>53.75</td>\n",
       "      <td>0.00</td>\n",
       "      <td>2023-03-28</td>\n",
       "      <td>32777.99</td>\n",
       "      <td>Bank charge</td>\n",
       "      <td>-53.75</td>\n",
       "      <td>Tuesday</td>\n",
       "      <td>March</td>\n",
       "    </tr>\n",
       "    <tr>\n",
       "      <th>120</th>\n",
       "      <td>2023-03-29</td>\n",
       "      <td>nip/fbn/olorunyomi daniel\\ntolani/fbnmobile:sh...</td>\n",
       "      <td>0.00</td>\n",
       "      <td>34870.00</td>\n",
       "      <td>2023-03-29</td>\n",
       "      <td>67647.99</td>\n",
       "      <td>DT</td>\n",
       "      <td>34870.00</td>\n",
       "      <td>Wednesday</td>\n",
       "      <td>March</td>\n",
       "    </tr>\n",
       "    <tr>\n",
       "      <th>121</th>\n",
       "      <td>2023-03-29</td>\n",
       "      <td>nip/rolez/baxi---/bax_trsf_1680075323_dvd9- mo...</td>\n",
       "      <td>0.00</td>\n",
       "      <td>20000.00</td>\n",
       "      <td>2023-03-29</td>\n",
       "      <td>87647.99</td>\n",
       "      <td>Day Job</td>\n",
       "      <td>20000.00</td>\n",
       "      <td>Wednesday</td>\n",
       "      <td>March</td>\n",
       "    </tr>\n",
       "    <tr>\n",
       "      <th>122</th>\n",
       "      <td>2023-03-30</td>\n",
       "      <td>nip/gtb/olorunyomi daniel\\ntolani/ussd nip tra...</td>\n",
       "      <td>0.00</td>\n",
       "      <td>27450.00</td>\n",
       "      <td>2023-03-30</td>\n",
       "      <td>115097.99</td>\n",
       "      <td>DT</td>\n",
       "      <td>27450.00</td>\n",
       "      <td>Thursday</td>\n",
       "      <td>March</td>\n",
       "    </tr>\n",
       "    <tr>\n",
       "      <th>123</th>\n",
       "      <td>2023-03-31</td>\n",
       "      <td>nip cr/mob/olorunyomi daniel\\ntolani/gtb/boyeke</td>\n",
       "      <td>58000.00</td>\n",
       "      <td>0.00</td>\n",
       "      <td>2023-03-31</td>\n",
       "      <td>57097.99</td>\n",
       "      <td>DT</td>\n",
       "      <td>-58000.00</td>\n",
       "      <td>Friday</td>\n",
       "      <td>March</td>\n",
       "    </tr>\n",
       "    <tr>\n",
       "      <th>124</th>\n",
       "      <td>2023-03-31</td>\n",
       "      <td>nip charge + vat</td>\n",
       "      <td>53.75</td>\n",
       "      <td>0.00</td>\n",
       "      <td>2023-03-31</td>\n",
       "      <td>57044.24</td>\n",
       "      <td>Bank charge</td>\n",
       "      <td>-53.75</td>\n",
       "      <td>Friday</td>\n",
       "      <td>March</td>\n",
       "    </tr>\n",
       "    <tr>\n",
       "      <th>125</th>\n",
       "      <td>2023-03-31</td>\n",
       "      <td>nip cr/mob/olorunyomi daniel\\ntolani/gtb/boyeke</td>\n",
       "      <td>50000.00</td>\n",
       "      <td>0.00</td>\n",
       "      <td>2023-03-31</td>\n",
       "      <td>7044.24</td>\n",
       "      <td>DT</td>\n",
       "      <td>-50000.00</td>\n",
       "      <td>Friday</td>\n",
       "      <td>March</td>\n",
       "    </tr>\n",
       "    <tr>\n",
       "      <th>126</th>\n",
       "      <td>2023-03-31</td>\n",
       "      <td>nip charge + vat</td>\n",
       "      <td>26.88</td>\n",
       "      <td>0.00</td>\n",
       "      <td>2023-03-31</td>\n",
       "      <td>7017.36</td>\n",
       "      <td>Bank charge</td>\n",
       "      <td>-26.88</td>\n",
       "      <td>Friday</td>\n",
       "      <td>March</td>\n",
       "    </tr>\n",
       "    <tr>\n",
       "      <th>128</th>\n",
       "      <td>2023-04-02</td>\n",
       "      <td>nip charge + vat</td>\n",
       "      <td>10.75</td>\n",
       "      <td>0.00</td>\n",
       "      <td>2023-04-02</td>\n",
       "      <td>5006.61</td>\n",
       "      <td>Bank charge</td>\n",
       "      <td>-10.75</td>\n",
       "      <td>Sunday</td>\n",
       "      <td>April</td>\n",
       "    </tr>\n",
       "    <tr>\n",
       "      <th>129</th>\n",
       "      <td>2023-04-02</td>\n",
       "      <td>nip/rolez/baxi---/bax_trsf_1680444235_hfbq- mo...</td>\n",
       "      <td>0.00</td>\n",
       "      <td>2100.00</td>\n",
       "      <td>2023-04-02</td>\n",
       "      <td>7106.61</td>\n",
       "      <td>Day Job</td>\n",
       "      <td>2100.00</td>\n",
       "      <td>Sunday</td>\n",
       "      <td>April</td>\n",
       "    </tr>\n",
       "    <tr>\n",
       "      <th>127</th>\n",
       "      <td>2023-04-02</td>\n",
       "      <td>nip cr/mob/shedrach\\nnwali/gomon/shedrach nwali</td>\n",
       "      <td>2000.00</td>\n",
       "      <td>0.00</td>\n",
       "      <td>2023-04-02</td>\n",
       "      <td>5017.36</td>\n",
       "      <td>Digital Wallets</td>\n",
       "      <td>-2000.00</td>\n",
       "      <td>Sunday</td>\n",
       "      <td>April</td>\n",
       "    </tr>\n",
       "    <tr>\n",
       "      <th>130</th>\n",
       "      <td>2023-04-02</td>\n",
       "      <td>electronic money transfer levy</td>\n",
       "      <td>200.00</td>\n",
       "      <td>0.00</td>\n",
       "      <td>2023-04-02</td>\n",
       "      <td>6906.61</td>\n",
       "      <td>Bank charge</td>\n",
       "      <td>-200.00</td>\n",
       "      <td>Sunday</td>\n",
       "      <td>April</td>\n",
       "    </tr>\n",
       "    <tr>\n",
       "      <th>131</th>\n",
       "      <td>2023-04-04</td>\n",
       "      <td>airtime//07043909222//mtn</td>\n",
       "      <td>500.00</td>\n",
       "      <td>0.00</td>\n",
       "      <td>2023-04-04</td>\n",
       "      <td>6406.61</td>\n",
       "      <td>Airtime</td>\n",
       "      <td>-500.00</td>\n",
       "      <td>Tuesday</td>\n",
       "      <td>April</td>\n",
       "    </tr>\n",
       "    <tr>\n",
       "      <th>132</th>\n",
       "      <td>2023-04-05</td>\n",
       "      <td>nip cr/mob/abdullahi\\nkhadija/gtb/sheddy</td>\n",
       "      <td>3000.00</td>\n",
       "      <td>0.00</td>\n",
       "      <td>2023-04-05</td>\n",
       "      <td>3406.61</td>\n",
       "      <td>My baby</td>\n",
       "      <td>-3000.00</td>\n",
       "      <td>Wednesday</td>\n",
       "      <td>April</td>\n",
       "    </tr>\n",
       "    <tr>\n",
       "      <th>133</th>\n",
       "      <td>2023-04-05</td>\n",
       "      <td>nip charge + vat</td>\n",
       "      <td>10.75</td>\n",
       "      <td>0.00</td>\n",
       "      <td>2023-04-05</td>\n",
       "      <td>3395.86</td>\n",
       "      <td>Bank charge</td>\n",
       "      <td>-10.75</td>\n",
       "      <td>Wednesday</td>\n",
       "      <td>April</td>\n",
       "    </tr>\n",
       "    <tr>\n",
       "      <th>134</th>\n",
       "      <td>2023-04-06</td>\n",
       "      <td>nip cr/mob/shedrach\\nnwali/gomon/shedrach nwali</td>\n",
       "      <td>3000.00</td>\n",
       "      <td>0.00</td>\n",
       "      <td>2023-04-06</td>\n",
       "      <td>395.86</td>\n",
       "      <td>Digital Wallets</td>\n",
       "      <td>-3000.00</td>\n",
       "      <td>Thursday</td>\n",
       "      <td>April</td>\n",
       "    </tr>\n",
       "    <tr>\n",
       "      <th>135</th>\n",
       "      <td>2023-04-06</td>\n",
       "      <td>nip charge + vat</td>\n",
       "      <td>10.75</td>\n",
       "      <td>0.00</td>\n",
       "      <td>2023-04-06</td>\n",
       "      <td>385.11</td>\n",
       "      <td>Bank charge</td>\n",
       "      <td>-10.75</td>\n",
       "      <td>Thursday</td>\n",
       "      <td>April</td>\n",
       "    </tr>\n",
       "    <tr>\n",
       "      <th>136</th>\n",
       "      <td>2023-04-09</td>\n",
       "      <td>nip/cash/trf/045rnbe02251681035150766\\n220!wit...</td>\n",
       "      <td>0.00</td>\n",
       "      <td>20000.00</td>\n",
       "      <td>2023-04-09</td>\n",
       "      <td>20385.11</td>\n",
       "      <td>Day Job</td>\n",
       "      <td>20000.00</td>\n",
       "      <td>Sunday</td>\n",
       "      <td>April</td>\n",
       "    </tr>\n",
       "    <tr>\n",
       "      <th>137</th>\n",
       "      <td>2023-04-09</td>\n",
       "      <td>nip cr/mob/shedrach\\nnwali/gomon/shedrach nwali</td>\n",
       "      <td>20000.00</td>\n",
       "      <td>0.00</td>\n",
       "      <td>2023-04-09</td>\n",
       "      <td>385.11</td>\n",
       "      <td>Digital Wallets</td>\n",
       "      <td>-20000.00</td>\n",
       "      <td>Sunday</td>\n",
       "      <td>April</td>\n",
       "    </tr>\n",
       "    <tr>\n",
       "      <th>138</th>\n",
       "      <td>2023-04-09</td>\n",
       "      <td>nip charge + vat</td>\n",
       "      <td>26.88</td>\n",
       "      <td>0.00</td>\n",
       "      <td>2023-04-09</td>\n",
       "      <td>358.23</td>\n",
       "      <td>Bank charge</td>\n",
       "      <td>-26.88</td>\n",
       "      <td>Sunday</td>\n",
       "      <td>April</td>\n",
       "    </tr>\n",
       "    <tr>\n",
       "      <th>139</th>\n",
       "      <td>2023-04-10</td>\n",
       "      <td>nip/gtb/olorunyomi daniel\\ntolani/ussd nip tra...</td>\n",
       "      <td>0.00</td>\n",
       "      <td>18050.00</td>\n",
       "      <td>2023-04-10</td>\n",
       "      <td>18408.23</td>\n",
       "      <td>DT</td>\n",
       "      <td>18050.00</td>\n",
       "      <td>Monday</td>\n",
       "      <td>April</td>\n",
       "    </tr>\n",
       "    <tr>\n",
       "      <th>140</th>\n",
       "      <td>2023-04-10</td>\n",
       "      <td>airtime//07043909222//mtn</td>\n",
       "      <td>200.00</td>\n",
       "      <td>0.00</td>\n",
       "      <td>2023-04-10</td>\n",
       "      <td>18208.23</td>\n",
       "      <td>Airtime</td>\n",
       "      <td>-200.00</td>\n",
       "      <td>Monday</td>\n",
       "      <td>April</td>\n",
       "    </tr>\n",
       "    <tr>\n",
       "      <th>141</th>\n",
       "      <td>2023-04-11</td>\n",
       "      <td>nip cr/mob/shedrach\\nnwali/gomon/shedrach nwali</td>\n",
       "      <td>5000.00</td>\n",
       "      <td>0.00</td>\n",
       "      <td>2023-04-11</td>\n",
       "      <td>13208.23</td>\n",
       "      <td>Digital Wallets</td>\n",
       "      <td>-5000.00</td>\n",
       "      <td>Tuesday</td>\n",
       "      <td>April</td>\n",
       "    </tr>\n",
       "    <tr>\n",
       "      <th>142</th>\n",
       "      <td>2023-04-11</td>\n",
       "      <td>nip charge + vat</td>\n",
       "      <td>10.75</td>\n",
       "      <td>0.00</td>\n",
       "      <td>2023-04-11</td>\n",
       "      <td>13197.48</td>\n",
       "      <td>Bank charge</td>\n",
       "      <td>-10.75</td>\n",
       "      <td>Tuesday</td>\n",
       "      <td>April</td>\n",
       "    </tr>\n",
       "    <tr>\n",
       "      <th>143</th>\n",
       "      <td>2023-04-12</td>\n",
       "      <td>airtime//08125748649//airtel</td>\n",
       "      <td>1000.00</td>\n",
       "      <td>0.00</td>\n",
       "      <td>2023-04-12</td>\n",
       "      <td>12197.48</td>\n",
       "      <td>Airtime</td>\n",
       "      <td>-1000.00</td>\n",
       "      <td>Wednesday</td>\n",
       "      <td>April</td>\n",
       "    </tr>\n",
       "    <tr>\n",
       "      <th>144</th>\n",
       "      <td>2023-04-14</td>\n",
       "      <td>nip/capri/cdl/helen copper</td>\n",
       "      <td>0.00</td>\n",
       "      <td>2500.00</td>\n",
       "      <td>2023-04-14</td>\n",
       "      <td>14697.48</td>\n",
       "      <td>Day Job</td>\n",
       "      <td>2500.00</td>\n",
       "      <td>Friday</td>\n",
       "      <td>April</td>\n",
       "    </tr>\n",
       "    <tr>\n",
       "      <th>147</th>\n",
       "      <td>2023-04-16</td>\n",
       "      <td>airtime//07043909222//mtn</td>\n",
       "      <td>200.00</td>\n",
       "      <td>0.00</td>\n",
       "      <td>2023-04-16</td>\n",
       "      <td>14247.48</td>\n",
       "      <td>Airtime</td>\n",
       "      <td>-200.00</td>\n",
       "      <td>Sunday</td>\n",
       "      <td>April</td>\n",
       "    </tr>\n",
       "    <tr>\n",
       "      <th>145</th>\n",
       "      <td>2023-04-16</td>\n",
       "      <td>airtime//07043909222//mtn</td>\n",
       "      <td>200.00</td>\n",
       "      <td>0.00</td>\n",
       "      <td>2023-04-16</td>\n",
       "      <td>14497.48</td>\n",
       "      <td>Airtime</td>\n",
       "      <td>-200.00</td>\n",
       "      <td>Sunday</td>\n",
       "      <td>April</td>\n",
       "    </tr>\n",
       "    <tr>\n",
       "      <th>146</th>\n",
       "      <td>2023-04-16</td>\n",
       "      <td>electronic money transfer levy</td>\n",
       "      <td>50.00</td>\n",
       "      <td>0.00</td>\n",
       "      <td>2023-04-16</td>\n",
       "      <td>14447.48</td>\n",
       "      <td>Bank charge</td>\n",
       "      <td>-50.00</td>\n",
       "      <td>Sunday</td>\n",
       "      <td>April</td>\n",
       "    </tr>\n",
       "    <tr>\n",
       "      <th>148</th>\n",
       "      <td>2023-04-19</td>\n",
       "      <td>nip cr/mob/shedrach\\nnwali/gomon/shedrach nwali</td>\n",
       "      <td>10000.00</td>\n",
       "      <td>0.00</td>\n",
       "      <td>2023-04-19</td>\n",
       "      <td>4247.48</td>\n",
       "      <td>Digital Wallets</td>\n",
       "      <td>-10000.00</td>\n",
       "      <td>Wednesday</td>\n",
       "      <td>April</td>\n",
       "    </tr>\n",
       "    <tr>\n",
       "      <th>149</th>\n",
       "      <td>2023-04-19</td>\n",
       "      <td>nip charge + vat</td>\n",
       "      <td>26.88</td>\n",
       "      <td>0.00</td>\n",
       "      <td>2023-04-19</td>\n",
       "      <td>4220.60</td>\n",
       "      <td>Bank charge</td>\n",
       "      <td>-26.88</td>\n",
       "      <td>Wednesday</td>\n",
       "      <td>April</td>\n",
       "    </tr>\n",
       "    <tr>\n",
       "      <th>150</th>\n",
       "      <td>2023-04-19</td>\n",
       "      <td>nip/gtb/olorunyomi daniel\\ntolani/ussd nip tra...</td>\n",
       "      <td>0.00</td>\n",
       "      <td>28355.00</td>\n",
       "      <td>2023-04-19</td>\n",
       "      <td>32575.60</td>\n",
       "      <td>DT</td>\n",
       "      <td>28355.00</td>\n",
       "      <td>Wednesday</td>\n",
       "      <td>April</td>\n",
       "    </tr>\n",
       "    <tr>\n",
       "      <th>151</th>\n",
       "      <td>2023-04-23</td>\n",
       "      <td>nip cr/mob/chukwubueze paschal\\nugwumba/opay/s...</td>\n",
       "      <td>7500.00</td>\n",
       "      <td>0.00</td>\n",
       "      <td>2023-04-23</td>\n",
       "      <td>25075.60</td>\n",
       "      <td>Selfcare</td>\n",
       "      <td>-7500.00</td>\n",
       "      <td>Sunday</td>\n",
       "      <td>April</td>\n",
       "    </tr>\n",
       "    <tr>\n",
       "      <th>152</th>\n",
       "      <td>2023-04-23</td>\n",
       "      <td>nip charge + vat</td>\n",
       "      <td>26.88</td>\n",
       "      <td>0.00</td>\n",
       "      <td>2023-04-23</td>\n",
       "      <td>25048.72</td>\n",
       "      <td>Bank charge</td>\n",
       "      <td>-26.88</td>\n",
       "      <td>Sunday</td>\n",
       "      <td>April</td>\n",
       "    </tr>\n",
       "    <tr>\n",
       "      <th>153</th>\n",
       "      <td>2023-04-23</td>\n",
       "      <td>electronic money transfer levy</td>\n",
       "      <td>50.00</td>\n",
       "      <td>0.00</td>\n",
       "      <td>2023-04-23</td>\n",
       "      <td>24998.72</td>\n",
       "      <td>Bank charge</td>\n",
       "      <td>-50.00</td>\n",
       "      <td>Sunday</td>\n",
       "      <td>April</td>\n",
       "    </tr>\n",
       "    <tr>\n",
       "      <th>154</th>\n",
       "      <td>2023-04-25</td>\n",
       "      <td>nip cr/mob/chukwubueze paschal\\nugwumba/abn/sh...</td>\n",
       "      <td>6500.00</td>\n",
       "      <td>0.00</td>\n",
       "      <td>2023-04-25</td>\n",
       "      <td>18498.72</td>\n",
       "      <td>Selfcare</td>\n",
       "      <td>-6500.00</td>\n",
       "      <td>Tuesday</td>\n",
       "      <td>April</td>\n",
       "    </tr>\n",
       "    <tr>\n",
       "      <th>155</th>\n",
       "      <td>2023-04-25</td>\n",
       "      <td>nip charge + vat</td>\n",
       "      <td>26.88</td>\n",
       "      <td>0.00</td>\n",
       "      <td>2023-04-25</td>\n",
       "      <td>18471.84</td>\n",
       "      <td>Bank charge</td>\n",
       "      <td>-26.88</td>\n",
       "      <td>Tuesday</td>\n",
       "      <td>April</td>\n",
       "    </tr>\n",
       "    <tr>\n",
       "      <th>156</th>\n",
       "      <td>2023-04-25</td>\n",
       "      <td>nip/capri/cdl/helen</td>\n",
       "      <td>0.00</td>\n",
       "      <td>15000.00</td>\n",
       "      <td>2023-04-25</td>\n",
       "      <td>33471.84</td>\n",
       "      <td>Day Job</td>\n",
       "      <td>15000.00</td>\n",
       "      <td>Tuesday</td>\n",
       "      <td>April</td>\n",
       "    </tr>\n",
       "    <tr>\n",
       "      <th>163</th>\n",
       "      <td>2023-04-26</td>\n",
       "      <td>**rev nip cr/mob/yum\\ndelivery/abn/sheddy</td>\n",
       "      <td>0.00</td>\n",
       "      <td>7600.00</td>\n",
       "      <td>2023-04-26</td>\n",
       "      <td>33444.96</td>\n",
       "      <td>Eat outs</td>\n",
       "      <td>7600.00</td>\n",
       "      <td>Wednesday</td>\n",
       "      <td>April</td>\n",
       "    </tr>\n",
       "    <tr>\n",
       "      <th>164</th>\n",
       "      <td>2023-04-26</td>\n",
       "      <td>**rev nip charge + vat</td>\n",
       "      <td>0.00</td>\n",
       "      <td>26.88</td>\n",
       "      <td>2023-04-26</td>\n",
       "      <td>33471.84</td>\n",
       "      <td>Bank charge</td>\n",
       "      <td>26.88</td>\n",
       "      <td>Wednesday</td>\n",
       "      <td>April</td>\n",
       "    </tr>\n",
       "    <tr>\n",
       "      <th>161</th>\n",
       "      <td>2023-04-26</td>\n",
       "      <td>nip cr/mob/yum delivery/abn/sheddy</td>\n",
       "      <td>7600.00</td>\n",
       "      <td>0.00</td>\n",
       "      <td>2023-04-26</td>\n",
       "      <td>25871.84</td>\n",
       "      <td>Eat outs</td>\n",
       "      <td>-7600.00</td>\n",
       "      <td>Wednesday</td>\n",
       "      <td>April</td>\n",
       "    </tr>\n",
       "    <tr>\n",
       "      <th>162</th>\n",
       "      <td>2023-04-26</td>\n",
       "      <td>nip charge + vat</td>\n",
       "      <td>26.88</td>\n",
       "      <td>0.00</td>\n",
       "      <td>2023-04-26</td>\n",
       "      <td>25844.96</td>\n",
       "      <td>Bank charge</td>\n",
       "      <td>-26.88</td>\n",
       "      <td>Wednesday</td>\n",
       "      <td>April</td>\n",
       "    </tr>\n",
       "    <tr>\n",
       "      <th>159</th>\n",
       "      <td>2023-04-26</td>\n",
       "      <td>**rev nip charge + vat</td>\n",
       "      <td>0.00</td>\n",
       "      <td>26.88</td>\n",
       "      <td>2023-04-26</td>\n",
       "      <td>23471.84</td>\n",
       "      <td>Bank charge</td>\n",
       "      <td>26.88</td>\n",
       "      <td>Wednesday</td>\n",
       "      <td>April</td>\n",
       "    </tr>\n",
       "    <tr>\n",
       "      <th>158</th>\n",
       "      <td>2023-04-26</td>\n",
       "      <td>nip charge + vat</td>\n",
       "      <td>26.88</td>\n",
       "      <td>0.00</td>\n",
       "      <td>2023-04-26</td>\n",
       "      <td>23444.96</td>\n",
       "      <td>Bank charge</td>\n",
       "      <td>-26.88</td>\n",
       "      <td>Wednesday</td>\n",
       "      <td>April</td>\n",
       "    </tr>\n",
       "    <tr>\n",
       "      <th>157</th>\n",
       "      <td>2023-04-26</td>\n",
       "      <td>nip cr/mob/shedrach\\nnwali/gomon/shedrach nwali</td>\n",
       "      <td>10000.00</td>\n",
       "      <td>0.00</td>\n",
       "      <td>2023-04-26</td>\n",
       "      <td>23471.84</td>\n",
       "      <td>Digital Wallets</td>\n",
       "      <td>-10000.00</td>\n",
       "      <td>Wednesday</td>\n",
       "      <td>April</td>\n",
       "    </tr>\n",
       "    <tr>\n",
       "      <th>160</th>\n",
       "      <td>2023-04-26</td>\n",
       "      <td>**rev nip cr/mob/shedrach\\nnwali/gomon/shedrac...</td>\n",
       "      <td>0.00</td>\n",
       "      <td>10000.00</td>\n",
       "      <td>2023-04-26</td>\n",
       "      <td>33471.84</td>\n",
       "      <td>Digital Wallets</td>\n",
       "      <td>10000.00</td>\n",
       "      <td>Wednesday</td>\n",
       "      <td>April</td>\n",
       "    </tr>\n",
       "    <tr>\n",
       "      <th>165</th>\n",
       "      <td>2023-04-29</td>\n",
       "      <td>sms notification charge apr 2023</td>\n",
       "      <td>188.00</td>\n",
       "      <td>0.00</td>\n",
       "      <td>2023-04-29</td>\n",
       "      <td>33283.84</td>\n",
       "      <td>Bank charge</td>\n",
       "      <td>-188.00</td>\n",
       "      <td>Saturday</td>\n",
       "      <td>April</td>\n",
       "    </tr>\n",
       "    <tr>\n",
       "      <th>166</th>\n",
       "      <td>2023-04-29</td>\n",
       "      <td>nip cr/mob/paystack\\ncheckout/wbp/08039646573</td>\n",
       "      <td>2000.00</td>\n",
       "      <td>0.00</td>\n",
       "      <td>2023-04-29</td>\n",
       "      <td>31283.84</td>\n",
       "      <td>Selfcare</td>\n",
       "      <td>-2000.00</td>\n",
       "      <td>Saturday</td>\n",
       "      <td>April</td>\n",
       "    </tr>\n",
       "    <tr>\n",
       "      <th>167</th>\n",
       "      <td>2023-04-29</td>\n",
       "      <td>nip charge + vat</td>\n",
       "      <td>10.75</td>\n",
       "      <td>0.00</td>\n",
       "      <td>2023-04-29</td>\n",
       "      <td>31273.09</td>\n",
       "      <td>Bank charge</td>\n",
       "      <td>-10.75</td>\n",
       "      <td>Saturday</td>\n",
       "      <td>April</td>\n",
       "    </tr>\n",
       "    <tr>\n",
       "      <th>168</th>\n",
       "      <td>2023-04-30</td>\n",
       "      <td>nip cr/mob/stone\\ncastlerestaurant/gtb/sheddy</td>\n",
       "      <td>2250.00</td>\n",
       "      <td>0.00</td>\n",
       "      <td>2023-04-30</td>\n",
       "      <td>29023.09</td>\n",
       "      <td>Eat outs</td>\n",
       "      <td>-2250.00</td>\n",
       "      <td>Sunday</td>\n",
       "      <td>April</td>\n",
       "    </tr>\n",
       "    <tr>\n",
       "      <th>169</th>\n",
       "      <td>2023-04-30</td>\n",
       "      <td>nip charge + vat</td>\n",
       "      <td>10.75</td>\n",
       "      <td>0.00</td>\n",
       "      <td>2023-04-30</td>\n",
       "      <td>29012.34</td>\n",
       "      <td>Bank charge</td>\n",
       "      <td>-10.75</td>\n",
       "      <td>Sunday</td>\n",
       "      <td>April</td>\n",
       "    </tr>\n",
       "    <tr>\n",
       "      <th>170</th>\n",
       "      <td>2023-04-30</td>\n",
       "      <td>nip cr/mob/henry\\nadebayo/fcmb/sheddy</td>\n",
       "      <td>2400.00</td>\n",
       "      <td>0.00</td>\n",
       "      <td>2023-04-30</td>\n",
       "      <td>26612.34</td>\n",
       "      <td>Eat outs</td>\n",
       "      <td>-2400.00</td>\n",
       "      <td>Sunday</td>\n",
       "      <td>April</td>\n",
       "    </tr>\n",
       "    <tr>\n",
       "      <th>171</th>\n",
       "      <td>2023-04-30</td>\n",
       "      <td>nip charge + vat</td>\n",
       "      <td>10.75</td>\n",
       "      <td>0.00</td>\n",
       "      <td>2023-04-30</td>\n",
       "      <td>26601.59</td>\n",
       "      <td>Bank charge</td>\n",
       "      <td>-10.75</td>\n",
       "      <td>Sunday</td>\n",
       "      <td>April</td>\n",
       "    </tr>\n",
       "    <tr>\n",
       "      <th>172</th>\n",
       "      <td>2023-04-30</td>\n",
       "      <td>electronic money transfer levy</td>\n",
       "      <td>50.00</td>\n",
       "      <td>0.00</td>\n",
       "      <td>2023-04-30</td>\n",
       "      <td>26551.59</td>\n",
       "      <td>Bank charge</td>\n",
       "      <td>-50.00</td>\n",
       "      <td>Sunday</td>\n",
       "      <td>April</td>\n",
       "    </tr>\n",
       "    <tr>\n",
       "      <th>173</th>\n",
       "      <td>2023-04-30</td>\n",
       "      <td>nip cr/mob/paystack\\ncheckout/wbp/08039646573</td>\n",
       "      <td>2000.00</td>\n",
       "      <td>0.00</td>\n",
       "      <td>2023-04-30</td>\n",
       "      <td>24551.59</td>\n",
       "      <td>Selfcare</td>\n",
       "      <td>-2000.00</td>\n",
       "      <td>Sunday</td>\n",
       "      <td>April</td>\n",
       "    </tr>\n",
       "    <tr>\n",
       "      <th>174</th>\n",
       "      <td>2023-04-30</td>\n",
       "      <td>nip charge + vat</td>\n",
       "      <td>10.75</td>\n",
       "      <td>0.00</td>\n",
       "      <td>2023-04-30</td>\n",
       "      <td>24540.84</td>\n",
       "      <td>Bank charge</td>\n",
       "      <td>-10.75</td>\n",
       "      <td>Sunday</td>\n",
       "      <td>April</td>\n",
       "    </tr>\n",
       "    <tr>\n",
       "      <th>179</th>\n",
       "      <td>2023-05-01</td>\n",
       "      <td>nip charge + vat</td>\n",
       "      <td>10.75</td>\n",
       "      <td>0.00</td>\n",
       "      <td>2023-05-01</td>\n",
       "      <td>17103.21</td>\n",
       "      <td>Bank charge</td>\n",
       "      <td>-10.75</td>\n",
       "      <td>Monday</td>\n",
       "      <td>May</td>\n",
       "    </tr>\n",
       "    <tr>\n",
       "      <th>178</th>\n",
       "      <td>2023-05-01</td>\n",
       "      <td>nip cr/mob/shedrach\\nnwali/gomon/shedrach nwali</td>\n",
       "      <td>5000.00</td>\n",
       "      <td>0.00</td>\n",
       "      <td>2023-05-01</td>\n",
       "      <td>17113.96</td>\n",
       "      <td>Digital Wallets</td>\n",
       "      <td>-5000.00</td>\n",
       "      <td>Monday</td>\n",
       "      <td>May</td>\n",
       "    </tr>\n",
       "    <tr>\n",
       "      <th>177</th>\n",
       "      <td>2023-05-01</td>\n",
       "      <td>nip/opay/sarah jenebu yunusa/transfer from\\nto...</td>\n",
       "      <td>0.00</td>\n",
       "      <td>4000.00</td>\n",
       "      <td>2023-05-01</td>\n",
       "      <td>22113.96</td>\n",
       "      <td>My baby</td>\n",
       "      <td>4000.00</td>\n",
       "      <td>Monday</td>\n",
       "      <td>May</td>\n",
       "    </tr>\n",
       "    <tr>\n",
       "      <th>175</th>\n",
       "      <td>2023-05-01</td>\n",
       "      <td>nip cr/mob/yum delivery/abn/sheddy</td>\n",
       "      <td>6400.00</td>\n",
       "      <td>0.00</td>\n",
       "      <td>2023-05-01</td>\n",
       "      <td>18140.84</td>\n",
       "      <td>Eat outs</td>\n",
       "      <td>-6400.00</td>\n",
       "      <td>Monday</td>\n",
       "      <td>May</td>\n",
       "    </tr>\n",
       "    <tr>\n",
       "      <th>176</th>\n",
       "      <td>2023-05-01</td>\n",
       "      <td>nip charge + vat</td>\n",
       "      <td>26.88</td>\n",
       "      <td>0.00</td>\n",
       "      <td>2023-05-01</td>\n",
       "      <td>18113.96</td>\n",
       "      <td>Bank charge</td>\n",
       "      <td>-26.88</td>\n",
       "      <td>Monday</td>\n",
       "      <td>May</td>\n",
       "    </tr>\n",
       "    <tr>\n",
       "      <th>180</th>\n",
       "      <td>2023-05-02</td>\n",
       "      <td>nip cr/mob/salisu\\nabdulrasheed/opay/shedrach</td>\n",
       "      <td>5200.00</td>\n",
       "      <td>0.00</td>\n",
       "      <td>2023-05-02</td>\n",
       "      <td>11903.21</td>\n",
       "      <td>miscellaneous</td>\n",
       "      <td>-5200.00</td>\n",
       "      <td>Tuesday</td>\n",
       "      <td>May</td>\n",
       "    </tr>\n",
       "    <tr>\n",
       "      <th>181</th>\n",
       "      <td>2023-05-02</td>\n",
       "      <td>nip charge + vat</td>\n",
       "      <td>26.88</td>\n",
       "      <td>0.00</td>\n",
       "      <td>2023-05-02</td>\n",
       "      <td>11876.33</td>\n",
       "      <td>Bank charge</td>\n",
       "      <td>-26.88</td>\n",
       "      <td>Tuesday</td>\n",
       "      <td>May</td>\n",
       "    </tr>\n",
       "    <tr>\n",
       "      <th>182</th>\n",
       "      <td>2023-05-04</td>\n",
       "      <td>nip cr/mob/shedrach\\nnwali/gomon/shedrach nwali</td>\n",
       "      <td>5000.00</td>\n",
       "      <td>0.00</td>\n",
       "      <td>2023-05-04</td>\n",
       "      <td>6876.33</td>\n",
       "      <td>Digital Wallets</td>\n",
       "      <td>-5000.00</td>\n",
       "      <td>Thursday</td>\n",
       "      <td>May</td>\n",
       "    </tr>\n",
       "    <tr>\n",
       "      <th>183</th>\n",
       "      <td>2023-05-04</td>\n",
       "      <td>nip charge + vat</td>\n",
       "      <td>10.75</td>\n",
       "      <td>0.00</td>\n",
       "      <td>2023-05-04</td>\n",
       "      <td>6865.58</td>\n",
       "      <td>Bank charge</td>\n",
       "      <td>-10.75</td>\n",
       "      <td>Thursday</td>\n",
       "      <td>May</td>\n",
       "    </tr>\n",
       "    <tr>\n",
       "      <th>184</th>\n",
       "      <td>2023-05-05</td>\n",
       "      <td>nip cr/mob/shedrach\\nnwali/gomon/shedrach nwali</td>\n",
       "      <td>600.00</td>\n",
       "      <td>0.00</td>\n",
       "      <td>2023-05-05</td>\n",
       "      <td>6265.58</td>\n",
       "      <td>Digital Wallets</td>\n",
       "      <td>-600.00</td>\n",
       "      <td>Friday</td>\n",
       "      <td>May</td>\n",
       "    </tr>\n",
       "    <tr>\n",
       "      <th>185</th>\n",
       "      <td>2023-05-05</td>\n",
       "      <td>nip charge + vat</td>\n",
       "      <td>10.75</td>\n",
       "      <td>0.00</td>\n",
       "      <td>2023-05-05</td>\n",
       "      <td>6254.83</td>\n",
       "      <td>Bank charge</td>\n",
       "      <td>-10.75</td>\n",
       "      <td>Friday</td>\n",
       "      <td>May</td>\n",
       "    </tr>\n",
       "    <tr>\n",
       "      <th>186</th>\n",
       "      <td>2023-05-09</td>\n",
       "      <td>airtime//07043909222//mtn</td>\n",
       "      <td>300.00</td>\n",
       "      <td>0.00</td>\n",
       "      <td>2023-05-09</td>\n",
       "      <td>5954.83</td>\n",
       "      <td>Airtime</td>\n",
       "      <td>-300.00</td>\n",
       "      <td>Tuesday</td>\n",
       "      <td>May</td>\n",
       "    </tr>\n",
       "    <tr>\n",
       "      <th>187</th>\n",
       "      <td>2023-05-09</td>\n",
       "      <td>airtime//07043909222//mtn</td>\n",
       "      <td>300.00</td>\n",
       "      <td>0.00</td>\n",
       "      <td>2023-05-09</td>\n",
       "      <td>5654.83</td>\n",
       "      <td>Airtime</td>\n",
       "      <td>-300.00</td>\n",
       "      <td>Tuesday</td>\n",
       "      <td>May</td>\n",
       "    </tr>\n",
       "    <tr>\n",
       "      <th>188</th>\n",
       "      <td>2023-05-09</td>\n",
       "      <td>nip cr/mob/abdullahi\\nkhadija/gtb/sheddy</td>\n",
       "      <td>2000.00</td>\n",
       "      <td>0.00</td>\n",
       "      <td>2023-05-09</td>\n",
       "      <td>3654.83</td>\n",
       "      <td>My baby</td>\n",
       "      <td>-2000.00</td>\n",
       "      <td>Tuesday</td>\n",
       "      <td>May</td>\n",
       "    </tr>\n",
       "    <tr>\n",
       "      <th>189</th>\n",
       "      <td>2023-05-09</td>\n",
       "      <td>nip charge + vat</td>\n",
       "      <td>10.75</td>\n",
       "      <td>0.00</td>\n",
       "      <td>2023-05-09</td>\n",
       "      <td>3644.08</td>\n",
       "      <td>Bank charge</td>\n",
       "      <td>-10.75</td>\n",
       "      <td>Tuesday</td>\n",
       "      <td>May</td>\n",
       "    </tr>\n",
       "    <tr>\n",
       "      <th>190</th>\n",
       "      <td>2023-05-12</td>\n",
       "      <td>airtime//07043909222//mtn</td>\n",
       "      <td>300.00</td>\n",
       "      <td>0.00</td>\n",
       "      <td>2023-05-12</td>\n",
       "      <td>3344.08</td>\n",
       "      <td>Airtime</td>\n",
       "      <td>-300.00</td>\n",
       "      <td>Friday</td>\n",
       "      <td>May</td>\n",
       "    </tr>\n",
       "    <tr>\n",
       "      <th>192</th>\n",
       "      <td>2023-05-13</td>\n",
       "      <td>airtime//07043909222//mtn</td>\n",
       "      <td>200.00</td>\n",
       "      <td>0.00</td>\n",
       "      <td>2023-05-13</td>\n",
       "      <td>2844.08</td>\n",
       "      <td>Airtime</td>\n",
       "      <td>-200.00</td>\n",
       "      <td>Saturday</td>\n",
       "      <td>May</td>\n",
       "    </tr>\n",
       "    <tr>\n",
       "      <th>191</th>\n",
       "      <td>2023-05-13</td>\n",
       "      <td>airtime//07043909222//mtn</td>\n",
       "      <td>300.00</td>\n",
       "      <td>0.00</td>\n",
       "      <td>2023-05-13</td>\n",
       "      <td>3044.08</td>\n",
       "      <td>Airtime</td>\n",
       "      <td>-300.00</td>\n",
       "      <td>Saturday</td>\n",
       "      <td>May</td>\n",
       "    </tr>\n",
       "    <tr>\n",
       "      <th>195</th>\n",
       "      <td>2023-05-14</td>\n",
       "      <td>nip charge + vat</td>\n",
       "      <td>10.75</td>\n",
       "      <td>0.00</td>\n",
       "      <td>2023-05-14</td>\n",
       "      <td>633.33</td>\n",
       "      <td>Bank charge</td>\n",
       "      <td>-10.75</td>\n",
       "      <td>Sunday</td>\n",
       "      <td>May</td>\n",
       "    </tr>\n",
       "    <tr>\n",
       "      <th>196</th>\n",
       "      <td>2023-05-14</td>\n",
       "      <td>airtime//07043909222//mtn</td>\n",
       "      <td>500.00</td>\n",
       "      <td>0.00</td>\n",
       "      <td>2023-05-14</td>\n",
       "      <td>133.33</td>\n",
       "      <td>Airtime</td>\n",
       "      <td>-500.00</td>\n",
       "      <td>Sunday</td>\n",
       "      <td>May</td>\n",
       "    </tr>\n",
       "    <tr>\n",
       "      <th>193</th>\n",
       "      <td>2023-05-14</td>\n",
       "      <td>airtime//07043909222//mtn</td>\n",
       "      <td>200.00</td>\n",
       "      <td>0.00</td>\n",
       "      <td>2023-05-14</td>\n",
       "      <td>2644.08</td>\n",
       "      <td>Airtime</td>\n",
       "      <td>-200.00</td>\n",
       "      <td>Sunday</td>\n",
       "      <td>May</td>\n",
       "    </tr>\n",
       "    <tr>\n",
       "      <th>194</th>\n",
       "      <td>2023-05-14</td>\n",
       "      <td>nip cr/mob/yunusa sarah\\njenebu/gtb/sheddy</td>\n",
       "      <td>2000.00</td>\n",
       "      <td>0.00</td>\n",
       "      <td>2023-05-14</td>\n",
       "      <td>644.08</td>\n",
       "      <td>My baby</td>\n",
       "      <td>-2000.00</td>\n",
       "      <td>Sunday</td>\n",
       "      <td>May</td>\n",
       "    </tr>\n",
       "    <tr>\n",
       "      <th>197</th>\n",
       "      <td>2023-05-15</td>\n",
       "      <td>airtime//07043909222//mtn</td>\n",
       "      <td>100.00</td>\n",
       "      <td>0.00</td>\n",
       "      <td>2023-05-15</td>\n",
       "      <td>33.33</td>\n",
       "      <td>Airtime</td>\n",
       "      <td>-100.00</td>\n",
       "      <td>Monday</td>\n",
       "      <td>May</td>\n",
       "    </tr>\n",
       "    <tr>\n",
       "      <th>198</th>\n",
       "      <td>2023-05-15</td>\n",
       "      <td>rvsl:airtime//07043909222//mtn ref -1092476512</td>\n",
       "      <td>0.00</td>\n",
       "      <td>200.00</td>\n",
       "      <td>2023-05-15</td>\n",
       "      <td>233.33</td>\n",
       "      <td>Airtime</td>\n",
       "      <td>200.00</td>\n",
       "      <td>Monday</td>\n",
       "      <td>May</td>\n",
       "    </tr>\n",
       "    <tr>\n",
       "      <th>199</th>\n",
       "      <td>2023-05-25</td>\n",
       "      <td>nip/opay/abdulsamad ayobami\\nibrahim/transfer ...</td>\n",
       "      <td>0.00</td>\n",
       "      <td>15000.00</td>\n",
       "      <td>2023-05-25</td>\n",
       "      <td>15233.33</td>\n",
       "      <td>Selfcare</td>\n",
       "      <td>15000.00</td>\n",
       "      <td>Thursday</td>\n",
       "      <td>May</td>\n",
       "    </tr>\n",
       "    <tr>\n",
       "      <th>200</th>\n",
       "      <td>2023-05-27</td>\n",
       "      <td>sms notification charge may 2023</td>\n",
       "      <td>116.00</td>\n",
       "      <td>0.00</td>\n",
       "      <td>2023-05-27</td>\n",
       "      <td>15117.33</td>\n",
       "      <td>Bank charge</td>\n",
       "      <td>-116.00</td>\n",
       "      <td>Saturday</td>\n",
       "      <td>May</td>\n",
       "    </tr>\n",
       "    <tr>\n",
       "      <th>201</th>\n",
       "      <td>2023-05-28</td>\n",
       "      <td>electronic money transfer levy</td>\n",
       "      <td>50.00</td>\n",
       "      <td>0.00</td>\n",
       "      <td>2023-05-28</td>\n",
       "      <td>15067.33</td>\n",
       "      <td>Bank charge</td>\n",
       "      <td>-50.00</td>\n",
       "      <td>Sunday</td>\n",
       "      <td>May</td>\n",
       "    </tr>\n",
       "    <tr>\n",
       "      <th>202</th>\n",
       "      <td>2023-05-28</td>\n",
       "      <td>charge on 08039646573//</td>\n",
       "      <td>100.00</td>\n",
       "      <td>0.00</td>\n",
       "      <td>2023-05-28</td>\n",
       "      <td>14967.33</td>\n",
       "      <td>Airtime</td>\n",
       "      <td>-100.00</td>\n",
       "      <td>Sunday</td>\n",
       "      <td>May</td>\n",
       "    </tr>\n",
       "    <tr>\n",
       "      <th>203</th>\n",
       "      <td>2023-05-28</td>\n",
       "      <td>sporty bet///08039646573//sporty bet</td>\n",
       "      <td>1000.00</td>\n",
       "      <td>0.00</td>\n",
       "      <td>2023-05-28</td>\n",
       "      <td>13967.33</td>\n",
       "      <td>Airtime</td>\n",
       "      <td>-1000.00</td>\n",
       "      <td>Sunday</td>\n",
       "      <td>May</td>\n",
       "    </tr>\n",
       "    <tr>\n",
       "      <th>204</th>\n",
       "      <td>2023-06-02</td>\n",
       "      <td>nip/capri/cdl/copper</td>\n",
       "      <td>0.00</td>\n",
       "      <td>40000.00</td>\n",
       "      <td>2023-06-02</td>\n",
       "      <td>53967.33</td>\n",
       "      <td>Day Job</td>\n",
       "      <td>40000.00</td>\n",
       "      <td>Friday</td>\n",
       "      <td>June</td>\n",
       "    </tr>\n",
       "    <tr>\n",
       "      <th>205</th>\n",
       "      <td>2023-06-04</td>\n",
       "      <td>electronic money transfer levy</td>\n",
       "      <td>50.00</td>\n",
       "      <td>0.00</td>\n",
       "      <td>2023-06-04</td>\n",
       "      <td>53917.33</td>\n",
       "      <td>Bank charge</td>\n",
       "      <td>-50.00</td>\n",
       "      <td>Sunday</td>\n",
       "      <td>June</td>\n",
       "    </tr>\n",
       "    <tr>\n",
       "      <th>206</th>\n",
       "      <td>2023-06-06</td>\n",
       "      <td>nip/rolez/baxi---/bax_trsf_1686062151_ed4k- mo...</td>\n",
       "      <td>0.00</td>\n",
       "      <td>40000.00</td>\n",
       "      <td>2023-06-06</td>\n",
       "      <td>93917.33</td>\n",
       "      <td>Day Job</td>\n",
       "      <td>40000.00</td>\n",
       "      <td>Tuesday</td>\n",
       "      <td>June</td>\n",
       "    </tr>\n",
       "    <tr>\n",
       "      <th>207</th>\n",
       "      <td>2023-06-08</td>\n",
       "      <td>airtime//07043909222//mtn</td>\n",
       "      <td>2000.00</td>\n",
       "      <td>0.00</td>\n",
       "      <td>2023-06-08</td>\n",
       "      <td>91917.33</td>\n",
       "      <td>Airtime</td>\n",
       "      <td>-2000.00</td>\n",
       "      <td>Thursday</td>\n",
       "      <td>June</td>\n",
       "    </tr>\n",
       "    <tr>\n",
       "      <th>208</th>\n",
       "      <td>2023-06-11</td>\n",
       "      <td>electronic money transfer levy</td>\n",
       "      <td>50.00</td>\n",
       "      <td>0.00</td>\n",
       "      <td>2023-06-11</td>\n",
       "      <td>91867.33</td>\n",
       "      <td>Bank charge</td>\n",
       "      <td>-50.00</td>\n",
       "      <td>Sunday</td>\n",
       "      <td>June</td>\n",
       "    </tr>\n",
       "    <tr>\n",
       "      <th>209</th>\n",
       "      <td>2023-06-12</td>\n",
       "      <td>nip cr/mob/yunusa sarah\\njenebu/gtb/sheddy</td>\n",
       "      <td>10000.00</td>\n",
       "      <td>0.00</td>\n",
       "      <td>2023-06-12</td>\n",
       "      <td>81867.33</td>\n",
       "      <td>My baby</td>\n",
       "      <td>-10000.00</td>\n",
       "      <td>Monday</td>\n",
       "      <td>June</td>\n",
       "    </tr>\n",
       "    <tr>\n",
       "      <th>210</th>\n",
       "      <td>2023-06-12</td>\n",
       "      <td>nip charge + vat</td>\n",
       "      <td>26.88</td>\n",
       "      <td>0.00</td>\n",
       "      <td>2023-06-12</td>\n",
       "      <td>81840.45</td>\n",
       "      <td>Bank charge</td>\n",
       "      <td>-26.88</td>\n",
       "      <td>Monday</td>\n",
       "      <td>June</td>\n",
       "    </tr>\n",
       "    <tr>\n",
       "      <th>211</th>\n",
       "      <td>2023-06-16</td>\n",
       "      <td>airtime//07043909222//mtn</td>\n",
       "      <td>300.00</td>\n",
       "      <td>0.00</td>\n",
       "      <td>2023-06-16</td>\n",
       "      <td>81540.45</td>\n",
       "      <td>Airtime</td>\n",
       "      <td>-300.00</td>\n",
       "      <td>Friday</td>\n",
       "      <td>June</td>\n",
       "    </tr>\n",
       "    <tr>\n",
       "      <th>212</th>\n",
       "      <td>2023-06-17</td>\n",
       "      <td>airtime//07043909222//mtn</td>\n",
       "      <td>300.00</td>\n",
       "      <td>0.00</td>\n",
       "      <td>2023-06-17</td>\n",
       "      <td>81240.45</td>\n",
       "      <td>Airtime</td>\n",
       "      <td>-300.00</td>\n",
       "      <td>Saturday</td>\n",
       "      <td>June</td>\n",
       "    </tr>\n",
       "    <tr>\n",
       "      <th>213</th>\n",
       "      <td>2023-06-17</td>\n",
       "      <td>nip cr/mob/shedrach\\nnwali/gomon/shedrach nwali</td>\n",
       "      <td>5000.00</td>\n",
       "      <td>0.00</td>\n",
       "      <td>2023-06-17</td>\n",
       "      <td>76240.45</td>\n",
       "      <td>Digital Wallets</td>\n",
       "      <td>-5000.00</td>\n",
       "      <td>Saturday</td>\n",
       "      <td>June</td>\n",
       "    </tr>\n",
       "    <tr>\n",
       "      <th>214</th>\n",
       "      <td>2023-06-17</td>\n",
       "      <td>nip charge + vat</td>\n",
       "      <td>10.75</td>\n",
       "      <td>0.00</td>\n",
       "      <td>2023-06-17</td>\n",
       "      <td>76229.70</td>\n",
       "      <td>Bank charge</td>\n",
       "      <td>-10.75</td>\n",
       "      <td>Saturday</td>\n",
       "      <td>June</td>\n",
       "    </tr>\n",
       "    <tr>\n",
       "      <th>219</th>\n",
       "      <td>2023-06-18</td>\n",
       "      <td>nip cr/mob/chukwubueze paschal\\nugwumba/abn/sh...</td>\n",
       "      <td>12000.00</td>\n",
       "      <td>0.00</td>\n",
       "      <td>2023-06-18</td>\n",
       "      <td>51292.07</td>\n",
       "      <td>Selfcare</td>\n",
       "      <td>-12000.00</td>\n",
       "      <td>Sunday</td>\n",
       "      <td>June</td>\n",
       "    </tr>\n",
       "    <tr>\n",
       "      <th>218</th>\n",
       "      <td>2023-06-18</td>\n",
       "      <td>nip charge + vat</td>\n",
       "      <td>26.88</td>\n",
       "      <td>0.00</td>\n",
       "      <td>2023-06-18</td>\n",
       "      <td>63292.07</td>\n",
       "      <td>Bank charge</td>\n",
       "      <td>-26.88</td>\n",
       "      <td>Sunday</td>\n",
       "      <td>June</td>\n",
       "    </tr>\n",
       "    <tr>\n",
       "      <th>220</th>\n",
       "      <td>2023-06-18</td>\n",
       "      <td>nip charge + vat</td>\n",
       "      <td>26.88</td>\n",
       "      <td>0.00</td>\n",
       "      <td>2023-06-18</td>\n",
       "      <td>51265.19</td>\n",
       "      <td>Bank charge</td>\n",
       "      <td>-26.88</td>\n",
       "      <td>Sunday</td>\n",
       "      <td>June</td>\n",
       "    </tr>\n",
       "    <tr>\n",
       "      <th>216</th>\n",
       "      <td>2023-06-18</td>\n",
       "      <td>nip charge + vat</td>\n",
       "      <td>10.75</td>\n",
       "      <td>0.00</td>\n",
       "      <td>2023-06-18</td>\n",
       "      <td>71218.95</td>\n",
       "      <td>Bank charge</td>\n",
       "      <td>-10.75</td>\n",
       "      <td>Sunday</td>\n",
       "      <td>June</td>\n",
       "    </tr>\n",
       "    <tr>\n",
       "      <th>215</th>\n",
       "      <td>2023-06-18</td>\n",
       "      <td>nip cr/mob/edeh margret/gtb/sheddy</td>\n",
       "      <td>5000.00</td>\n",
       "      <td>0.00</td>\n",
       "      <td>2023-06-18</td>\n",
       "      <td>71229.70</td>\n",
       "      <td>miscellaneous</td>\n",
       "      <td>-5000.00</td>\n",
       "      <td>Sunday</td>\n",
       "      <td>June</td>\n",
       "    </tr>\n",
       "    <tr>\n",
       "      <th>217</th>\n",
       "      <td>2023-06-18</td>\n",
       "      <td>nip cr/mob/siddari haruna\\nbello/opay/sheddy</td>\n",
       "      <td>7900.00</td>\n",
       "      <td>0.00</td>\n",
       "      <td>2023-06-18</td>\n",
       "      <td>63318.95</td>\n",
       "      <td>miscellaneous</td>\n",
       "      <td>-7900.00</td>\n",
       "      <td>Sunday</td>\n",
       "      <td>June</td>\n",
       "    </tr>\n",
       "    <tr>\n",
       "      <th>221</th>\n",
       "      <td>2023-06-19</td>\n",
       "      <td>nip cr/mob/shedrach\\nnwali/gomon/shedrach nwali</td>\n",
       "      <td>1150.00</td>\n",
       "      <td>0.00</td>\n",
       "      <td>2023-06-19</td>\n",
       "      <td>50115.19</td>\n",
       "      <td>Digital Wallets</td>\n",
       "      <td>-1150.00</td>\n",
       "      <td>Monday</td>\n",
       "      <td>June</td>\n",
       "    </tr>\n",
       "    <tr>\n",
       "      <th>222</th>\n",
       "      <td>2023-06-19</td>\n",
       "      <td>nip charge + vat</td>\n",
       "      <td>10.75</td>\n",
       "      <td>0.00</td>\n",
       "      <td>2023-06-19</td>\n",
       "      <td>50104.44</td>\n",
       "      <td>Bank charge</td>\n",
       "      <td>-10.75</td>\n",
       "      <td>Monday</td>\n",
       "      <td>June</td>\n",
       "    </tr>\n",
       "    <tr>\n",
       "      <th>227</th>\n",
       "      <td>2023-06-23</td>\n",
       "      <td>airtime//07043909222//mtn</td>\n",
       "      <td>200.00</td>\n",
       "      <td>0.00</td>\n",
       "      <td>2023-06-23</td>\n",
       "      <td>41366.81</td>\n",
       "      <td>Airtime</td>\n",
       "      <td>-200.00</td>\n",
       "      <td>Friday</td>\n",
       "      <td>June</td>\n",
       "    </tr>\n",
       "    <tr>\n",
       "      <th>223</th>\n",
       "      <td>2023-06-23</td>\n",
       "      <td>nip cr/mob/nwawelu o\\nchikwendu/skye/shedrach</td>\n",
       "      <td>8000.00</td>\n",
       "      <td>0.00</td>\n",
       "      <td>2023-06-23</td>\n",
       "      <td>42104.44</td>\n",
       "      <td>Selfcare</td>\n",
       "      <td>-8000.00</td>\n",
       "      <td>Friday</td>\n",
       "      <td>June</td>\n",
       "    </tr>\n",
       "    <tr>\n",
       "      <th>224</th>\n",
       "      <td>2023-06-23</td>\n",
       "      <td>nip charge + vat</td>\n",
       "      <td>26.88</td>\n",
       "      <td>0.00</td>\n",
       "      <td>2023-06-23</td>\n",
       "      <td>42077.56</td>\n",
       "      <td>Bank charge</td>\n",
       "      <td>-26.88</td>\n",
       "      <td>Friday</td>\n",
       "      <td>June</td>\n",
       "    </tr>\n",
       "    <tr>\n",
       "      <th>225</th>\n",
       "      <td>2023-06-23</td>\n",
       "      <td>nip cr/mob/george imeiba\\nachu/opay/shedrach</td>\n",
       "      <td>500.00</td>\n",
       "      <td>0.00</td>\n",
       "      <td>2023-06-23</td>\n",
       "      <td>41577.56</td>\n",
       "      <td>Fines &amp; Dues</td>\n",
       "      <td>-500.00</td>\n",
       "      <td>Friday</td>\n",
       "      <td>June</td>\n",
       "    </tr>\n",
       "    <tr>\n",
       "      <th>226</th>\n",
       "      <td>2023-06-23</td>\n",
       "      <td>nip charge + vat</td>\n",
       "      <td>10.75</td>\n",
       "      <td>0.00</td>\n",
       "      <td>2023-06-23</td>\n",
       "      <td>41566.81</td>\n",
       "      <td>Bank charge</td>\n",
       "      <td>-10.75</td>\n",
       "      <td>Friday</td>\n",
       "      <td>June</td>\n",
       "    </tr>\n",
       "    <tr>\n",
       "      <th>229</th>\n",
       "      <td>2023-06-24</td>\n",
       "      <td>nip charge + vat</td>\n",
       "      <td>26.88</td>\n",
       "      <td>0.00</td>\n",
       "      <td>2023-06-24</td>\n",
       "      <td>31339.93</td>\n",
       "      <td>Bank charge</td>\n",
       "      <td>-26.88</td>\n",
       "      <td>Saturday</td>\n",
       "      <td>June</td>\n",
       "    </tr>\n",
       "    <tr>\n",
       "      <th>228</th>\n",
       "      <td>2023-06-24</td>\n",
       "      <td>nip cr/mob/caleb amowomani\\nogar/uba/sheddy</td>\n",
       "      <td>10000.00</td>\n",
       "      <td>0.00</td>\n",
       "      <td>2023-06-24</td>\n",
       "      <td>31366.81</td>\n",
       "      <td>caleb</td>\n",
       "      <td>-10000.00</td>\n",
       "      <td>Saturday</td>\n",
       "      <td>June</td>\n",
       "    </tr>\n",
       "    <tr>\n",
       "      <th>230</th>\n",
       "      <td>2023-06-25</td>\n",
       "      <td>airtime//07043909222//mtn</td>\n",
       "      <td>300.00</td>\n",
       "      <td>0.00</td>\n",
       "      <td>2023-06-25</td>\n",
       "      <td>31039.93</td>\n",
       "      <td>Airtime</td>\n",
       "      <td>-300.00</td>\n",
       "      <td>Sunday</td>\n",
       "      <td>June</td>\n",
       "    </tr>\n",
       "    <tr>\n",
       "      <th>231</th>\n",
       "      <td>2023-06-25</td>\n",
       "      <td>nip cr/mob/blessing nwali/fbn/sheddy</td>\n",
       "      <td>5000.00</td>\n",
       "      <td>0.00</td>\n",
       "      <td>2023-06-25</td>\n",
       "      <td>26039.93</td>\n",
       "      <td>Mom</td>\n",
       "      <td>-5000.00</td>\n",
       "      <td>Sunday</td>\n",
       "      <td>June</td>\n",
       "    </tr>\n",
       "    <tr>\n",
       "      <th>232</th>\n",
       "      <td>2023-06-25</td>\n",
       "      <td>nip charge + vat</td>\n",
       "      <td>10.75</td>\n",
       "      <td>0.00</td>\n",
       "      <td>2023-06-25</td>\n",
       "      <td>26029.18</td>\n",
       "      <td>Bank charge</td>\n",
       "      <td>-10.75</td>\n",
       "      <td>Sunday</td>\n",
       "      <td>June</td>\n",
       "    </tr>\n",
       "    <tr>\n",
       "      <th>233</th>\n",
       "      <td>2023-06-26</td>\n",
       "      <td>airtime//07043909222//mtn</td>\n",
       "      <td>300.00</td>\n",
       "      <td>0.00</td>\n",
       "      <td>2023-06-26</td>\n",
       "      <td>25729.18</td>\n",
       "      <td>Airtime</td>\n",
       "      <td>-300.00</td>\n",
       "      <td>Monday</td>\n",
       "      <td>June</td>\n",
       "    </tr>\n",
       "    <tr>\n",
       "      <th>234</th>\n",
       "      <td>2023-06-26</td>\n",
       "      <td>nip cr/mob/caleb amowomani\\nogar/uba/sheddy</td>\n",
       "      <td>1500.00</td>\n",
       "      <td>0.00</td>\n",
       "      <td>2023-06-26</td>\n",
       "      <td>24229.18</td>\n",
       "      <td>caleb</td>\n",
       "      <td>-1500.00</td>\n",
       "      <td>Monday</td>\n",
       "      <td>June</td>\n",
       "    </tr>\n",
       "    <tr>\n",
       "      <th>235</th>\n",
       "      <td>2023-06-26</td>\n",
       "      <td>nip charge + vat</td>\n",
       "      <td>10.75</td>\n",
       "      <td>0.00</td>\n",
       "      <td>2023-06-26</td>\n",
       "      <td>24218.43</td>\n",
       "      <td>Bank charge</td>\n",
       "      <td>-10.75</td>\n",
       "      <td>Monday</td>\n",
       "      <td>June</td>\n",
       "    </tr>\n",
       "    <tr>\n",
       "      <th>236</th>\n",
       "      <td>2023-06-28</td>\n",
       "      <td>nip cr/mob/shedrach\\nnwali/gomon/shedrach nwali</td>\n",
       "      <td>10000.00</td>\n",
       "      <td>0.00</td>\n",
       "      <td>2023-06-28</td>\n",
       "      <td>14218.43</td>\n",
       "      <td>Digital Wallets</td>\n",
       "      <td>-10000.00</td>\n",
       "      <td>Wednesday</td>\n",
       "      <td>June</td>\n",
       "    </tr>\n",
       "    <tr>\n",
       "      <th>237</th>\n",
       "      <td>2023-06-28</td>\n",
       "      <td>nip charge + vat</td>\n",
       "      <td>26.88</td>\n",
       "      <td>0.00</td>\n",
       "      <td>2023-06-28</td>\n",
       "      <td>14191.55</td>\n",
       "      <td>Bank charge</td>\n",
       "      <td>-26.88</td>\n",
       "      <td>Wednesday</td>\n",
       "      <td>June</td>\n",
       "    </tr>\n",
       "    <tr>\n",
       "      <th>238</th>\n",
       "      <td>2023-06-28</td>\n",
       "      <td>2023 qtr 2 visa card maintenance fee</td>\n",
       "      <td>53.75</td>\n",
       "      <td>0.00</td>\n",
       "      <td>2023-06-28</td>\n",
       "      <td>14137.80</td>\n",
       "      <td>Bank charge</td>\n",
       "      <td>-53.75</td>\n",
       "      <td>Wednesday</td>\n",
       "      <td>June</td>\n",
       "    </tr>\n",
       "    <tr>\n",
       "      <th>239</th>\n",
       "      <td>2023-06-29</td>\n",
       "      <td>sms notification charge jun 2023</td>\n",
       "      <td>152.00</td>\n",
       "      <td>0.00</td>\n",
       "      <td>2023-06-29</td>\n",
       "      <td>13985.80</td>\n",
       "      <td>Bank charge</td>\n",
       "      <td>-152.00</td>\n",
       "      <td>Thursday</td>\n",
       "      <td>June</td>\n",
       "    </tr>\n",
       "    <tr>\n",
       "      <th>240</th>\n",
       "      <td>2023-07-04</td>\n",
       "      <td>nip cr/mob/sarah jenebu\\nyunusa/opay/sheddy</td>\n",
       "      <td>3000.00</td>\n",
       "      <td>0.00</td>\n",
       "      <td>2023-07-04</td>\n",
       "      <td>10985.80</td>\n",
       "      <td>My baby</td>\n",
       "      <td>-3000.00</td>\n",
       "      <td>Tuesday</td>\n",
       "      <td>July</td>\n",
       "    </tr>\n",
       "    <tr>\n",
       "      <th>241</th>\n",
       "      <td>2023-07-04</td>\n",
       "      <td>nip charge + vat</td>\n",
       "      <td>10.75</td>\n",
       "      <td>0.00</td>\n",
       "      <td>2023-07-04</td>\n",
       "      <td>10975.05</td>\n",
       "      <td>Bank charge</td>\n",
       "      <td>-10.75</td>\n",
       "      <td>Tuesday</td>\n",
       "      <td>July</td>\n",
       "    </tr>\n",
       "    <tr>\n",
       "      <th>242</th>\n",
       "      <td>2023-07-10</td>\n",
       "      <td>nip charge + vat</td>\n",
       "      <td>10.75</td>\n",
       "      <td>0.00</td>\n",
       "      <td>2023-07-10</td>\n",
       "      <td>10964.30</td>\n",
       "      <td>Bank charge</td>\n",
       "      <td>-10.75</td>\n",
       "      <td>Monday</td>\n",
       "      <td>July</td>\n",
       "    </tr>\n",
       "    <tr>\n",
       "      <th>243</th>\n",
       "      <td>2023-07-10</td>\n",
       "      <td>nip cr/mob/onyedika elias\\nnwankwor/uba/sheddy</td>\n",
       "      <td>5000.00</td>\n",
       "      <td>0.00</td>\n",
       "      <td>2023-07-10</td>\n",
       "      <td>5964.30</td>\n",
       "      <td>Day Job</td>\n",
       "      <td>-5000.00</td>\n",
       "      <td>Monday</td>\n",
       "      <td>July</td>\n",
       "    </tr>\n",
       "    <tr>\n",
       "      <th>244</th>\n",
       "      <td>2023-07-10</td>\n",
       "      <td>nip/capri/cdl/copper</td>\n",
       "      <td>0.00</td>\n",
       "      <td>20000.00</td>\n",
       "      <td>2023-07-10</td>\n",
       "      <td>25964.30</td>\n",
       "      <td>Day Job</td>\n",
       "      <td>20000.00</td>\n",
       "      <td>Monday</td>\n",
       "      <td>July</td>\n",
       "    </tr>\n",
       "    <tr>\n",
       "      <th>245</th>\n",
       "      <td>2023-07-13</td>\n",
       "      <td>trf frm usaini nasiru to shedrach\\nikenna nwali</td>\n",
       "      <td>0.00</td>\n",
       "      <td>36620.00</td>\n",
       "      <td>2023-07-13</td>\n",
       "      <td>62584.30</td>\n",
       "      <td>Day Job</td>\n",
       "      <td>36620.00</td>\n",
       "      <td>Thursday</td>\n",
       "      <td>July</td>\n",
       "    </tr>\n",
       "    <tr>\n",
       "      <th>246</th>\n",
       "      <td>2023-07-15</td>\n",
       "      <td>airtime//07043909222//mtn</td>\n",
       "      <td>300.00</td>\n",
       "      <td>0.00</td>\n",
       "      <td>2023-07-15</td>\n",
       "      <td>62284.30</td>\n",
       "      <td>Airtime</td>\n",
       "      <td>-300.00</td>\n",
       "      <td>Saturday</td>\n",
       "      <td>July</td>\n",
       "    </tr>\n",
       "    <tr>\n",
       "      <th>247</th>\n",
       "      <td>2023-07-16</td>\n",
       "      <td>airtime//07043909222//mtn</td>\n",
       "      <td>200.00</td>\n",
       "      <td>0.00</td>\n",
       "      <td>2023-07-16</td>\n",
       "      <td>62084.30</td>\n",
       "      <td>Airtime</td>\n",
       "      <td>-200.00</td>\n",
       "      <td>Sunday</td>\n",
       "      <td>July</td>\n",
       "    </tr>\n",
       "    <tr>\n",
       "      <th>248</th>\n",
       "      <td>2023-07-16</td>\n",
       "      <td>electronic money transfer levy</td>\n",
       "      <td>100.00</td>\n",
       "      <td>0.00</td>\n",
       "      <td>2023-07-16</td>\n",
       "      <td>61984.30</td>\n",
       "      <td>Bank charge</td>\n",
       "      <td>-100.00</td>\n",
       "      <td>Sunday</td>\n",
       "      <td>July</td>\n",
       "    </tr>\n",
       "    <tr>\n",
       "      <th>249</th>\n",
       "      <td>2023-07-16</td>\n",
       "      <td>nip cr/mob/shedrach\\nnwali/gomon/shedrach nwali</td>\n",
       "      <td>10000.00</td>\n",
       "      <td>0.00</td>\n",
       "      <td>2023-07-16</td>\n",
       "      <td>51984.30</td>\n",
       "      <td>Digital Wallets</td>\n",
       "      <td>-10000.00</td>\n",
       "      <td>Sunday</td>\n",
       "      <td>July</td>\n",
       "    </tr>\n",
       "    <tr>\n",
       "      <th>250</th>\n",
       "      <td>2023-07-16</td>\n",
       "      <td>nip charge + vat</td>\n",
       "      <td>26.88</td>\n",
       "      <td>0.00</td>\n",
       "      <td>2023-07-16</td>\n",
       "      <td>51957.42</td>\n",
       "      <td>Bank charge</td>\n",
       "      <td>-26.88</td>\n",
       "      <td>Sunday</td>\n",
       "      <td>July</td>\n",
       "    </tr>\n",
       "    <tr>\n",
       "      <th>251</th>\n",
       "      <td>2023-07-17</td>\n",
       "      <td>nip cr/mob/ibrahim yakubu\\nhafizu/opay/shedrac...</td>\n",
       "      <td>35315.00</td>\n",
       "      <td>0.00</td>\n",
       "      <td>2023-07-17</td>\n",
       "      <td>16642.42</td>\n",
       "      <td>Selfcare</td>\n",
       "      <td>-35315.00</td>\n",
       "      <td>Monday</td>\n",
       "      <td>July</td>\n",
       "    </tr>\n",
       "    <tr>\n",
       "      <th>252</th>\n",
       "      <td>2023-07-17</td>\n",
       "      <td>nip charge + vat</td>\n",
       "      <td>26.88</td>\n",
       "      <td>0.00</td>\n",
       "      <td>2023-07-17</td>\n",
       "      <td>16615.54</td>\n",
       "      <td>Bank charge</td>\n",
       "      <td>-26.88</td>\n",
       "      <td>Monday</td>\n",
       "      <td>July</td>\n",
       "    </tr>\n",
       "    <tr>\n",
       "      <th>253</th>\n",
       "      <td>2023-07-18</td>\n",
       "      <td>nip cr/mob/nwali, ikenna\\nshedrach/kuda/shedra...</td>\n",
       "      <td>5000.00</td>\n",
       "      <td>0.00</td>\n",
       "      <td>2023-07-18</td>\n",
       "      <td>11615.54</td>\n",
       "      <td>Digital Wallets</td>\n",
       "      <td>-5000.00</td>\n",
       "      <td>Tuesday</td>\n",
       "      <td>July</td>\n",
       "    </tr>\n",
       "    <tr>\n",
       "      <th>254</th>\n",
       "      <td>2023-07-18</td>\n",
       "      <td>nip charge + vat</td>\n",
       "      <td>10.75</td>\n",
       "      <td>0.00</td>\n",
       "      <td>2023-07-18</td>\n",
       "      <td>11604.79</td>\n",
       "      <td>Bank charge</td>\n",
       "      <td>-10.75</td>\n",
       "      <td>Tuesday</td>\n",
       "      <td>July</td>\n",
       "    </tr>\n",
       "    <tr>\n",
       "      <th>255</th>\n",
       "      <td>2023-07-18</td>\n",
       "      <td>nip cr/mob/shedrach\\nnwali/gomon/shedrach nwali</td>\n",
       "      <td>4000.00</td>\n",
       "      <td>0.00</td>\n",
       "      <td>2023-07-18</td>\n",
       "      <td>7604.79</td>\n",
       "      <td>Digital Wallets</td>\n",
       "      <td>-4000.00</td>\n",
       "      <td>Tuesday</td>\n",
       "      <td>July</td>\n",
       "    </tr>\n",
       "    <tr>\n",
       "      <th>256</th>\n",
       "      <td>2023-07-18</td>\n",
       "      <td>nip charge + vat</td>\n",
       "      <td>10.75</td>\n",
       "      <td>0.00</td>\n",
       "      <td>2023-07-18</td>\n",
       "      <td>7594.04</td>\n",
       "      <td>Bank charge</td>\n",
       "      <td>-10.75</td>\n",
       "      <td>Tuesday</td>\n",
       "      <td>July</td>\n",
       "    </tr>\n",
       "    <tr>\n",
       "      <th>257</th>\n",
       "      <td>2023-07-26</td>\n",
       "      <td>airtime//09165366686//mtn</td>\n",
       "      <td>1000.00</td>\n",
       "      <td>0.00</td>\n",
       "      <td>2023-07-26</td>\n",
       "      <td>6594.04</td>\n",
       "      <td>Airtime</td>\n",
       "      <td>-1000.00</td>\n",
       "      <td>Wednesday</td>\n",
       "      <td>July</td>\n",
       "    </tr>\n",
       "    <tr>\n",
       "      <th>258</th>\n",
       "      <td>2023-07-26</td>\n",
       "      <td>nip/rolez/shago-//tunde/at5_mfds21202307260836...</td>\n",
       "      <td>0.00</td>\n",
       "      <td>10000.00</td>\n",
       "      <td>2023-07-26</td>\n",
       "      <td>16594.04</td>\n",
       "      <td>Cash deposit</td>\n",
       "      <td>10000.00</td>\n",
       "      <td>Wednesday</td>\n",
       "      <td>July</td>\n",
       "    </tr>\n",
       "    <tr>\n",
       "      <th>259</th>\n",
       "      <td>2023-07-27</td>\n",
       "      <td>airtime//07043909222//mtn</td>\n",
       "      <td>200.00</td>\n",
       "      <td>0.00</td>\n",
       "      <td>2023-07-27</td>\n",
       "      <td>16394.04</td>\n",
       "      <td>Airtime</td>\n",
       "      <td>-200.00</td>\n",
       "      <td>Thursday</td>\n",
       "      <td>July</td>\n",
       "    </tr>\n",
       "    <tr>\n",
       "      <th>260</th>\n",
       "      <td>2023-07-29</td>\n",
       "      <td>sms notification charge jul 2023</td>\n",
       "      <td>64.00</td>\n",
       "      <td>0.00</td>\n",
       "      <td>2023-07-29</td>\n",
       "      <td>16330.04</td>\n",
       "      <td>Bank charge</td>\n",
       "      <td>-64.00</td>\n",
       "      <td>Saturday</td>\n",
       "      <td>July</td>\n",
       "    </tr>\n",
       "    <tr>\n",
       "      <th>261</th>\n",
       "      <td>2023-07-30</td>\n",
       "      <td>electronic money transfer levy</td>\n",
       "      <td>50.00</td>\n",
       "      <td>0.00</td>\n",
       "      <td>2023-07-30</td>\n",
       "      <td>16280.04</td>\n",
       "      <td>Bank charge</td>\n",
       "      <td>-50.00</td>\n",
       "      <td>Sunday</td>\n",
       "      <td>July</td>\n",
       "    </tr>\n",
       "  </tbody>\n",
       "</table>\n",
       "</div>"
      ],
      "text/plain": [
       "          date                                        description     debit  \\\n",
       "0   2023-01-02                                   nip charge + vat     10.75   \n",
       "1   2023-01-02    nip cr/mob/shedrach\\nnwali/gomon/shedrach nwali   3000.00   \n",
       "2   2023-01-02                          airtime//08039646573//mtn    200.00   \n",
       "3   2023-01-02                                   nip charge + vat     26.88   \n",
       "4   2023-01-02  nip cr/mob/mohammad abdullahi\\nsalisu/gtb/shed...  10000.00   \n",
       "5   2023-01-02                          airtime//08039646573//mtn    200.00   \n",
       "6   2023-01-02                          airtime//08039646573//mtn    200.00   \n",
       "7   2023-01-03                          airtime//08039646573//mtn    200.00   \n",
       "8   2023-01-04                          airtime//08039646573//mtn    200.00   \n",
       "9   2023-01-04                                   nip charge + vat     10.75   \n",
       "10  2023-01-04    nip cr/mob/shedrach\\nnwali/gomon/shedrach nwali   5000.00   \n",
       "11  2023-01-05                                   nip charge + vat     10.75   \n",
       "12  2023-01-05          nip cr/mob/shehu isah/abn/shedrach\\nnwali   1000.00   \n",
       "14  2023-01-07    nip cr/mob/shedrach\\nnwali/gomon/shedrach nwali   1000.00   \n",
       "13  2023-01-07                                   nip charge + vat     10.75   \n",
       "15  2023-01-12                                   nip charge + vat     10.75   \n",
       "16  2023-01-12          nip cr/mob/shehu isah/abn/shedrach\\nnwali   2000.00   \n",
       "17  2023-01-13                       airtime//08088648897//airtel    500.00   \n",
       "18  2023-01-16                                   nip charge + vat     10.75   \n",
       "19  2023-01-16       nip cr/mob/yunusa sarah\\njenebu/gtb/shedrach   2000.00   \n",
       "20  2023-01-17                                   nip charge + vat     10.75   \n",
       "21  2023-01-17         nip cr/mob/yunusa sarah\\njenebu/gtb/sheddy   1000.00   \n",
       "22  2023-01-18                                   nip charge + vat     10.75   \n",
       "23  2023-01-18              nip cr/mob/daniel tolani/carbo/sheddy   3000.00   \n",
       "24  2023-01-18                          airtime//08039646573//mtn   2000.00   \n",
       "25  2023-01-19  nip/gomon/enike braimoh/transfer from\\nenike b...      0.00   \n",
       "26  2023-01-19                                   nip charge + vat     26.88   \n",
       "27  2023-01-19         nip cr/mob/yunusa sarah\\njenebu/gtb/sheddy   6000.00   \n",
       "28  2023-01-20                          airtime//08039646573//mtn    200.00   \n",
       "31  2023-01-22         nip cr/mob/paystack\\ncheckout/wbp/shedrach    300.00   \n",
       "30  2023-01-22                                   nip charge + vat     10.75   \n",
       "29  2023-01-22                          airtime//09165366686//mtn    500.00   \n",
       "32  2023-01-23                          airtime//08039346573//mtn    200.00   \n",
       "33  2023-01-23                          airtime//08039646573//mtn    200.00   \n",
       "34  2023-01-23                                   nip charge + vat     10.75   \n",
       "35  2023-01-23         nip cr/mob/paystack\\ncheckout/wbp/shedrach    200.00   \n",
       "36  2023-01-26                      airtime//08039646573//9mobile    100.00   \n",
       "37  2023-01-26                          airtime//08039646573//mtn    100.00   \n",
       "38  2023-01-26                **rev airtime//08039646573//9mobile      0.00   \n",
       "39  2023-01-26                          airtime//08039646573//mtn   2000.00   \n",
       "40  2023-01-26                          airtime//08039646573//mtn    100.00   \n",
       "41  2023-01-26  nip/fbn/blessing\\nnwali/fbnmobile:shedrach ike...      0.00   \n",
       "42  2023-01-26  nip/uba/helen chicka\\nobasi/mob/shedrach\\niken...      0.00   \n",
       "45  2023-01-27         nip cr/mob/paystack\\ncheckout/wbp/shedrach    200.00   \n",
       "46  2023-01-27                          airtime//08039646573//mtn    200.00   \n",
       "43  2023-01-27  nip/fbn/nwali\\nedwin/fbnmobile:shedrach ikenna...      0.00   \n",
       "44  2023-01-27                                   nip charge + vat     10.75   \n",
       "47  2023-01-28                            charge on 08039646573//    100.00   \n",
       "48  2023-01-28               sporty bet///08039646573//sporty bet    200.00   \n",
       "49  2023-01-28                   sms notification charge jan 2023    196.00   \n",
       "50  2023-01-28                          airtime//08039646573//mtn    200.00   \n",
       "59  2023-01-29                            charge on 08039646573//    100.00   \n",
       "58  2023-01-29     **rev nip cr/mob/paystack\\ncheckout/wbp/sheddy      0.00   \n",
       "57  2023-01-29                             **rev nip charge + vat      0.00   \n",
       "56  2023-01-29           nip cr/mob/paystack\\ncheckout/wbp/sheddy    200.00   \n",
       "53  2023-01-29    nip cr/mob/shedrach\\nnwali/gomon/shedrach nwali   6650.00   \n",
       "54  2023-01-29  trf frm shedrach ikenna nwali to\\nalhassan ami...   2000.00   \n",
       "52  2023-01-29                                   nip charge + vat     26.88   \n",
       "51  2023-01-29                     electronic money transfer levy    100.00   \n",
       "60  2023-01-29               sporty bet///08039646573//sporty bet    200.00   \n",
       "55  2023-01-29                                   nip charge + vat     10.75   \n",
       "63  2023-01-31                                   nip charge + vat     10.75   \n",
       "64  2023-01-31   nip cr/mob/daniel tolani\\nolorunyomi/kuda/sheddy   3000.00   \n",
       "61  2023-01-31             nip/kuda/daniel tolani\\nolorunyomi/hhh      0.00   \n",
       "62  2023-01-31                          airtime//08039646573//mtn    200.00   \n",
       "65  2023-02-01                          airtime//08039646573//mtn    200.00   \n",
       "66  2023-02-02                            charge on 08039646573//    100.00   \n",
       "67  2023-02-02               sporty bet///08039646573//sporty bet    300.00   \n",
       "68  2023-02-02                          airtime//08039646573//mtn    100.00   \n",
       "69  2023-02-03                                   nip charge + vat     10.75   \n",
       "70  2023-02-03            nip cr/mob/mfy / baxi--alh/wbp/shedrach   1000.00   \n",
       "71  2023-02-04  nip/gomon/shedrach nwali/transfer from\\nshedra...      0.00   \n",
       "72  2023-02-04                            charge on 08039646573//    100.00   \n",
       "73  2023-02-04               sporty bet///08039646573//sporty bet    300.00   \n",
       "74  2023-02-04                            charge on 08039646573//    100.00   \n",
       "75  2023-02-04               sporty bet///08039646573//sporty bet    500.00   \n",
       "76  2023-02-07                                   nip charge + vat     10.75   \n",
       "77  2023-02-07    nip cr/mob/shedrach\\nnwali/gomon/shedrach nwali   5000.00   \n",
       "78  2023-02-08                          airtime//08039646573//mtn    200.00   \n",
       "79  2023-02-09                          airtime//08039646573//mtn    150.00   \n",
       "80  2023-02-12  nip/gtb/ogar caleb amowomani/ussd\\nnip transfe...      0.00   \n",
       "81  2023-02-14         nip cr/mob/yunusa sarah\\njenebu/gtb/sheddy  10000.00   \n",
       "82  2023-02-14                                   nip charge + vat     26.88   \n",
       "83  2023-02-14    nip cr/mob/shedrach\\nnwali/gomon/shedrach nwali  10000.00   \n",
       "84  2023-02-14                                   nip charge + vat     26.88   \n",
       "85  2023-02-17  nip cr/mob/hasina confectionery and\\nrestuaran...   1900.00   \n",
       "86  2023-02-17                                   nip charge + vat     10.75   \n",
       "92  2023-02-18  **rev nip cr/mob/ayokanmi temitope\\njimoh/opay...      0.00   \n",
       "91  2023-02-18                             **rev nip charge + vat      0.00   \n",
       "90  2023-02-18                                   nip charge + vat     10.75   \n",
       "88  2023-02-18                                   nip charge + vat     10.75   \n",
       "87  2023-02-18              nip cr/mob/henry\\nadebayo/fcmb/sheddy   3000.00   \n",
       "89  2023-02-18    nip cr/mob/ayokanmi temitope\\njimoh/opay/sheddy   1850.00   \n",
       "95  2023-02-19   nip cr/mob/mohammad abdullahi\\nsalisu/gtb/sheddy    500.00   \n",
       "96  2023-02-19                                   nip charge + vat     10.75   \n",
       "100 2023-02-22                                   nip charge + vat     26.88   \n",
       "99  2023-02-22    nip cr/mob/shedrach\\nnwali/gomon/shedrach nwali   6200.00   \n",
       "97  2023-02-22         nip cr/mob/moses ogli\\nogwuche/opay/sheddy   1000.00   \n",
       "98  2023-02-22                                   nip charge + vat     10.75   \n",
       "101 2023-02-25                   sms notification charge feb 2023    136.00   \n",
       "102 2023-03-01                          airtime//09165366686//mtn   1000.00   \n",
       "103 2023-03-01                          airtime//08039646573//mtn    100.00   \n",
       "104 2023-03-03            nip cr/mob/shedrach\\nnwali/gomon/sheddy   4000.00   \n",
       "105 2023-03-03                                   nip charge + vat     10.75   \n",
       "106 2023-03-16        nip cr/mob/sarah jenebu\\nyunusa/opay/sheddy   2000.00   \n",
       "107 2023-03-16                                   nip charge + vat     10.75   \n",
       "108 2023-03-18      nip cr/mob/paystack\\ncheckout/wbp/08039646573   1000.00   \n",
       "109 2023-03-18                                   nip charge + vat     10.75   \n",
       "110 2023-03-19           rvsl:airtime//09165366686//mtn ref - 102      0.00   \n",
       "111 2023-03-24  nip/gtb/yunusa sarah jenebu/ussd\\nnip transfer...      0.00   \n",
       "112 2023-03-24  nip/eco/enike\\nbraimoh/refng5506179286 bo enik...      0.00   \n",
       "113 2023-03-25  nip/gtb/olorunyomi daniel\\ntolani/ussd nip tra...      0.00   \n",
       "114 2023-03-25                   sms notification charge mar 2023     28.00   \n",
       "116 2023-03-26               2023 qtr 1 visa card maintenance fee     53.75   \n",
       "115 2023-03-26                     electronic money transfer levy    150.00   \n",
       "117 2023-03-27  nip/gtb/olorunyomi daniel\\ntolani/ussd nip tra...      0.00   \n",
       "118 2023-03-28   nip cr/mob/ibrahim sule/uba/shedrach\\nhouse rent  60000.00   \n",
       "119 2023-03-28                                   nip charge + vat     53.75   \n",
       "120 2023-03-29  nip/fbn/olorunyomi daniel\\ntolani/fbnmobile:sh...      0.00   \n",
       "121 2023-03-29  nip/rolez/baxi---/bax_trsf_1680075323_dvd9- mo...      0.00   \n",
       "122 2023-03-30  nip/gtb/olorunyomi daniel\\ntolani/ussd nip tra...      0.00   \n",
       "123 2023-03-31    nip cr/mob/olorunyomi daniel\\ntolani/gtb/boyeke  58000.00   \n",
       "124 2023-03-31                                   nip charge + vat     53.75   \n",
       "125 2023-03-31    nip cr/mob/olorunyomi daniel\\ntolani/gtb/boyeke  50000.00   \n",
       "126 2023-03-31                                   nip charge + vat     26.88   \n",
       "128 2023-04-02                                   nip charge + vat     10.75   \n",
       "129 2023-04-02  nip/rolez/baxi---/bax_trsf_1680444235_hfbq- mo...      0.00   \n",
       "127 2023-04-02    nip cr/mob/shedrach\\nnwali/gomon/shedrach nwali   2000.00   \n",
       "130 2023-04-02                     electronic money transfer levy    200.00   \n",
       "131 2023-04-04                          airtime//07043909222//mtn    500.00   \n",
       "132 2023-04-05           nip cr/mob/abdullahi\\nkhadija/gtb/sheddy   3000.00   \n",
       "133 2023-04-05                                   nip charge + vat     10.75   \n",
       "134 2023-04-06    nip cr/mob/shedrach\\nnwali/gomon/shedrach nwali   3000.00   \n",
       "135 2023-04-06                                   nip charge + vat     10.75   \n",
       "136 2023-04-09  nip/cash/trf/045rnbe02251681035150766\\n220!wit...      0.00   \n",
       "137 2023-04-09    nip cr/mob/shedrach\\nnwali/gomon/shedrach nwali  20000.00   \n",
       "138 2023-04-09                                   nip charge + vat     26.88   \n",
       "139 2023-04-10  nip/gtb/olorunyomi daniel\\ntolani/ussd nip tra...      0.00   \n",
       "140 2023-04-10                          airtime//07043909222//mtn    200.00   \n",
       "141 2023-04-11    nip cr/mob/shedrach\\nnwali/gomon/shedrach nwali   5000.00   \n",
       "142 2023-04-11                                   nip charge + vat     10.75   \n",
       "143 2023-04-12                       airtime//08125748649//airtel   1000.00   \n",
       "144 2023-04-14                         nip/capri/cdl/helen copper      0.00   \n",
       "147 2023-04-16                          airtime//07043909222//mtn    200.00   \n",
       "145 2023-04-16                          airtime//07043909222//mtn    200.00   \n",
       "146 2023-04-16                     electronic money transfer levy     50.00   \n",
       "148 2023-04-19    nip cr/mob/shedrach\\nnwali/gomon/shedrach nwali  10000.00   \n",
       "149 2023-04-19                                   nip charge + vat     26.88   \n",
       "150 2023-04-19  nip/gtb/olorunyomi daniel\\ntolani/ussd nip tra...      0.00   \n",
       "151 2023-04-23  nip cr/mob/chukwubueze paschal\\nugwumba/opay/s...   7500.00   \n",
       "152 2023-04-23                                   nip charge + vat     26.88   \n",
       "153 2023-04-23                     electronic money transfer levy     50.00   \n",
       "154 2023-04-25  nip cr/mob/chukwubueze paschal\\nugwumba/abn/sh...   6500.00   \n",
       "155 2023-04-25                                   nip charge + vat     26.88   \n",
       "156 2023-04-25                                nip/capri/cdl/helen      0.00   \n",
       "163 2023-04-26          **rev nip cr/mob/yum\\ndelivery/abn/sheddy      0.00   \n",
       "164 2023-04-26                             **rev nip charge + vat      0.00   \n",
       "161 2023-04-26                 nip cr/mob/yum delivery/abn/sheddy   7600.00   \n",
       "162 2023-04-26                                   nip charge + vat     26.88   \n",
       "159 2023-04-26                             **rev nip charge + vat      0.00   \n",
       "158 2023-04-26                                   nip charge + vat     26.88   \n",
       "157 2023-04-26    nip cr/mob/shedrach\\nnwali/gomon/shedrach nwali  10000.00   \n",
       "160 2023-04-26  **rev nip cr/mob/shedrach\\nnwali/gomon/shedrac...      0.00   \n",
       "165 2023-04-29                   sms notification charge apr 2023    188.00   \n",
       "166 2023-04-29      nip cr/mob/paystack\\ncheckout/wbp/08039646573   2000.00   \n",
       "167 2023-04-29                                   nip charge + vat     10.75   \n",
       "168 2023-04-30      nip cr/mob/stone\\ncastlerestaurant/gtb/sheddy   2250.00   \n",
       "169 2023-04-30                                   nip charge + vat     10.75   \n",
       "170 2023-04-30              nip cr/mob/henry\\nadebayo/fcmb/sheddy   2400.00   \n",
       "171 2023-04-30                                   nip charge + vat     10.75   \n",
       "172 2023-04-30                     electronic money transfer levy     50.00   \n",
       "173 2023-04-30      nip cr/mob/paystack\\ncheckout/wbp/08039646573   2000.00   \n",
       "174 2023-04-30                                   nip charge + vat     10.75   \n",
       "179 2023-05-01                                   nip charge + vat     10.75   \n",
       "178 2023-05-01    nip cr/mob/shedrach\\nnwali/gomon/shedrach nwali   5000.00   \n",
       "177 2023-05-01  nip/opay/sarah jenebu yunusa/transfer from\\nto...      0.00   \n",
       "175 2023-05-01                 nip cr/mob/yum delivery/abn/sheddy   6400.00   \n",
       "176 2023-05-01                                   nip charge + vat     26.88   \n",
       "180 2023-05-02      nip cr/mob/salisu\\nabdulrasheed/opay/shedrach   5200.00   \n",
       "181 2023-05-02                                   nip charge + vat     26.88   \n",
       "182 2023-05-04    nip cr/mob/shedrach\\nnwali/gomon/shedrach nwali   5000.00   \n",
       "183 2023-05-04                                   nip charge + vat     10.75   \n",
       "184 2023-05-05    nip cr/mob/shedrach\\nnwali/gomon/shedrach nwali    600.00   \n",
       "185 2023-05-05                                   nip charge + vat     10.75   \n",
       "186 2023-05-09                          airtime//07043909222//mtn    300.00   \n",
       "187 2023-05-09                          airtime//07043909222//mtn    300.00   \n",
       "188 2023-05-09           nip cr/mob/abdullahi\\nkhadija/gtb/sheddy   2000.00   \n",
       "189 2023-05-09                                   nip charge + vat     10.75   \n",
       "190 2023-05-12                          airtime//07043909222//mtn    300.00   \n",
       "192 2023-05-13                          airtime//07043909222//mtn    200.00   \n",
       "191 2023-05-13                          airtime//07043909222//mtn    300.00   \n",
       "195 2023-05-14                                   nip charge + vat     10.75   \n",
       "196 2023-05-14                          airtime//07043909222//mtn    500.00   \n",
       "193 2023-05-14                          airtime//07043909222//mtn    200.00   \n",
       "194 2023-05-14         nip cr/mob/yunusa sarah\\njenebu/gtb/sheddy   2000.00   \n",
       "197 2023-05-15                          airtime//07043909222//mtn    100.00   \n",
       "198 2023-05-15     rvsl:airtime//07043909222//mtn ref -1092476512      0.00   \n",
       "199 2023-05-25  nip/opay/abdulsamad ayobami\\nibrahim/transfer ...      0.00   \n",
       "200 2023-05-27                   sms notification charge may 2023    116.00   \n",
       "201 2023-05-28                     electronic money transfer levy     50.00   \n",
       "202 2023-05-28                            charge on 08039646573//    100.00   \n",
       "203 2023-05-28               sporty bet///08039646573//sporty bet   1000.00   \n",
       "204 2023-06-02                               nip/capri/cdl/copper      0.00   \n",
       "205 2023-06-04                     electronic money transfer levy     50.00   \n",
       "206 2023-06-06  nip/rolez/baxi---/bax_trsf_1686062151_ed4k- mo...      0.00   \n",
       "207 2023-06-08                          airtime//07043909222//mtn   2000.00   \n",
       "208 2023-06-11                     electronic money transfer levy     50.00   \n",
       "209 2023-06-12         nip cr/mob/yunusa sarah\\njenebu/gtb/sheddy  10000.00   \n",
       "210 2023-06-12                                   nip charge + vat     26.88   \n",
       "211 2023-06-16                          airtime//07043909222//mtn    300.00   \n",
       "212 2023-06-17                          airtime//07043909222//mtn    300.00   \n",
       "213 2023-06-17    nip cr/mob/shedrach\\nnwali/gomon/shedrach nwali   5000.00   \n",
       "214 2023-06-17                                   nip charge + vat     10.75   \n",
       "219 2023-06-18  nip cr/mob/chukwubueze paschal\\nugwumba/abn/sh...  12000.00   \n",
       "218 2023-06-18                                   nip charge + vat     26.88   \n",
       "220 2023-06-18                                   nip charge + vat     26.88   \n",
       "216 2023-06-18                                   nip charge + vat     10.75   \n",
       "215 2023-06-18                 nip cr/mob/edeh margret/gtb/sheddy   5000.00   \n",
       "217 2023-06-18       nip cr/mob/siddari haruna\\nbello/opay/sheddy   7900.00   \n",
       "221 2023-06-19    nip cr/mob/shedrach\\nnwali/gomon/shedrach nwali   1150.00   \n",
       "222 2023-06-19                                   nip charge + vat     10.75   \n",
       "227 2023-06-23                          airtime//07043909222//mtn    200.00   \n",
       "223 2023-06-23      nip cr/mob/nwawelu o\\nchikwendu/skye/shedrach   8000.00   \n",
       "224 2023-06-23                                   nip charge + vat     26.88   \n",
       "225 2023-06-23       nip cr/mob/george imeiba\\nachu/opay/shedrach    500.00   \n",
       "226 2023-06-23                                   nip charge + vat     10.75   \n",
       "229 2023-06-24                                   nip charge + vat     26.88   \n",
       "228 2023-06-24        nip cr/mob/caleb amowomani\\nogar/uba/sheddy  10000.00   \n",
       "230 2023-06-25                          airtime//07043909222//mtn    300.00   \n",
       "231 2023-06-25               nip cr/mob/blessing nwali/fbn/sheddy   5000.00   \n",
       "232 2023-06-25                                   nip charge + vat     10.75   \n",
       "233 2023-06-26                          airtime//07043909222//mtn    300.00   \n",
       "234 2023-06-26        nip cr/mob/caleb amowomani\\nogar/uba/sheddy   1500.00   \n",
       "235 2023-06-26                                   nip charge + vat     10.75   \n",
       "236 2023-06-28    nip cr/mob/shedrach\\nnwali/gomon/shedrach nwali  10000.00   \n",
       "237 2023-06-28                                   nip charge + vat     26.88   \n",
       "238 2023-06-28               2023 qtr 2 visa card maintenance fee     53.75   \n",
       "239 2023-06-29                   sms notification charge jun 2023    152.00   \n",
       "240 2023-07-04        nip cr/mob/sarah jenebu\\nyunusa/opay/sheddy   3000.00   \n",
       "241 2023-07-04                                   nip charge + vat     10.75   \n",
       "242 2023-07-10                                   nip charge + vat     10.75   \n",
       "243 2023-07-10     nip cr/mob/onyedika elias\\nnwankwor/uba/sheddy   5000.00   \n",
       "244 2023-07-10                               nip/capri/cdl/copper      0.00   \n",
       "245 2023-07-13    trf frm usaini nasiru to shedrach\\nikenna nwali      0.00   \n",
       "246 2023-07-15                          airtime//07043909222//mtn    300.00   \n",
       "247 2023-07-16                          airtime//07043909222//mtn    200.00   \n",
       "248 2023-07-16                     electronic money transfer levy    100.00   \n",
       "249 2023-07-16    nip cr/mob/shedrach\\nnwali/gomon/shedrach nwali  10000.00   \n",
       "250 2023-07-16                                   nip charge + vat     26.88   \n",
       "251 2023-07-17  nip cr/mob/ibrahim yakubu\\nhafizu/opay/shedrac...  35315.00   \n",
       "252 2023-07-17                                   nip charge + vat     26.88   \n",
       "253 2023-07-18  nip cr/mob/nwali, ikenna\\nshedrach/kuda/shedra...   5000.00   \n",
       "254 2023-07-18                                   nip charge + vat     10.75   \n",
       "255 2023-07-18    nip cr/mob/shedrach\\nnwali/gomon/shedrach nwali   4000.00   \n",
       "256 2023-07-18                                   nip charge + vat     10.75   \n",
       "257 2023-07-26                          airtime//09165366686//mtn   1000.00   \n",
       "258 2023-07-26  nip/rolez/shago-//tunde/at5_mfds21202307260836...      0.00   \n",
       "259 2023-07-27                          airtime//07043909222//mtn    200.00   \n",
       "260 2023-07-29                   sms notification charge jul 2023     64.00   \n",
       "261 2023-07-30                     electronic money transfer levy     50.00   \n",
       "\n",
       "       credit value date    balance         category    amount        day  \\\n",
       "0        0.00 2023-01-02   35702.52      Bank charge    -10.75     Monday   \n",
       "1        0.00 2023-01-02   32702.52  Digital Wallets  -3000.00     Monday   \n",
       "2        0.00 2023-01-02   32502.52          Airtime   -200.00     Monday   \n",
       "3        0.00 2023-01-02   32475.64      Bank charge    -26.88     Monday   \n",
       "4        0.00 2023-01-02   22475.64    miscellaneous -10000.00     Monday   \n",
       "5        0.00 2023-01-02   22275.64          Airtime   -200.00     Monday   \n",
       "6        0.00 2023-01-02   22075.64          Airtime   -200.00     Monday   \n",
       "7        0.00 2023-01-03   21875.64          Airtime   -200.00    Tuesday   \n",
       "8        0.00 2023-01-04   21675.64          Airtime   -200.00  Wednesday   \n",
       "9        0.00 2023-01-04   21664.89      Bank charge    -10.75  Wednesday   \n",
       "10       0.00 2023-01-04   16664.89  Digital Wallets  -5000.00  Wednesday   \n",
       "11       0.00 2023-01-05   16654.14      Bank charge    -10.75   Thursday   \n",
       "12       0.00 2023-01-05   15654.14    miscellaneous  -1000.00   Thursday   \n",
       "14       0.00 2023-01-07   14643.39  Digital Wallets  -1000.00   Saturday   \n",
       "13       0.00 2023-01-07   15643.39      Bank charge    -10.75   Saturday   \n",
       "15       0.00 2023-01-12   14632.64      Bank charge    -10.75   Thursday   \n",
       "16       0.00 2023-01-12   12632.64    miscellaneous  -2000.00   Thursday   \n",
       "17       0.00 2023-01-13   12132.64          Airtime   -500.00     Friday   \n",
       "18       0.00 2023-01-16   12121.89      Bank charge    -10.75     Monday   \n",
       "19       0.00 2023-01-16   10121.89          My baby  -2000.00     Monday   \n",
       "20       0.00 2023-01-17   10111.14      Bank charge    -10.75    Tuesday   \n",
       "21       0.00 2023-01-17    9111.14          My baby  -1000.00    Tuesday   \n",
       "22       0.00 2023-01-18    9100.39      Bank charge    -10.75  Wednesday   \n",
       "23       0.00 2023-01-18    6100.39               DT  -3000.00  Wednesday   \n",
       "24       0.00 2023-01-18    4100.39          Airtime  -2000.00  Wednesday   \n",
       "25    6000.00 2023-01-19   10100.39    enike braimoh   6000.00   Thursday   \n",
       "26       0.00 2023-01-19   10073.51      Bank charge    -26.88   Thursday   \n",
       "27       0.00 2023-01-19    4073.51          My baby  -6000.00   Thursday   \n",
       "28       0.00 2023-01-20    3873.51          Airtime   -200.00     Friday   \n",
       "31       0.00 2023-01-22    3062.76         Selfcare   -300.00     Sunday   \n",
       "30       0.00 2023-01-22    3362.76      Bank charge    -10.75     Sunday   \n",
       "29       0.00 2023-01-22    3373.51          Airtime   -500.00     Sunday   \n",
       "32       0.00 2023-01-23    2862.76          Airtime   -200.00     Monday   \n",
       "33       0.00 2023-01-23    2662.76          Airtime   -200.00     Monday   \n",
       "34       0.00 2023-01-23    2652.01      Bank charge    -10.75     Monday   \n",
       "35       0.00 2023-01-23    2452.01         Selfcare   -200.00     Monday   \n",
       "36       0.00 2023-01-26    2352.01          Airtime   -100.00   Thursday   \n",
       "37       0.00 2023-01-26    2252.01          Airtime   -100.00   Thursday   \n",
       "38     100.00 2023-01-26    2352.01          Airtime    100.00   Thursday   \n",
       "39       0.00 2023-01-26     352.01          Airtime  -2000.00   Thursday   \n",
       "40       0.00 2023-01-26     252.01          Airtime   -100.00   Thursday   \n",
       "41    3000.00 2023-01-26    3252.01              Mom   3000.00   Thursday   \n",
       "42   30000.00 2023-01-26   33252.01      Aunty Helen  30000.00   Thursday   \n",
       "45       0.00 2023-01-27   58041.26         Selfcare   -200.00     Friday   \n",
       "46       0.00 2023-01-27   57841.26          Airtime   -200.00     Friday   \n",
       "43   25000.00 2023-01-27   58252.01              Dad  25000.00     Friday   \n",
       "44       0.00 2023-01-27   58241.26      Bank charge    -10.75     Friday   \n",
       "47       0.00 2023-01-28   57741.26          Airtime   -100.00   Saturday   \n",
       "48       0.00 2023-01-28   57541.26          Airtime   -200.00   Saturday   \n",
       "49       0.00 2023-01-28   57345.26      Bank charge   -196.00   Saturday   \n",
       "50       0.00 2023-01-28   57145.26          Airtime   -200.00   Saturday   \n",
       "59       0.00 2023-01-29   48268.38          Airtime   -100.00     Sunday   \n",
       "58     200.00 2023-01-29   48368.38         Selfcare    200.00     Sunday   \n",
       "57      10.75 2023-01-29   48168.38      Bank charge     10.75     Sunday   \n",
       "56       0.00 2023-01-29   48157.63         Selfcare   -200.00     Sunday   \n",
       "53       0.00 2023-01-29   50368.38  Digital Wallets  -6650.00     Sunday   \n",
       "54       0.00 2023-01-29   48368.38    miscellaneous  -2000.00     Sunday   \n",
       "52       0.00 2023-01-29   57018.38      Bank charge    -26.88     Sunday   \n",
       "51       0.00 2023-01-29   57045.26      Bank charge   -100.00     Sunday   \n",
       "60       0.00 2023-01-29   48068.38          Airtime   -200.00     Sunday   \n",
       "55       0.00 2023-01-29   48357.63      Bank charge    -10.75     Sunday   \n",
       "63       0.00 2023-01-31   50857.63      Bank charge    -10.75    Tuesday   \n",
       "64       0.00 2023-01-31   47857.63               DT  -3000.00    Tuesday   \n",
       "61    3000.00 2023-01-31   51068.38               DT   3000.00    Tuesday   \n",
       "62       0.00 2023-01-31   50868.38          Airtime   -200.00    Tuesday   \n",
       "65       0.00 2023-02-01   47657.63          Airtime   -200.00  Wednesday   \n",
       "66       0.00 2023-02-02   47557.63          Airtime   -100.00   Thursday   \n",
       "67       0.00 2023-02-02   47257.63          Airtime   -300.00   Thursday   \n",
       "68       0.00 2023-02-02   47157.63          Airtime   -100.00   Thursday   \n",
       "69       0.00 2023-02-03   47146.88      Bank charge    -10.75     Friday   \n",
       "70       0.00 2023-02-03   46146.88    miscellaneous  -1000.00     Friday   \n",
       "71     300.00 2023-02-04   46446.88  Digital Wallets    300.00   Saturday   \n",
       "72       0.00 2023-02-04   46346.88          Airtime   -100.00   Saturday   \n",
       "73       0.00 2023-02-04   46046.88          Airtime   -300.00   Saturday   \n",
       "74       0.00 2023-02-04   45946.88          Airtime   -100.00   Saturday   \n",
       "75       0.00 2023-02-04   45446.88          Airtime   -500.00   Saturday   \n",
       "76       0.00 2023-02-07   45436.13      Bank charge    -10.75    Tuesday   \n",
       "77       0.00 2023-02-07   40436.13  Digital Wallets  -5000.00    Tuesday   \n",
       "78       0.00 2023-02-08   40236.13          Airtime   -200.00  Wednesday   \n",
       "79       0.00 2023-02-09   40086.13          Airtime   -150.00   Thursday   \n",
       "80    5000.00 2023-02-12   45086.13            caleb   5000.00     Sunday   \n",
       "81       0.00 2023-02-14   35086.13          My baby -10000.00    Tuesday   \n",
       "82       0.00 2023-02-14   35059.25      Bank charge    -26.88    Tuesday   \n",
       "83       0.00 2023-02-14   25059.25  Digital Wallets -10000.00    Tuesday   \n",
       "84       0.00 2023-02-14   25032.37      Bank charge    -26.88    Tuesday   \n",
       "85       0.00 2023-02-17   23132.37         Eat outs  -1900.00     Friday   \n",
       "86       0.00 2023-02-17   23121.62      Bank charge    -10.75     Friday   \n",
       "92    1850.00 2023-02-18   20110.87    miscellaneous   1850.00   Saturday   \n",
       "91      10.75 2023-02-18   18260.87      Bank charge     10.75   Saturday   \n",
       "90       0.00 2023-02-18   18250.12      Bank charge    -10.75   Saturday   \n",
       "88       0.00 2023-02-18   20110.87      Bank charge    -10.75   Saturday   \n",
       "87       0.00 2023-02-18   20121.62         Eat outs  -3000.00   Saturday   \n",
       "89       0.00 2023-02-18   18260.87    miscellaneous  -1850.00   Saturday   \n",
       "95       0.00 2023-02-19   17750.12    miscellaneous   -500.00     Sunday   \n",
       "96       0.00 2023-02-19   17739.37      Bank charge    -10.75     Sunday   \n",
       "100      0.00 2023-02-22   10501.74      Bank charge    -26.88  Wednesday   \n",
       "99       0.00 2023-02-22   10528.62  Digital Wallets  -6200.00  Wednesday   \n",
       "97       0.00 2023-02-22   16739.37    miscellaneous  -1000.00  Wednesday   \n",
       "98       0.00 2023-02-22   16728.62      Bank charge    -10.75  Wednesday   \n",
       "101      0.00 2023-02-25   10365.74      Bank charge   -136.00   Saturday   \n",
       "102      0.00 2023-03-01    9365.74          Airtime  -1000.00  Wednesday   \n",
       "103      0.00 2023-03-01    9265.74          Airtime   -100.00  Wednesday   \n",
       "104      0.00 2023-03-03    5265.74  Digital Wallets  -4000.00     Friday   \n",
       "105      0.00 2023-03-03    5254.99      Bank charge    -10.75     Friday   \n",
       "106      0.00 2023-03-16    3254.99          My baby  -2000.00   Thursday   \n",
       "107      0.00 2023-03-16    3244.24      Bank charge    -10.75   Thursday   \n",
       "108      0.00 2023-03-18    2244.24         Selfcare  -1000.00   Saturday   \n",
       "109      0.00 2023-03-18    2233.49      Bank charge    -10.75   Saturday   \n",
       "110   1000.00 2023-03-19    3233.49          Airtime   1000.00     Sunday   \n",
       "111  30000.00 2023-03-24   33233.49          My baby  30000.00     Friday   \n",
       "112  10500.00 2023-03-24   43733.49    enike braimoh  10500.00     Friday   \n",
       "113  22530.00 2023-03-25   66263.49               DT  22530.00   Saturday   \n",
       "114      0.00 2023-03-25   66235.49      Bank charge    -28.00   Saturday   \n",
       "116      0.00 2023-03-26   66031.74      Bank charge    -53.75     Sunday   \n",
       "115      0.00 2023-03-26   66085.49      Bank charge   -150.00     Sunday   \n",
       "117  26800.00 2023-03-27   92831.74               DT  26800.00     Monday   \n",
       "118      0.00 2023-03-28   32831.74             Rent -60000.00    Tuesday   \n",
       "119      0.00 2023-03-28   32777.99      Bank charge    -53.75    Tuesday   \n",
       "120  34870.00 2023-03-29   67647.99               DT  34870.00  Wednesday   \n",
       "121  20000.00 2023-03-29   87647.99          Day Job  20000.00  Wednesday   \n",
       "122  27450.00 2023-03-30  115097.99               DT  27450.00   Thursday   \n",
       "123      0.00 2023-03-31   57097.99               DT -58000.00     Friday   \n",
       "124      0.00 2023-03-31   57044.24      Bank charge    -53.75     Friday   \n",
       "125      0.00 2023-03-31    7044.24               DT -50000.00     Friday   \n",
       "126      0.00 2023-03-31    7017.36      Bank charge    -26.88     Friday   \n",
       "128      0.00 2023-04-02    5006.61      Bank charge    -10.75     Sunday   \n",
       "129   2100.00 2023-04-02    7106.61          Day Job   2100.00     Sunday   \n",
       "127      0.00 2023-04-02    5017.36  Digital Wallets  -2000.00     Sunday   \n",
       "130      0.00 2023-04-02    6906.61      Bank charge   -200.00     Sunday   \n",
       "131      0.00 2023-04-04    6406.61          Airtime   -500.00    Tuesday   \n",
       "132      0.00 2023-04-05    3406.61          My baby  -3000.00  Wednesday   \n",
       "133      0.00 2023-04-05    3395.86      Bank charge    -10.75  Wednesday   \n",
       "134      0.00 2023-04-06     395.86  Digital Wallets  -3000.00   Thursday   \n",
       "135      0.00 2023-04-06     385.11      Bank charge    -10.75   Thursday   \n",
       "136  20000.00 2023-04-09   20385.11          Day Job  20000.00     Sunday   \n",
       "137      0.00 2023-04-09     385.11  Digital Wallets -20000.00     Sunday   \n",
       "138      0.00 2023-04-09     358.23      Bank charge    -26.88     Sunday   \n",
       "139  18050.00 2023-04-10   18408.23               DT  18050.00     Monday   \n",
       "140      0.00 2023-04-10   18208.23          Airtime   -200.00     Monday   \n",
       "141      0.00 2023-04-11   13208.23  Digital Wallets  -5000.00    Tuesday   \n",
       "142      0.00 2023-04-11   13197.48      Bank charge    -10.75    Tuesday   \n",
       "143      0.00 2023-04-12   12197.48          Airtime  -1000.00  Wednesday   \n",
       "144   2500.00 2023-04-14   14697.48          Day Job   2500.00     Friday   \n",
       "147      0.00 2023-04-16   14247.48          Airtime   -200.00     Sunday   \n",
       "145      0.00 2023-04-16   14497.48          Airtime   -200.00     Sunday   \n",
       "146      0.00 2023-04-16   14447.48      Bank charge    -50.00     Sunday   \n",
       "148      0.00 2023-04-19    4247.48  Digital Wallets -10000.00  Wednesday   \n",
       "149      0.00 2023-04-19    4220.60      Bank charge    -26.88  Wednesday   \n",
       "150  28355.00 2023-04-19   32575.60               DT  28355.00  Wednesday   \n",
       "151      0.00 2023-04-23   25075.60         Selfcare  -7500.00     Sunday   \n",
       "152      0.00 2023-04-23   25048.72      Bank charge    -26.88     Sunday   \n",
       "153      0.00 2023-04-23   24998.72      Bank charge    -50.00     Sunday   \n",
       "154      0.00 2023-04-25   18498.72         Selfcare  -6500.00    Tuesday   \n",
       "155      0.00 2023-04-25   18471.84      Bank charge    -26.88    Tuesday   \n",
       "156  15000.00 2023-04-25   33471.84          Day Job  15000.00    Tuesday   \n",
       "163   7600.00 2023-04-26   33444.96         Eat outs   7600.00  Wednesday   \n",
       "164     26.88 2023-04-26   33471.84      Bank charge     26.88  Wednesday   \n",
       "161      0.00 2023-04-26   25871.84         Eat outs  -7600.00  Wednesday   \n",
       "162      0.00 2023-04-26   25844.96      Bank charge    -26.88  Wednesday   \n",
       "159     26.88 2023-04-26   23471.84      Bank charge     26.88  Wednesday   \n",
       "158      0.00 2023-04-26   23444.96      Bank charge    -26.88  Wednesday   \n",
       "157      0.00 2023-04-26   23471.84  Digital Wallets -10000.00  Wednesday   \n",
       "160  10000.00 2023-04-26   33471.84  Digital Wallets  10000.00  Wednesday   \n",
       "165      0.00 2023-04-29   33283.84      Bank charge   -188.00   Saturday   \n",
       "166      0.00 2023-04-29   31283.84         Selfcare  -2000.00   Saturday   \n",
       "167      0.00 2023-04-29   31273.09      Bank charge    -10.75   Saturday   \n",
       "168      0.00 2023-04-30   29023.09         Eat outs  -2250.00     Sunday   \n",
       "169      0.00 2023-04-30   29012.34      Bank charge    -10.75     Sunday   \n",
       "170      0.00 2023-04-30   26612.34         Eat outs  -2400.00     Sunday   \n",
       "171      0.00 2023-04-30   26601.59      Bank charge    -10.75     Sunday   \n",
       "172      0.00 2023-04-30   26551.59      Bank charge    -50.00     Sunday   \n",
       "173      0.00 2023-04-30   24551.59         Selfcare  -2000.00     Sunday   \n",
       "174      0.00 2023-04-30   24540.84      Bank charge    -10.75     Sunday   \n",
       "179      0.00 2023-05-01   17103.21      Bank charge    -10.75     Monday   \n",
       "178      0.00 2023-05-01   17113.96  Digital Wallets  -5000.00     Monday   \n",
       "177   4000.00 2023-05-01   22113.96          My baby   4000.00     Monday   \n",
       "175      0.00 2023-05-01   18140.84         Eat outs  -6400.00     Monday   \n",
       "176      0.00 2023-05-01   18113.96      Bank charge    -26.88     Monday   \n",
       "180      0.00 2023-05-02   11903.21    miscellaneous  -5200.00    Tuesday   \n",
       "181      0.00 2023-05-02   11876.33      Bank charge    -26.88    Tuesday   \n",
       "182      0.00 2023-05-04    6876.33  Digital Wallets  -5000.00   Thursday   \n",
       "183      0.00 2023-05-04    6865.58      Bank charge    -10.75   Thursday   \n",
       "184      0.00 2023-05-05    6265.58  Digital Wallets   -600.00     Friday   \n",
       "185      0.00 2023-05-05    6254.83      Bank charge    -10.75     Friday   \n",
       "186      0.00 2023-05-09    5954.83          Airtime   -300.00    Tuesday   \n",
       "187      0.00 2023-05-09    5654.83          Airtime   -300.00    Tuesday   \n",
       "188      0.00 2023-05-09    3654.83          My baby  -2000.00    Tuesday   \n",
       "189      0.00 2023-05-09    3644.08      Bank charge    -10.75    Tuesday   \n",
       "190      0.00 2023-05-12    3344.08          Airtime   -300.00     Friday   \n",
       "192      0.00 2023-05-13    2844.08          Airtime   -200.00   Saturday   \n",
       "191      0.00 2023-05-13    3044.08          Airtime   -300.00   Saturday   \n",
       "195      0.00 2023-05-14     633.33      Bank charge    -10.75     Sunday   \n",
       "196      0.00 2023-05-14     133.33          Airtime   -500.00     Sunday   \n",
       "193      0.00 2023-05-14    2644.08          Airtime   -200.00     Sunday   \n",
       "194      0.00 2023-05-14     644.08          My baby  -2000.00     Sunday   \n",
       "197      0.00 2023-05-15      33.33          Airtime   -100.00     Monday   \n",
       "198    200.00 2023-05-15     233.33          Airtime    200.00     Monday   \n",
       "199  15000.00 2023-05-25   15233.33         Selfcare  15000.00   Thursday   \n",
       "200      0.00 2023-05-27   15117.33      Bank charge   -116.00   Saturday   \n",
       "201      0.00 2023-05-28   15067.33      Bank charge    -50.00     Sunday   \n",
       "202      0.00 2023-05-28   14967.33          Airtime   -100.00     Sunday   \n",
       "203      0.00 2023-05-28   13967.33          Airtime  -1000.00     Sunday   \n",
       "204  40000.00 2023-06-02   53967.33          Day Job  40000.00     Friday   \n",
       "205      0.00 2023-06-04   53917.33      Bank charge    -50.00     Sunday   \n",
       "206  40000.00 2023-06-06   93917.33          Day Job  40000.00    Tuesday   \n",
       "207      0.00 2023-06-08   91917.33          Airtime  -2000.00   Thursday   \n",
       "208      0.00 2023-06-11   91867.33      Bank charge    -50.00     Sunday   \n",
       "209      0.00 2023-06-12   81867.33          My baby -10000.00     Monday   \n",
       "210      0.00 2023-06-12   81840.45      Bank charge    -26.88     Monday   \n",
       "211      0.00 2023-06-16   81540.45          Airtime   -300.00     Friday   \n",
       "212      0.00 2023-06-17   81240.45          Airtime   -300.00   Saturday   \n",
       "213      0.00 2023-06-17   76240.45  Digital Wallets  -5000.00   Saturday   \n",
       "214      0.00 2023-06-17   76229.70      Bank charge    -10.75   Saturday   \n",
       "219      0.00 2023-06-18   51292.07         Selfcare -12000.00     Sunday   \n",
       "218      0.00 2023-06-18   63292.07      Bank charge    -26.88     Sunday   \n",
       "220      0.00 2023-06-18   51265.19      Bank charge    -26.88     Sunday   \n",
       "216      0.00 2023-06-18   71218.95      Bank charge    -10.75     Sunday   \n",
       "215      0.00 2023-06-18   71229.70    miscellaneous  -5000.00     Sunday   \n",
       "217      0.00 2023-06-18   63318.95    miscellaneous  -7900.00     Sunday   \n",
       "221      0.00 2023-06-19   50115.19  Digital Wallets  -1150.00     Monday   \n",
       "222      0.00 2023-06-19   50104.44      Bank charge    -10.75     Monday   \n",
       "227      0.00 2023-06-23   41366.81          Airtime   -200.00     Friday   \n",
       "223      0.00 2023-06-23   42104.44         Selfcare  -8000.00     Friday   \n",
       "224      0.00 2023-06-23   42077.56      Bank charge    -26.88     Friday   \n",
       "225      0.00 2023-06-23   41577.56     Fines & Dues   -500.00     Friday   \n",
       "226      0.00 2023-06-23   41566.81      Bank charge    -10.75     Friday   \n",
       "229      0.00 2023-06-24   31339.93      Bank charge    -26.88   Saturday   \n",
       "228      0.00 2023-06-24   31366.81            caleb -10000.00   Saturday   \n",
       "230      0.00 2023-06-25   31039.93          Airtime   -300.00     Sunday   \n",
       "231      0.00 2023-06-25   26039.93              Mom  -5000.00     Sunday   \n",
       "232      0.00 2023-06-25   26029.18      Bank charge    -10.75     Sunday   \n",
       "233      0.00 2023-06-26   25729.18          Airtime   -300.00     Monday   \n",
       "234      0.00 2023-06-26   24229.18            caleb  -1500.00     Monday   \n",
       "235      0.00 2023-06-26   24218.43      Bank charge    -10.75     Monday   \n",
       "236      0.00 2023-06-28   14218.43  Digital Wallets -10000.00  Wednesday   \n",
       "237      0.00 2023-06-28   14191.55      Bank charge    -26.88  Wednesday   \n",
       "238      0.00 2023-06-28   14137.80      Bank charge    -53.75  Wednesday   \n",
       "239      0.00 2023-06-29   13985.80      Bank charge   -152.00   Thursday   \n",
       "240      0.00 2023-07-04   10985.80          My baby  -3000.00    Tuesday   \n",
       "241      0.00 2023-07-04   10975.05      Bank charge    -10.75    Tuesday   \n",
       "242      0.00 2023-07-10   10964.30      Bank charge    -10.75     Monday   \n",
       "243      0.00 2023-07-10    5964.30          Day Job  -5000.00     Monday   \n",
       "244  20000.00 2023-07-10   25964.30          Day Job  20000.00     Monday   \n",
       "245  36620.00 2023-07-13   62584.30          Day Job  36620.00   Thursday   \n",
       "246      0.00 2023-07-15   62284.30          Airtime   -300.00   Saturday   \n",
       "247      0.00 2023-07-16   62084.30          Airtime   -200.00     Sunday   \n",
       "248      0.00 2023-07-16   61984.30      Bank charge   -100.00     Sunday   \n",
       "249      0.00 2023-07-16   51984.30  Digital Wallets -10000.00     Sunday   \n",
       "250      0.00 2023-07-16   51957.42      Bank charge    -26.88     Sunday   \n",
       "251      0.00 2023-07-17   16642.42         Selfcare -35315.00     Monday   \n",
       "252      0.00 2023-07-17   16615.54      Bank charge    -26.88     Monday   \n",
       "253      0.00 2023-07-18   11615.54  Digital Wallets  -5000.00    Tuesday   \n",
       "254      0.00 2023-07-18   11604.79      Bank charge    -10.75    Tuesday   \n",
       "255      0.00 2023-07-18    7604.79  Digital Wallets  -4000.00    Tuesday   \n",
       "256      0.00 2023-07-18    7594.04      Bank charge    -10.75    Tuesday   \n",
       "257      0.00 2023-07-26    6594.04          Airtime  -1000.00  Wednesday   \n",
       "258  10000.00 2023-07-26   16594.04     Cash deposit  10000.00  Wednesday   \n",
       "259      0.00 2023-07-27   16394.04          Airtime   -200.00   Thursday   \n",
       "260      0.00 2023-07-29   16330.04      Bank charge    -64.00   Saturday   \n",
       "261      0.00 2023-07-30   16280.04      Bank charge    -50.00     Sunday   \n",
       "\n",
       "        month  \n",
       "0     January  \n",
       "1     January  \n",
       "2     January  \n",
       "3     January  \n",
       "4     January  \n",
       "5     January  \n",
       "6     January  \n",
       "7     January  \n",
       "8     January  \n",
       "9     January  \n",
       "10    January  \n",
       "11    January  \n",
       "12    January  \n",
       "14    January  \n",
       "13    January  \n",
       "15    January  \n",
       "16    January  \n",
       "17    January  \n",
       "18    January  \n",
       "19    January  \n",
       "20    January  \n",
       "21    January  \n",
       "22    January  \n",
       "23    January  \n",
       "24    January  \n",
       "25    January  \n",
       "26    January  \n",
       "27    January  \n",
       "28    January  \n",
       "31    January  \n",
       "30    January  \n",
       "29    January  \n",
       "32    January  \n",
       "33    January  \n",
       "34    January  \n",
       "35    January  \n",
       "36    January  \n",
       "37    January  \n",
       "38    January  \n",
       "39    January  \n",
       "40    January  \n",
       "41    January  \n",
       "42    January  \n",
       "45    January  \n",
       "46    January  \n",
       "43    January  \n",
       "44    January  \n",
       "47    January  \n",
       "48    January  \n",
       "49    January  \n",
       "50    January  \n",
       "59    January  \n",
       "58    January  \n",
       "57    January  \n",
       "56    January  \n",
       "53    January  \n",
       "54    January  \n",
       "52    January  \n",
       "51    January  \n",
       "60    January  \n",
       "55    January  \n",
       "63    January  \n",
       "64    January  \n",
       "61    January  \n",
       "62    January  \n",
       "65   February  \n",
       "66   February  \n",
       "67   February  \n",
       "68   February  \n",
       "69   February  \n",
       "70   February  \n",
       "71   February  \n",
       "72   February  \n",
       "73   February  \n",
       "74   February  \n",
       "75   February  \n",
       "76   February  \n",
       "77   February  \n",
       "78   February  \n",
       "79   February  \n",
       "80   February  \n",
       "81   February  \n",
       "82   February  \n",
       "83   February  \n",
       "84   February  \n",
       "85   February  \n",
       "86   February  \n",
       "92   February  \n",
       "91   February  \n",
       "90   February  \n",
       "88   February  \n",
       "87   February  \n",
       "89   February  \n",
       "95   February  \n",
       "96   February  \n",
       "100  February  \n",
       "99   February  \n",
       "97   February  \n",
       "98   February  \n",
       "101  February  \n",
       "102     March  \n",
       "103     March  \n",
       "104     March  \n",
       "105     March  \n",
       "106     March  \n",
       "107     March  \n",
       "108     March  \n",
       "109     March  \n",
       "110     March  \n",
       "111     March  \n",
       "112     March  \n",
       "113     March  \n",
       "114     March  \n",
       "116     March  \n",
       "115     March  \n",
       "117     March  \n",
       "118     March  \n",
       "119     March  \n",
       "120     March  \n",
       "121     March  \n",
       "122     March  \n",
       "123     March  \n",
       "124     March  \n",
       "125     March  \n",
       "126     March  \n",
       "128     April  \n",
       "129     April  \n",
       "127     April  \n",
       "130     April  \n",
       "131     April  \n",
       "132     April  \n",
       "133     April  \n",
       "134     April  \n",
       "135     April  \n",
       "136     April  \n",
       "137     April  \n",
       "138     April  \n",
       "139     April  \n",
       "140     April  \n",
       "141     April  \n",
       "142     April  \n",
       "143     April  \n",
       "144     April  \n",
       "147     April  \n",
       "145     April  \n",
       "146     April  \n",
       "148     April  \n",
       "149     April  \n",
       "150     April  \n",
       "151     April  \n",
       "152     April  \n",
       "153     April  \n",
       "154     April  \n",
       "155     April  \n",
       "156     April  \n",
       "163     April  \n",
       "164     April  \n",
       "161     April  \n",
       "162     April  \n",
       "159     April  \n",
       "158     April  \n",
       "157     April  \n",
       "160     April  \n",
       "165     April  \n",
       "166     April  \n",
       "167     April  \n",
       "168     April  \n",
       "169     April  \n",
       "170     April  \n",
       "171     April  \n",
       "172     April  \n",
       "173     April  \n",
       "174     April  \n",
       "179       May  \n",
       "178       May  \n",
       "177       May  \n",
       "175       May  \n",
       "176       May  \n",
       "180       May  \n",
       "181       May  \n",
       "182       May  \n",
       "183       May  \n",
       "184       May  \n",
       "185       May  \n",
       "186       May  \n",
       "187       May  \n",
       "188       May  \n",
       "189       May  \n",
       "190       May  \n",
       "192       May  \n",
       "191       May  \n",
       "195       May  \n",
       "196       May  \n",
       "193       May  \n",
       "194       May  \n",
       "197       May  \n",
       "198       May  \n",
       "199       May  \n",
       "200       May  \n",
       "201       May  \n",
       "202       May  \n",
       "203       May  \n",
       "204      June  \n",
       "205      June  \n",
       "206      June  \n",
       "207      June  \n",
       "208      June  \n",
       "209      June  \n",
       "210      June  \n",
       "211      June  \n",
       "212      June  \n",
       "213      June  \n",
       "214      June  \n",
       "219      June  \n",
       "218      June  \n",
       "220      June  \n",
       "216      June  \n",
       "215      June  \n",
       "217      June  \n",
       "221      June  \n",
       "222      June  \n",
       "227      June  \n",
       "223      June  \n",
       "224      June  \n",
       "225      June  \n",
       "226      June  \n",
       "229      June  \n",
       "228      June  \n",
       "230      June  \n",
       "231      June  \n",
       "232      June  \n",
       "233      June  \n",
       "234      June  \n",
       "235      June  \n",
       "236      June  \n",
       "237      June  \n",
       "238      June  \n",
       "239      June  \n",
       "240      July  \n",
       "241      July  \n",
       "242      July  \n",
       "243      July  \n",
       "244      July  \n",
       "245      July  \n",
       "246      July  \n",
       "247      July  \n",
       "248      July  \n",
       "249      July  \n",
       "250      July  \n",
       "251      July  \n",
       "252      July  \n",
       "253      July  \n",
       "254      July  \n",
       "255      July  \n",
       "256      July  \n",
       "257      July  \n",
       "258      July  \n",
       "259      July  \n",
       "260      July  \n",
       "261      July  "
      ]
     },
     "execution_count": 81,
     "metadata": {},
     "output_type": "execute_result"
    }
   ],
   "source": [
    "df_main"
   ]
  },
  {
   "cell_type": "markdown",
   "id": "a6d3cfdc",
   "metadata": {},
   "source": [
    "#### Export and convert file to csv format for visualization in Tableau"
   ]
  },
  {
   "cell_type": "code",
   "execution_count": 82,
   "id": "1c8b1f78",
   "metadata": {},
   "outputs": [],
   "source": [
    "df_main.to_csv(r'C:\\Users\\DELL\\Desktop\\DataSets\\bank_statement_cleaned.csv', index=False)"
   ]
  },
  {
   "cell_type": "code",
   "execution_count": null,
   "id": "6c0ef931",
   "metadata": {},
   "outputs": [],
   "source": []
  },
  {
   "cell_type": "code",
   "execution_count": null,
   "id": "1c94f1bc",
   "metadata": {},
   "outputs": [],
   "source": []
  },
  {
   "cell_type": "code",
   "execution_count": null,
   "id": "0eca9c0b",
   "metadata": {},
   "outputs": [],
   "source": []
  }
 ],
 "metadata": {
  "kernelspec": {
   "display_name": "Python 3 (ipykernel)",
   "language": "python",
   "name": "python3"
  },
  "language_info": {
   "codemirror_mode": {
    "name": "ipython",
    "version": 3
   },
   "file_extension": ".py",
   "mimetype": "text/x-python",
   "name": "python",
   "nbconvert_exporter": "python",
   "pygments_lexer": "ipython3",
   "version": "3.10.9"
  }
 },
 "nbformat": 4,
 "nbformat_minor": 5
}
